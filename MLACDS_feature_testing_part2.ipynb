{
 "cells": [
  {
   "cell_type": "markdown",
   "id": "0ed97cb3-3967-4d41-8dd8-aa86842e90e9",
   "metadata": {},
   "source": [
    "# Deliverables:\n",
    "Base params: 4 NN inv distances with volume\n",
    "Feature Testing:\n",
    "1) Evaluate if including full distance information vs none affects performance.\n",
    "2) Evaluate if including n_particles as a feature between different particle simulation sizes improves performance.\n",
    "Volume Fraction Testing (using best model and features):\n",
    "1) Train on Multiple volume fractions (same N) then test on unseen volume fraction.\n",
    "2) Train on multiple volume fractions and N particles then test on unseen N particles."
   ]
  },
  {
   "cell_type": "code",
   "execution_count": 31,
   "id": "81a16cbe-317e-4361-a674-750aee3c44fe",
   "metadata": {},
   "outputs": [],
   "source": [
    "import MLACDS as dt #diffusion simulation tools\n",
    "import pandas as pd\n",
    "import numpy as np\n",
    "pd.set_option('display.max_columns', 32)"
   ]
  },
  {
   "cell_type": "code",
   "execution_count": 26,
   "id": "abbe302a-3dec-45b2-9270-ff6eda2ecd73",
   "metadata": {},
   "outputs": [
    {
     "name": "stdout",
     "output_type": "stream",
     "text": [
      "phi:0.05    n_particles:54    req. boxsize: 8.269402402813594\n",
      "phi:0.1    n_particles:54    req. boxsize: 6.563429036687327\n",
      "phi:0.15    n_particles:54    req. boxsize: 5.733683388133033\n",
      "phi:0.2    n_particles:54    req. boxsize: 5.209397078678045\n",
      "phi:0.25    n_particles:54    req. boxsize: 4.835975862049408\n",
      "phi:0.3    n_particles:54    req. boxsize: 4.550827520987483\n",
      "phi:0.35    n_particles:54    req. boxsize: 4.322895918727637\n",
      "phi:0.4    n_particles:54    req. boxsize: 4.134701201406797\n",
      "phi:0.05    n_particles:108    req. boxsize: 10.41879415735609\n",
      "phi:0.1    n_particles:108    req. boxsize: 8.269402402813594\n",
      "phi:0.15    n_particles:108    req. boxsize: 7.223988394141365\n",
      "phi:0.2    n_particles:108    req. boxsize: 6.563429036687327\n",
      "phi:0.25    n_particles:108    req. boxsize: 6.092947785379555\n",
      "phi:0.3    n_particles:108    req. boxsize: 5.733683388133033\n",
      "phi:0.35    n_particles:108    req. boxsize: 5.446507564509587\n",
      "phi:0.4    n_particles:108    req. boxsize: 5.209397078678045\n",
      "\n",
      "Unseen Volume Fraction, Seen Num Particles\n",
      "phi:0.17    n_particles:54    req. boxsize: 5.499389585946451\n",
      "\n",
      "Seen Volume Fraction, Unseen Num Particles\n",
      "phi:0.2    n_particles:72    req. boxsize: 5.733683388133033\n"
     ]
    }
   ],
   "source": [
    "volfracs = [0.05, 0.1, 0.15, 0.2, 0.25, 0.3, 0.35, 0.4]\n",
    "N_list = [54, 108]\n",
    "\n",
    "for N_particles in N_list:\n",
    "    for phi in volfracs:\n",
    "        params = dt.findparams(phi, N_particles)\n",
    "\n",
    "        print(f\"phi:{phi}    n_particles:{N_particles}    req. boxsize: {params}\")\n",
    "\n",
    "print(\"\\nUnseen Volume Fraction, Seen Num Particles\")\n",
    "params = dt.findparams(0.17, 54)\n",
    "print(f\"phi:{0.17}    n_particles:{54}    req. boxsize: {params}\")\n",
    "\n",
    "print(\"\\nSeen Volume Fraction, Unseen Num Particles\")\n",
    "params = dt.findparams(0.2, 72)\n",
    "print(f\"phi:{0.2}    n_particles:{72}    req. boxsize: {params}\")\n",
    "\n"
   ]
  },
  {
   "cell_type": "code",
   "execution_count": 34,
   "id": "616582b3-4f73-4e43-b1e8-ddeb8f540b41",
   "metadata": {},
   "outputs": [
    {
     "name": "stdout",
     "output_type": "stream",
     "text": [
      "['p0.05_n54', 'p0.1_n54', 'p0.15_n54', 'p0.2_n54', 'p0.25_n54', 'p0.3_n54', 'p0.35_n54', 'p0.4_n54'] \n",
      "\n",
      "['p0.05_n108', 'p0.1_n108', 'p0.15_n108', 'p0.2_n108', 'p0.25_n108', 'p0.3_n108', 'p0.35_n108', 'p0.4_n108'] \n",
      "\n",
      "['p0.17_n54', 'p0.2_n72']\n"
     ]
    }
   ],
   "source": [
    "test_files = [\"p0.17_n54\",\"p0.2_n72\"]\n",
    "filenames = [[],[]]\n",
    "for phi in volfracs:\n",
    "    filenames[0].append(f\"p{phi}_n54\")\n",
    "    filenames[1].append(f\"p{phi}_n108\")\n",
    "\n",
    "print(filenames[0],\"\\n\")\n",
    "print(filenames[1],\"\\n\")\n",
    "print(test_files)"
   ]
  },
  {
   "cell_type": "code",
   "execution_count": 1,
   "id": "7055e914-5983-4187-a6dd-3f7f5d36c9fa",
   "metadata": {},
   "outputs": [],
   "source": [
    "N_neighbours = 4 ### number of neighbours to be extracted\n",
    "\n",
    "dist = False\n",
    "dist_inv = True\n",
    "bond_order = False\n",
    "angular True\n",
    "\n",
    "dires = ['p0.05_n54', 'p0.1_n54', 'p0.15_n54',\n",
    "         'p0.2_n54', 'p0.25_n54', 'p0.3_n54',\n",
    "         'p0.35_n54', 'p0.4_n54']\n",
    "\n",
    "f_r_cut_vol = 4\n",
    "f_r_cut_sp = 30\n",
    "\n",
    "path=\"data/all_simulation_data\"\n"
   ]
  },
  {
   "cell_type": "code",
   "execution_count": null,
   "id": "e8abe063-42c2-4dfb-963e-5b465c855612",
   "metadata": {},
   "outputs": [],
   "source": [
    "df = dt.get_data(path, dires, f_r_cut_vol, f_r_cut_sp,\n",
    "                      N_neighbours, dist=True, dist_inv=True, bond_order=True, angular=True)\n"
   ]
  }
 ],
 "metadata": {
  "kernelspec": {
   "display_name": "Python 3 (ipykernel)",
   "language": "python",
   "name": "python3"
  },
  "language_info": {
   "codemirror_mode": {
    "name": "ipython",
    "version": 3
   },
   "file_extension": ".py",
   "mimetype": "text/x-python",
   "name": "python",
   "nbconvert_exporter": "python",
   "pygments_lexer": "ipython3",
   "version": "3.11.5"
  }
 },
 "nbformat": 4,
 "nbformat_minor": 5
}
