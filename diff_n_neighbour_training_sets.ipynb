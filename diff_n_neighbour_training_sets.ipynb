{
 "cells": [
  {
   "cell_type": "code",
   "execution_count": 1,
   "id": "209507c5-f9d6-4a1e-bc94-4f4a18d3c572",
   "metadata": {},
   "outputs": [],
   "source": [
    "import numpy as np\n",
    "import pandas as pd\n",
    "import pickle \n",
    "import MLACDS as dt"
   ]
  },
  {
   "cell_type": "code",
   "execution_count": 2,
   "id": "f96bca8b-4814-48a1-b179-134e83282085",
   "metadata": {},
   "outputs": [],
   "source": [
    "def vary_n_neighbours(N_neighbours_list, df_list):\n",
    "    frames = {} #dict to save frames to\n",
    "    for df_ind, N_neighbours in enumerate(N_neighbours_list):\n",
    "        print(df_list[df_ind], N_neighbours)\n",
    "        #### list with names to be used in the final dataframe\n",
    "        l_s = list(range(N_neighbours))\n",
    "        l_s_names = []\n",
    "        \n",
    "        for i in l_s:\n",
    "            l_s_names.append('l'+str(i)+\"_inv\")\n",
    "        \n",
    "        bo = []\n",
    "        bo_names = []\n",
    "        \n",
    "        f_r_cut_vol = 4 # cutoff for local volume fraction calculation (too small underestimate local volume fraction, too large, too close to total volume fraction)\n",
    "        \n",
    "        f_r_cut_sp = 30 # cutoff for n_neighbours for distance calculation value times particle radius\n",
    "        \n",
    "        df = dt.load_data(dires, l_s, l_s_names, bo, bo_names, f_r_cut_vol, f_r_cut_sp, N_neighbours, use_bond_order=False)\n",
    "        frames[df_list[df_ind]] = df\n",
    "    return frames"
   ]
  },
  {
   "cell_type": "code",
   "execution_count": 3,
   "id": "89dde068-cdb6-4a63-b367-8deace217f3b",
   "metadata": {},
   "outputs": [],
   "source": [
    "dires = ['p0.1_N54/', 'p0.2_N54/'] "
   ]
  },
  {
   "cell_type": "code",
   "execution_count": 4,
   "id": "a5c1a142-ec7c-4d89-a462-9344e42b1b28",
   "metadata": {},
   "outputs": [],
   "source": [
    "N_neighbours_start = 1\n",
    "N_neighbours_end = 16"
   ]
  },
  {
   "cell_type": "code",
   "execution_count": 5,
   "id": "3dc18d5b-970e-4c96-9bea-dc302a37ac60",
   "metadata": {},
   "outputs": [],
   "source": [
    "N_neighbours_list = [i for i in range(N_neighbours_start, N_neighbours_end+1)]\n",
    "df_list = [f\"df_n{i}\" for i in range(N_neighbours_start, N_neighbours_end+1)]"
   ]
  },
  {
   "cell_type": "code",
   "execution_count": 6,
   "id": "fddd626d-9e05-42f7-bfdf-48b82ffd9526",
   "metadata": {},
   "outputs": [
    {
     "name": "stdout",
     "output_type": "stream",
     "text": [
      "df_n1 1\n",
      "['l0_inv']\n",
      "p0.1_N54/\n"
     ]
    },
    {
     "data": {
      "application/vnd.jupyter.widget-view+json": {
       "model_id": "5be6ddcd5c2942fca4f8802690494e1f",
       "version_major": 2,
       "version_minor": 0
      },
      "text/plain": [
       "  0%|          | 0/200 [00:00<?, ?it/s]"
      ]
     },
     "metadata": {},
     "output_type": "display_data"
    },
    {
     "name": "stderr",
     "output_type": "stream",
     "text": [
      "/home/richard/Work/4th_Year_College/final_year_project/MLACDS/MLACDS.py:543: FutureWarning: The behavior of DataFrame concatenation with empty or all-NA entries is deprecated. In a future version, this will no longer exclude empty or all-NA columns when determining the result dtypes. To retain the old behavior, exclude the relevant entries before the concat operation.\n",
      "  df = pd.concat([df,df2],ignore_index=True)\n"
     ]
    },
    {
     "name": "stdout",
     "output_type": "stream",
     "text": [
      "['l0_inv']\n",
      "p0.2_N54/\n"
     ]
    },
    {
     "data": {
      "application/vnd.jupyter.widget-view+json": {
       "model_id": "4f89b2fbcd8e4fa7afc0066333693604",
       "version_major": 2,
       "version_minor": 0
      },
      "text/plain": [
       "  0%|          | 0/100 [00:00<?, ?it/s]"
      ]
     },
     "metadata": {},
     "output_type": "display_data"
    },
    {
     "name": "stderr",
     "output_type": "stream",
     "text": [
      "/home/richard/Work/4th_Year_College/final_year_project/MLACDS/MLACDS.py:543: FutureWarning: The behavior of DataFrame concatenation with empty or all-NA entries is deprecated. In a future version, this will no longer exclude empty or all-NA columns when determining the result dtypes. To retain the old behavior, exclude the relevant entries before the concat operation.\n",
      "  df = pd.concat([df,df2],ignore_index=True)\n"
     ]
    },
    {
     "name": "stdout",
     "output_type": "stream",
     "text": [
      "         l0_inv       vol  n_neighbours        Ds  drop1\n",
      "0      0.808400  0.139783          53.0  0.521434    inf\n",
      "1      0.837130  0.142876          53.0  0.532875    inf\n",
      "2      0.919762  0.106246          53.0  0.485428    inf\n",
      "3      0.910404  0.119037          53.0  0.492425    inf\n",
      "4      0.810641  0.075929          53.0  0.562989    inf\n",
      "...         ...       ...           ...       ...    ...\n",
      "16195  0.857511  0.215685          53.0  0.393998    inf\n",
      "16196  0.864222  0.198661          53.0  0.386789    inf\n",
      "16197  0.852348  0.201818          53.0  0.374940    inf\n",
      "16198  0.796437  0.238355          53.0  0.415230    inf\n",
      "16199  0.815197  0.185016          53.0  0.422381    inf\n",
      "\n",
      "[16200 rows x 5 columns]\n",
      "df_n2 2\n",
      "['l0_inv', 'l1_inv']\n",
      "p0.1_N54/\n"
     ]
    },
    {
     "data": {
      "application/vnd.jupyter.widget-view+json": {
       "model_id": "46ba6dbfb21b44609b6584d7c4ed5390",
       "version_major": 2,
       "version_minor": 0
      },
      "text/plain": [
       "  0%|          | 0/200 [00:00<?, ?it/s]"
      ]
     },
     "metadata": {},
     "output_type": "display_data"
    },
    {
     "name": "stderr",
     "output_type": "stream",
     "text": [
      "/home/richard/Work/4th_Year_College/final_year_project/MLACDS/MLACDS.py:543: FutureWarning: The behavior of DataFrame concatenation with empty or all-NA entries is deprecated. In a future version, this will no longer exclude empty or all-NA columns when determining the result dtypes. To retain the old behavior, exclude the relevant entries before the concat operation.\n",
      "  df = pd.concat([df,df2],ignore_index=True)\n"
     ]
    },
    {
     "name": "stdout",
     "output_type": "stream",
     "text": [
      "['l0_inv', 'l1_inv']\n",
      "p0.2_N54/\n"
     ]
    },
    {
     "data": {
      "application/vnd.jupyter.widget-view+json": {
       "model_id": "a52908eac8f74939a9769e5b5a99ef63",
       "version_major": 2,
       "version_minor": 0
      },
      "text/plain": [
       "  0%|          | 0/100 [00:00<?, ?it/s]"
      ]
     },
     "metadata": {},
     "output_type": "display_data"
    },
    {
     "name": "stderr",
     "output_type": "stream",
     "text": [
      "/home/richard/Work/4th_Year_College/final_year_project/MLACDS/MLACDS.py:543: FutureWarning: The behavior of DataFrame concatenation with empty or all-NA entries is deprecated. In a future version, this will no longer exclude empty or all-NA columns when determining the result dtypes. To retain the old behavior, exclude the relevant entries before the concat operation.\n",
      "  df = pd.concat([df,df2],ignore_index=True)\n"
     ]
    },
    {
     "name": "stdout",
     "output_type": "stream",
     "text": [
      "         l0_inv    l1_inv       vol  n_neighbours        Ds  drop1\n",
      "0      0.808400  0.774553  0.139783          53.0  0.521434    inf\n",
      "1      0.837130  0.654626  0.142876          53.0  0.532875    inf\n",
      "2      0.919762  0.910404  0.106246          53.0  0.485428    inf\n",
      "3      0.910404  0.810641  0.119037          53.0  0.492425    inf\n",
      "4      0.810641  0.671539  0.075929          53.0  0.562989    inf\n",
      "...         ...       ...       ...           ...       ...    ...\n",
      "16195  0.857511  0.803709  0.215685          53.0  0.393998    inf\n",
      "16196  0.864222  0.857511  0.198661          53.0  0.386789    inf\n",
      "16197  0.852348  0.840062  0.201818          53.0  0.374940    inf\n",
      "16198  0.796437  0.758259  0.238355          53.0  0.415230    inf\n",
      "16199  0.815197  0.804425  0.185016          53.0  0.422381    inf\n",
      "\n",
      "[16200 rows x 6 columns]\n",
      "df_n3 3\n",
      "['l0_inv', 'l1_inv', 'l2_inv']\n",
      "p0.1_N54/\n"
     ]
    },
    {
     "data": {
      "application/vnd.jupyter.widget-view+json": {
       "model_id": "49663cc92f4e40b3a3ab3b6c6adb739f",
       "version_major": 2,
       "version_minor": 0
      },
      "text/plain": [
       "  0%|          | 0/200 [00:00<?, ?it/s]"
      ]
     },
     "metadata": {},
     "output_type": "display_data"
    },
    {
     "name": "stderr",
     "output_type": "stream",
     "text": [
      "/home/richard/Work/4th_Year_College/final_year_project/MLACDS/MLACDS.py:543: FutureWarning: The behavior of DataFrame concatenation with empty or all-NA entries is deprecated. In a future version, this will no longer exclude empty or all-NA columns when determining the result dtypes. To retain the old behavior, exclude the relevant entries before the concat operation.\n",
      "  df = pd.concat([df,df2],ignore_index=True)\n"
     ]
    },
    {
     "name": "stdout",
     "output_type": "stream",
     "text": [
      "['l0_inv', 'l1_inv', 'l2_inv']\n",
      "p0.2_N54/\n"
     ]
    },
    {
     "data": {
      "application/vnd.jupyter.widget-view+json": {
       "model_id": "d47eacf2f84c44479c76b6c52e00def9",
       "version_major": 2,
       "version_minor": 0
      },
      "text/plain": [
       "  0%|          | 0/100 [00:00<?, ?it/s]"
      ]
     },
     "metadata": {},
     "output_type": "display_data"
    },
    {
     "name": "stderr",
     "output_type": "stream",
     "text": [
      "/home/richard/Work/4th_Year_College/final_year_project/MLACDS/MLACDS.py:543: FutureWarning: The behavior of DataFrame concatenation with empty or all-NA entries is deprecated. In a future version, this will no longer exclude empty or all-NA columns when determining the result dtypes. To retain the old behavior, exclude the relevant entries before the concat operation.\n",
      "  df = pd.concat([df,df2],ignore_index=True)\n"
     ]
    },
    {
     "name": "stdout",
     "output_type": "stream",
     "text": [
      "         l0_inv    l1_inv    l2_inv       vol  n_neighbours        Ds  drop1\n",
      "0      0.808400  0.774553  0.708071  0.139783          53.0  0.521434    inf\n",
      "1      0.837130  0.654626  0.612513  0.142876          53.0  0.532875    inf\n",
      "2      0.919762  0.910404  0.654626  0.106246          53.0  0.485428    inf\n",
      "3      0.910404  0.810641  0.751972  0.119037          53.0  0.492425    inf\n",
      "4      0.810641  0.671539  0.556669  0.075929          53.0  0.562989    inf\n",
      "...         ...       ...       ...       ...           ...       ...    ...\n",
      "16195  0.857511  0.803709  0.743611  0.215685          53.0  0.393998    inf\n",
      "16196  0.864222  0.857511  0.821348  0.198661          53.0  0.386789    inf\n",
      "16197  0.852348  0.840062  0.794275  0.201818          53.0  0.374940    inf\n",
      "16198  0.796437  0.758259  0.729277  0.238355          53.0  0.415230    inf\n",
      "16199  0.815197  0.804425  0.692011  0.185016          53.0  0.422381    inf\n",
      "\n",
      "[16200 rows x 7 columns]\n",
      "df_n4 4\n",
      "['l0_inv', 'l1_inv', 'l2_inv', 'l3_inv']\n",
      "p0.1_N54/\n"
     ]
    },
    {
     "data": {
      "application/vnd.jupyter.widget-view+json": {
       "model_id": "866f302af42249369f28a7aef2f4529f",
       "version_major": 2,
       "version_minor": 0
      },
      "text/plain": [
       "  0%|          | 0/200 [00:00<?, ?it/s]"
      ]
     },
     "metadata": {},
     "output_type": "display_data"
    },
    {
     "name": "stderr",
     "output_type": "stream",
     "text": [
      "/home/richard/Work/4th_Year_College/final_year_project/MLACDS/MLACDS.py:543: FutureWarning: The behavior of DataFrame concatenation with empty or all-NA entries is deprecated. In a future version, this will no longer exclude empty or all-NA columns when determining the result dtypes. To retain the old behavior, exclude the relevant entries before the concat operation.\n",
      "  df = pd.concat([df,df2],ignore_index=True)\n"
     ]
    },
    {
     "name": "stdout",
     "output_type": "stream",
     "text": [
      "['l0_inv', 'l1_inv', 'l2_inv', 'l3_inv']\n",
      "p0.2_N54/\n"
     ]
    },
    {
     "data": {
      "application/vnd.jupyter.widget-view+json": {
       "model_id": "d22cad1c8e6e499085f54b151f3ea705",
       "version_major": 2,
       "version_minor": 0
      },
      "text/plain": [
       "  0%|          | 0/100 [00:00<?, ?it/s]"
      ]
     },
     "metadata": {},
     "output_type": "display_data"
    },
    {
     "name": "stderr",
     "output_type": "stream",
     "text": [
      "/home/richard/Work/4th_Year_College/final_year_project/MLACDS/MLACDS.py:543: FutureWarning: The behavior of DataFrame concatenation with empty or all-NA entries is deprecated. In a future version, this will no longer exclude empty or all-NA columns when determining the result dtypes. To retain the old behavior, exclude the relevant entries before the concat operation.\n",
      "  df = pd.concat([df,df2],ignore_index=True)\n"
     ]
    },
    {
     "name": "stdout",
     "output_type": "stream",
     "text": [
      "         l0_inv    l1_inv    l2_inv    l3_inv       vol  n_neighbours  \\\n",
      "0      0.808400  0.774553  0.708071  0.640808  0.139783          53.0   \n",
      "1      0.837130  0.654626  0.612513  0.594445  0.142876          53.0   \n",
      "2      0.919762  0.910404  0.654626  0.554297  0.106246          53.0   \n",
      "3      0.910404  0.810641  0.751972  0.655009  0.119037          53.0   \n",
      "4      0.810641  0.671539  0.556669  0.505036  0.075929          53.0   \n",
      "...         ...       ...       ...       ...       ...           ...   \n",
      "16195  0.857511  0.803709  0.743611  0.698650  0.215685          53.0   \n",
      "16196  0.864222  0.857511  0.821348  0.734750  0.198661          53.0   \n",
      "16197  0.852348  0.840062  0.794275  0.781626  0.201818          53.0   \n",
      "16198  0.796437  0.758259  0.729277  0.670857  0.238355          53.0   \n",
      "16199  0.815197  0.804425  0.692011  0.691546  0.185016          53.0   \n",
      "\n",
      "             Ds  drop1  \n",
      "0      0.521434    inf  \n",
      "1      0.532875    inf  \n",
      "2      0.485428    inf  \n",
      "3      0.492425    inf  \n",
      "4      0.562989    inf  \n",
      "...         ...    ...  \n",
      "16195  0.393998    inf  \n",
      "16196  0.386789    inf  \n",
      "16197  0.374940    inf  \n",
      "16198  0.415230    inf  \n",
      "16199  0.422381    inf  \n",
      "\n",
      "[16200 rows x 8 columns]\n",
      "df_n5 5\n",
      "['l0_inv', 'l1_inv', 'l2_inv', 'l3_inv', 'l4_inv']\n",
      "p0.1_N54/\n"
     ]
    },
    {
     "data": {
      "application/vnd.jupyter.widget-view+json": {
       "model_id": "8ce8a80f45ea4c80a788898660f4f1c1",
       "version_major": 2,
       "version_minor": 0
      },
      "text/plain": [
       "  0%|          | 0/200 [00:00<?, ?it/s]"
      ]
     },
     "metadata": {},
     "output_type": "display_data"
    },
    {
     "name": "stderr",
     "output_type": "stream",
     "text": [
      "/home/richard/Work/4th_Year_College/final_year_project/MLACDS/MLACDS.py:543: FutureWarning: The behavior of DataFrame concatenation with empty or all-NA entries is deprecated. In a future version, this will no longer exclude empty or all-NA columns when determining the result dtypes. To retain the old behavior, exclude the relevant entries before the concat operation.\n",
      "  df = pd.concat([df,df2],ignore_index=True)\n"
     ]
    },
    {
     "name": "stdout",
     "output_type": "stream",
     "text": [
      "['l0_inv', 'l1_inv', 'l2_inv', 'l3_inv', 'l4_inv']\n",
      "p0.2_N54/\n"
     ]
    },
    {
     "data": {
      "application/vnd.jupyter.widget-view+json": {
       "model_id": "0246a00ad2854919a133a37daa082aa4",
       "version_major": 2,
       "version_minor": 0
      },
      "text/plain": [
       "  0%|          | 0/100 [00:00<?, ?it/s]"
      ]
     },
     "metadata": {},
     "output_type": "display_data"
    },
    {
     "name": "stderr",
     "output_type": "stream",
     "text": [
      "/home/richard/Work/4th_Year_College/final_year_project/MLACDS/MLACDS.py:543: FutureWarning: The behavior of DataFrame concatenation with empty or all-NA entries is deprecated. In a future version, this will no longer exclude empty or all-NA columns when determining the result dtypes. To retain the old behavior, exclude the relevant entries before the concat operation.\n",
      "  df = pd.concat([df,df2],ignore_index=True)\n"
     ]
    },
    {
     "name": "stdout",
     "output_type": "stream",
     "text": [
      "         l0_inv    l1_inv    l2_inv    l3_inv    l4_inv       vol  \\\n",
      "0      0.808400  0.774553  0.708071  0.640808  0.621396  0.139783   \n",
      "1      0.837130  0.654626  0.612513  0.594445  0.579262  0.142876   \n",
      "2      0.919762  0.910404  0.654626  0.554297  0.523910  0.106246   \n",
      "3      0.910404  0.810641  0.751972  0.655009  0.554517  0.119037   \n",
      "4      0.810641  0.671539  0.556669  0.505036  0.474437  0.075929   \n",
      "...         ...       ...       ...       ...       ...       ...   \n",
      "16195  0.857511  0.803709  0.743611  0.698650  0.676909  0.215685   \n",
      "16196  0.864222  0.857511  0.821348  0.734750  0.705376  0.198661   \n",
      "16197  0.852348  0.840062  0.794275  0.781626  0.767399  0.201818   \n",
      "16198  0.796437  0.758259  0.729277  0.670857  0.608679  0.238355   \n",
      "16199  0.815197  0.804425  0.692011  0.691546  0.658428  0.185016   \n",
      "\n",
      "       n_neighbours        Ds  drop1  \n",
      "0              53.0  0.521434    inf  \n",
      "1              53.0  0.532875    inf  \n",
      "2              53.0  0.485428    inf  \n",
      "3              53.0  0.492425    inf  \n",
      "4              53.0  0.562989    inf  \n",
      "...             ...       ...    ...  \n",
      "16195          53.0  0.393998    inf  \n",
      "16196          53.0  0.386789    inf  \n",
      "16197          53.0  0.374940    inf  \n",
      "16198          53.0  0.415230    inf  \n",
      "16199          53.0  0.422381    inf  \n",
      "\n",
      "[16200 rows x 9 columns]\n",
      "df_n6 6\n",
      "['l0_inv', 'l1_inv', 'l2_inv', 'l3_inv', 'l4_inv', 'l5_inv']\n",
      "p0.1_N54/\n"
     ]
    },
    {
     "data": {
      "application/vnd.jupyter.widget-view+json": {
       "model_id": "9cf754fc8de04c29bd56eef97ac6d2e4",
       "version_major": 2,
       "version_minor": 0
      },
      "text/plain": [
       "  0%|          | 0/200 [00:00<?, ?it/s]"
      ]
     },
     "metadata": {},
     "output_type": "display_data"
    },
    {
     "name": "stderr",
     "output_type": "stream",
     "text": [
      "/home/richard/Work/4th_Year_College/final_year_project/MLACDS/MLACDS.py:543: FutureWarning: The behavior of DataFrame concatenation with empty or all-NA entries is deprecated. In a future version, this will no longer exclude empty or all-NA columns when determining the result dtypes. To retain the old behavior, exclude the relevant entries before the concat operation.\n",
      "  df = pd.concat([df,df2],ignore_index=True)\n"
     ]
    },
    {
     "name": "stdout",
     "output_type": "stream",
     "text": [
      "['l0_inv', 'l1_inv', 'l2_inv', 'l3_inv', 'l4_inv', 'l5_inv']\n",
      "p0.2_N54/\n"
     ]
    },
    {
     "data": {
      "application/vnd.jupyter.widget-view+json": {
       "model_id": "b63c742c87684fa1a4e76254484ebb88",
       "version_major": 2,
       "version_minor": 0
      },
      "text/plain": [
       "  0%|          | 0/100 [00:00<?, ?it/s]"
      ]
     },
     "metadata": {},
     "output_type": "display_data"
    },
    {
     "name": "stderr",
     "output_type": "stream",
     "text": [
      "/home/richard/Work/4th_Year_College/final_year_project/MLACDS/MLACDS.py:543: FutureWarning: The behavior of DataFrame concatenation with empty or all-NA entries is deprecated. In a future version, this will no longer exclude empty or all-NA columns when determining the result dtypes. To retain the old behavior, exclude the relevant entries before the concat operation.\n",
      "  df = pd.concat([df,df2],ignore_index=True)\n"
     ]
    },
    {
     "name": "stdout",
     "output_type": "stream",
     "text": [
      "         l0_inv    l1_inv    l2_inv    l3_inv    l4_inv    l5_inv       vol  \\\n",
      "0      0.808400  0.774553  0.708071  0.640808  0.621396  0.580007  0.139783   \n",
      "1      0.837130  0.654626  0.612513  0.594445  0.579262  0.550062  0.142876   \n",
      "2      0.919762  0.910404  0.654626  0.554297  0.523910  0.512782  0.106246   \n",
      "3      0.910404  0.810641  0.751972  0.655009  0.554517  0.515427  0.119037   \n",
      "4      0.810641  0.671539  0.556669  0.505036  0.474437  0.448297  0.075929   \n",
      "...         ...       ...       ...       ...       ...       ...       ...   \n",
      "16195  0.857511  0.803709  0.743611  0.698650  0.676909  0.658428  0.215685   \n",
      "16196  0.864222  0.857511  0.821348  0.734750  0.705376  0.633573  0.198661   \n",
      "16197  0.852348  0.840062  0.794275  0.781626  0.767399  0.734750  0.201818   \n",
      "16198  0.796437  0.758259  0.729277  0.670857  0.608679  0.593595  0.238355   \n",
      "16199  0.815197  0.804425  0.692011  0.691546  0.658428  0.653597  0.185016   \n",
      "\n",
      "       n_neighbours        Ds  drop1  \n",
      "0              53.0  0.521434    inf  \n",
      "1              53.0  0.532875    inf  \n",
      "2              53.0  0.485428    inf  \n",
      "3              53.0  0.492425    inf  \n",
      "4              53.0  0.562989    inf  \n",
      "...             ...       ...    ...  \n",
      "16195          53.0  0.393998    inf  \n",
      "16196          53.0  0.386789    inf  \n",
      "16197          53.0  0.374940    inf  \n",
      "16198          53.0  0.415230    inf  \n",
      "16199          53.0  0.422381    inf  \n",
      "\n",
      "[16200 rows x 10 columns]\n",
      "df_n7 7\n",
      "['l0_inv', 'l1_inv', 'l2_inv', 'l3_inv', 'l4_inv', 'l5_inv', 'l6_inv']\n",
      "p0.1_N54/\n"
     ]
    },
    {
     "data": {
      "application/vnd.jupyter.widget-view+json": {
       "model_id": "f824da6a58114337b53a57e59dd0e44e",
       "version_major": 2,
       "version_minor": 0
      },
      "text/plain": [
       "  0%|          | 0/200 [00:00<?, ?it/s]"
      ]
     },
     "metadata": {},
     "output_type": "display_data"
    },
    {
     "name": "stderr",
     "output_type": "stream",
     "text": [
      "/home/richard/Work/4th_Year_College/final_year_project/MLACDS/MLACDS.py:543: FutureWarning: The behavior of DataFrame concatenation with empty or all-NA entries is deprecated. In a future version, this will no longer exclude empty or all-NA columns when determining the result dtypes. To retain the old behavior, exclude the relevant entries before the concat operation.\n",
      "  df = pd.concat([df,df2],ignore_index=True)\n"
     ]
    },
    {
     "name": "stdout",
     "output_type": "stream",
     "text": [
      "['l0_inv', 'l1_inv', 'l2_inv', 'l3_inv', 'l4_inv', 'l5_inv', 'l6_inv']\n",
      "p0.2_N54/\n"
     ]
    },
    {
     "data": {
      "application/vnd.jupyter.widget-view+json": {
       "model_id": "302f1108879542e0a4fc006cc3f9f04d",
       "version_major": 2,
       "version_minor": 0
      },
      "text/plain": [
       "  0%|          | 0/100 [00:00<?, ?it/s]"
      ]
     },
     "metadata": {},
     "output_type": "display_data"
    },
    {
     "name": "stderr",
     "output_type": "stream",
     "text": [
      "/home/richard/Work/4th_Year_College/final_year_project/MLACDS/MLACDS.py:543: FutureWarning: The behavior of DataFrame concatenation with empty or all-NA entries is deprecated. In a future version, this will no longer exclude empty or all-NA columns when determining the result dtypes. To retain the old behavior, exclude the relevant entries before the concat operation.\n",
      "  df = pd.concat([df,df2],ignore_index=True)\n"
     ]
    },
    {
     "name": "stdout",
     "output_type": "stream",
     "text": [
      "         l0_inv    l1_inv    l2_inv    l3_inv    l4_inv    l5_inv    l6_inv  \\\n",
      "0      0.808400  0.774553  0.708071  0.640808  0.621396  0.580007  0.509452   \n",
      "1      0.837130  0.654626  0.612513  0.594445  0.579262  0.550062  0.533557   \n",
      "2      0.919762  0.910404  0.654626  0.554297  0.523910  0.512782  0.480448   \n",
      "3      0.910404  0.810641  0.751972  0.655009  0.554517  0.515427  0.514168   \n",
      "4      0.810641  0.671539  0.556669  0.505036  0.474437  0.448297  0.448175   \n",
      "...         ...       ...       ...       ...       ...       ...       ...   \n",
      "16195  0.857511  0.803709  0.743611  0.698650  0.676909  0.658428  0.621393   \n",
      "16196  0.864222  0.857511  0.821348  0.734750  0.705376  0.633573  0.611636   \n",
      "16197  0.852348  0.840062  0.794275  0.781626  0.767399  0.734750  0.670857   \n",
      "16198  0.796437  0.758259  0.729277  0.670857  0.608679  0.593595  0.591041   \n",
      "16199  0.815197  0.804425  0.692011  0.691546  0.658428  0.653597  0.602678   \n",
      "\n",
      "            vol  n_neighbours        Ds  drop1  \n",
      "0      0.139783          53.0  0.521434    inf  \n",
      "1      0.142876          53.0  0.532875    inf  \n",
      "2      0.106246          53.0  0.485428    inf  \n",
      "3      0.119037          53.0  0.492425    inf  \n",
      "4      0.075929          53.0  0.562989    inf  \n",
      "...         ...           ...       ...    ...  \n",
      "16195  0.215685          53.0  0.393998    inf  \n",
      "16196  0.198661          53.0  0.386789    inf  \n",
      "16197  0.201818          53.0  0.374940    inf  \n",
      "16198  0.238355          53.0  0.415230    inf  \n",
      "16199  0.185016          53.0  0.422381    inf  \n",
      "\n",
      "[16200 rows x 11 columns]\n",
      "df_n8 8\n",
      "['l0_inv', 'l1_inv', 'l2_inv', 'l3_inv', 'l4_inv', 'l5_inv', 'l6_inv', 'l7_inv']\n",
      "p0.1_N54/\n"
     ]
    },
    {
     "data": {
      "application/vnd.jupyter.widget-view+json": {
       "model_id": "203f1038145e4dc995eb86184ccbabee",
       "version_major": 2,
       "version_minor": 0
      },
      "text/plain": [
       "  0%|          | 0/200 [00:00<?, ?it/s]"
      ]
     },
     "metadata": {},
     "output_type": "display_data"
    },
    {
     "name": "stderr",
     "output_type": "stream",
     "text": [
      "/home/richard/Work/4th_Year_College/final_year_project/MLACDS/MLACDS.py:543: FutureWarning: The behavior of DataFrame concatenation with empty or all-NA entries is deprecated. In a future version, this will no longer exclude empty or all-NA columns when determining the result dtypes. To retain the old behavior, exclude the relevant entries before the concat operation.\n",
      "  df = pd.concat([df,df2],ignore_index=True)\n"
     ]
    },
    {
     "name": "stdout",
     "output_type": "stream",
     "text": [
      "['l0_inv', 'l1_inv', 'l2_inv', 'l3_inv', 'l4_inv', 'l5_inv', 'l6_inv', 'l7_inv']\n",
      "p0.2_N54/\n"
     ]
    },
    {
     "data": {
      "application/vnd.jupyter.widget-view+json": {
       "model_id": "d2d36842be984d2ca61225246215d9c8",
       "version_major": 2,
       "version_minor": 0
      },
      "text/plain": [
       "  0%|          | 0/100 [00:00<?, ?it/s]"
      ]
     },
     "metadata": {},
     "output_type": "display_data"
    },
    {
     "name": "stderr",
     "output_type": "stream",
     "text": [
      "/home/richard/Work/4th_Year_College/final_year_project/MLACDS/MLACDS.py:543: FutureWarning: The behavior of DataFrame concatenation with empty or all-NA entries is deprecated. In a future version, this will no longer exclude empty or all-NA columns when determining the result dtypes. To retain the old behavior, exclude the relevant entries before the concat operation.\n",
      "  df = pd.concat([df,df2],ignore_index=True)\n"
     ]
    },
    {
     "name": "stdout",
     "output_type": "stream",
     "text": [
      "         l0_inv    l1_inv    l2_inv    l3_inv    l4_inv    l5_inv    l6_inv  \\\n",
      "0      0.808400  0.774553  0.708071  0.640808  0.621396  0.580007  0.509452   \n",
      "1      0.837130  0.654626  0.612513  0.594445  0.579262  0.550062  0.533557   \n",
      "2      0.919762  0.910404  0.654626  0.554297  0.523910  0.512782  0.480448   \n",
      "3      0.910404  0.810641  0.751972  0.655009  0.554517  0.515427  0.514168   \n",
      "4      0.810641  0.671539  0.556669  0.505036  0.474437  0.448297  0.448175   \n",
      "...         ...       ...       ...       ...       ...       ...       ...   \n",
      "16195  0.857511  0.803709  0.743611  0.698650  0.676909  0.658428  0.621393   \n",
      "16196  0.864222  0.857511  0.821348  0.734750  0.705376  0.633573  0.611636   \n",
      "16197  0.852348  0.840062  0.794275  0.781626  0.767399  0.734750  0.670857   \n",
      "16198  0.796437  0.758259  0.729277  0.670857  0.608679  0.593595  0.591041   \n",
      "16199  0.815197  0.804425  0.692011  0.691546  0.658428  0.653597  0.602678   \n",
      "\n",
      "         l7_inv       vol  n_neighbours        Ds  drop1  \n",
      "0      0.506456  0.139783          53.0  0.521434    inf  \n",
      "1      0.515427  0.142876          53.0  0.532875    inf  \n",
      "2      0.471929  0.106246          53.0  0.485428    inf  \n",
      "3      0.507962  0.119037          53.0  0.492425    inf  \n",
      "4      0.415394  0.075929          53.0  0.562989    inf  \n",
      "...         ...       ...           ...       ...    ...  \n",
      "16195  0.614620  0.215685          53.0  0.393998    inf  \n",
      "16196  0.544488  0.198661          53.0  0.386789    inf  \n",
      "16197  0.614163  0.201818          53.0  0.374940    inf  \n",
      "16198  0.587466  0.238355          53.0  0.415230    inf  \n",
      "16199  0.591041  0.185016          53.0  0.422381    inf  \n",
      "\n",
      "[16200 rows x 12 columns]\n",
      "df_n9 9\n",
      "['l0_inv', 'l1_inv', 'l2_inv', 'l3_inv', 'l4_inv', 'l5_inv', 'l6_inv', 'l7_inv', 'l8_inv']\n",
      "p0.1_N54/\n"
     ]
    },
    {
     "data": {
      "application/vnd.jupyter.widget-view+json": {
       "model_id": "393e061b18c04be4a4504dd94d17c7de",
       "version_major": 2,
       "version_minor": 0
      },
      "text/plain": [
       "  0%|          | 0/200 [00:00<?, ?it/s]"
      ]
     },
     "metadata": {},
     "output_type": "display_data"
    },
    {
     "name": "stderr",
     "output_type": "stream",
     "text": [
      "/home/richard/Work/4th_Year_College/final_year_project/MLACDS/MLACDS.py:543: FutureWarning: The behavior of DataFrame concatenation with empty or all-NA entries is deprecated. In a future version, this will no longer exclude empty or all-NA columns when determining the result dtypes. To retain the old behavior, exclude the relevant entries before the concat operation.\n",
      "  df = pd.concat([df,df2],ignore_index=True)\n"
     ]
    },
    {
     "name": "stdout",
     "output_type": "stream",
     "text": [
      "['l0_inv', 'l1_inv', 'l2_inv', 'l3_inv', 'l4_inv', 'l5_inv', 'l6_inv', 'l7_inv', 'l8_inv']\n",
      "p0.2_N54/\n"
     ]
    },
    {
     "data": {
      "application/vnd.jupyter.widget-view+json": {
       "model_id": "118be31ed10948d49e8f5a5c392f6c06",
       "version_major": 2,
       "version_minor": 0
      },
      "text/plain": [
       "  0%|          | 0/100 [00:00<?, ?it/s]"
      ]
     },
     "metadata": {},
     "output_type": "display_data"
    },
    {
     "name": "stderr",
     "output_type": "stream",
     "text": [
      "/home/richard/Work/4th_Year_College/final_year_project/MLACDS/MLACDS.py:543: FutureWarning: The behavior of DataFrame concatenation with empty or all-NA entries is deprecated. In a future version, this will no longer exclude empty or all-NA columns when determining the result dtypes. To retain the old behavior, exclude the relevant entries before the concat operation.\n",
      "  df = pd.concat([df,df2],ignore_index=True)\n"
     ]
    },
    {
     "name": "stdout",
     "output_type": "stream",
     "text": [
      "         l0_inv    l1_inv    l2_inv    l3_inv    l4_inv    l5_inv    l6_inv  \\\n",
      "0      0.808400  0.774553  0.708071  0.640808  0.621396  0.580007  0.509452   \n",
      "1      0.837130  0.654626  0.612513  0.594445  0.579262  0.550062  0.533557   \n",
      "2      0.919762  0.910404  0.654626  0.554297  0.523910  0.512782  0.480448   \n",
      "3      0.910404  0.810641  0.751972  0.655009  0.554517  0.515427  0.514168   \n",
      "4      0.810641  0.671539  0.556669  0.505036  0.474437  0.448297  0.448175   \n",
      "...         ...       ...       ...       ...       ...       ...       ...   \n",
      "16195  0.857511  0.803709  0.743611  0.698650  0.676909  0.658428  0.621393   \n",
      "16196  0.864222  0.857511  0.821348  0.734750  0.705376  0.633573  0.611636   \n",
      "16197  0.852348  0.840062  0.794275  0.781626  0.767399  0.734750  0.670857   \n",
      "16198  0.796437  0.758259  0.729277  0.670857  0.608679  0.593595  0.591041   \n",
      "16199  0.815197  0.804425  0.692011  0.691546  0.658428  0.653597  0.602678   \n",
      "\n",
      "         l7_inv    l8_inv       vol  n_neighbours        Ds  drop1  \n",
      "0      0.506456  0.498234  0.139783          53.0  0.521434    inf  \n",
      "1      0.515427  0.506456  0.142876          53.0  0.532875    inf  \n",
      "2      0.471929  0.448175  0.106246          53.0  0.485428    inf  \n",
      "3      0.507962  0.447708  0.119037          53.0  0.492425    inf  \n",
      "4      0.415394  0.394150  0.075929          53.0  0.562989    inf  \n",
      "...         ...       ...       ...           ...       ...    ...  \n",
      "16195  0.614620  0.600692  0.215685          53.0  0.393998    inf  \n",
      "16196  0.544488  0.542580  0.198661          53.0  0.386789    inf  \n",
      "16197  0.614163  0.571852  0.201818          53.0  0.374940    inf  \n",
      "16198  0.587466  0.552172  0.238355          53.0  0.415230    inf  \n",
      "16199  0.591041  0.513711  0.185016          53.0  0.422381    inf  \n",
      "\n",
      "[16200 rows x 13 columns]\n",
      "df_n10 10\n",
      "['l0_inv', 'l1_inv', 'l2_inv', 'l3_inv', 'l4_inv', 'l5_inv', 'l6_inv', 'l7_inv', 'l8_inv', 'l9_inv']\n",
      "p0.1_N54/\n"
     ]
    },
    {
     "data": {
      "application/vnd.jupyter.widget-view+json": {
       "model_id": "47636a4371ca407193ee78a45fc58b92",
       "version_major": 2,
       "version_minor": 0
      },
      "text/plain": [
       "  0%|          | 0/200 [00:00<?, ?it/s]"
      ]
     },
     "metadata": {},
     "output_type": "display_data"
    },
    {
     "name": "stderr",
     "output_type": "stream",
     "text": [
      "/home/richard/Work/4th_Year_College/final_year_project/MLACDS/MLACDS.py:543: FutureWarning: The behavior of DataFrame concatenation with empty or all-NA entries is deprecated. In a future version, this will no longer exclude empty or all-NA columns when determining the result dtypes. To retain the old behavior, exclude the relevant entries before the concat operation.\n",
      "  df = pd.concat([df,df2],ignore_index=True)\n"
     ]
    },
    {
     "name": "stdout",
     "output_type": "stream",
     "text": [
      "['l0_inv', 'l1_inv', 'l2_inv', 'l3_inv', 'l4_inv', 'l5_inv', 'l6_inv', 'l7_inv', 'l8_inv', 'l9_inv']\n",
      "p0.2_N54/\n"
     ]
    },
    {
     "data": {
      "application/vnd.jupyter.widget-view+json": {
       "model_id": "d037a2b2950a4abe9569ae8f5c8aabbf",
       "version_major": 2,
       "version_minor": 0
      },
      "text/plain": [
       "  0%|          | 0/100 [00:00<?, ?it/s]"
      ]
     },
     "metadata": {},
     "output_type": "display_data"
    },
    {
     "name": "stderr",
     "output_type": "stream",
     "text": [
      "/home/richard/Work/4th_Year_College/final_year_project/MLACDS/MLACDS.py:543: FutureWarning: The behavior of DataFrame concatenation with empty or all-NA entries is deprecated. In a future version, this will no longer exclude empty or all-NA columns when determining the result dtypes. To retain the old behavior, exclude the relevant entries before the concat operation.\n",
      "  df = pd.concat([df,df2],ignore_index=True)\n"
     ]
    },
    {
     "name": "stdout",
     "output_type": "stream",
     "text": [
      "         l0_inv    l1_inv    l2_inv    l3_inv    l4_inv    l5_inv    l6_inv  \\\n",
      "0      0.808400  0.774553  0.708071  0.640808  0.621396  0.580007  0.509452   \n",
      "1      0.837130  0.654626  0.612513  0.594445  0.579262  0.550062  0.533557   \n",
      "2      0.919762  0.910404  0.654626  0.554297  0.523910  0.512782  0.480448   \n",
      "3      0.910404  0.810641  0.751972  0.655009  0.554517  0.515427  0.514168   \n",
      "4      0.810641  0.671539  0.556669  0.505036  0.474437  0.448297  0.448175   \n",
      "...         ...       ...       ...       ...       ...       ...       ...   \n",
      "16195  0.857511  0.803709  0.743611  0.698650  0.676909  0.658428  0.621393   \n",
      "16196  0.864222  0.857511  0.821348  0.734750  0.705376  0.633573  0.611636   \n",
      "16197  0.852348  0.840062  0.794275  0.781626  0.767399  0.734750  0.670857   \n",
      "16198  0.796437  0.758259  0.729277  0.670857  0.608679  0.593595  0.591041   \n",
      "16199  0.815197  0.804425  0.692011  0.691546  0.658428  0.653597  0.602678   \n",
      "\n",
      "         l7_inv    l8_inv    l9_inv       vol  n_neighbours        Ds  drop1  \n",
      "0      0.506456  0.498234  0.463486  0.139783          53.0  0.521434    inf  \n",
      "1      0.515427  0.506456  0.502861  0.142876          53.0  0.532875    inf  \n",
      "2      0.471929  0.448175  0.436295  0.106246          53.0  0.485428    inf  \n",
      "3      0.507962  0.447708  0.437793  0.119037          53.0  0.492425    inf  \n",
      "4      0.415394  0.394150  0.393172  0.075929          53.0  0.562989    inf  \n",
      "...         ...       ...       ...       ...           ...       ...    ...  \n",
      "16195  0.614620  0.600692  0.578749  0.215685          53.0  0.393998    inf  \n",
      "16196  0.544488  0.542580  0.522569  0.198661          53.0  0.386789    inf  \n",
      "16197  0.614163  0.571852  0.524079  0.201818          53.0  0.374940    inf  \n",
      "16198  0.587466  0.552172  0.550006  0.238355          53.0  0.415230    inf  \n",
      "16199  0.591041  0.513711  0.492380  0.185016          53.0  0.422381    inf  \n",
      "\n",
      "[16200 rows x 14 columns]\n",
      "df_n11 11\n",
      "['l0_inv', 'l1_inv', 'l2_inv', 'l3_inv', 'l4_inv', 'l5_inv', 'l6_inv', 'l7_inv', 'l8_inv', 'l9_inv', 'l10_inv']\n",
      "p0.1_N54/\n"
     ]
    },
    {
     "data": {
      "application/vnd.jupyter.widget-view+json": {
       "model_id": "97a7048e6fa2480293027bd4b008a91e",
       "version_major": 2,
       "version_minor": 0
      },
      "text/plain": [
       "  0%|          | 0/200 [00:00<?, ?it/s]"
      ]
     },
     "metadata": {},
     "output_type": "display_data"
    },
    {
     "name": "stderr",
     "output_type": "stream",
     "text": [
      "/home/richard/Work/4th_Year_College/final_year_project/MLACDS/MLACDS.py:543: FutureWarning: The behavior of DataFrame concatenation with empty or all-NA entries is deprecated. In a future version, this will no longer exclude empty or all-NA columns when determining the result dtypes. To retain the old behavior, exclude the relevant entries before the concat operation.\n",
      "  df = pd.concat([df,df2],ignore_index=True)\n"
     ]
    },
    {
     "name": "stdout",
     "output_type": "stream",
     "text": [
      "['l0_inv', 'l1_inv', 'l2_inv', 'l3_inv', 'l4_inv', 'l5_inv', 'l6_inv', 'l7_inv', 'l8_inv', 'l9_inv', 'l10_inv']\n",
      "p0.2_N54/\n"
     ]
    },
    {
     "data": {
      "application/vnd.jupyter.widget-view+json": {
       "model_id": "2966da3269d940728748d3931bd88d7d",
       "version_major": 2,
       "version_minor": 0
      },
      "text/plain": [
       "  0%|          | 0/100 [00:00<?, ?it/s]"
      ]
     },
     "metadata": {},
     "output_type": "display_data"
    },
    {
     "name": "stderr",
     "output_type": "stream",
     "text": [
      "/home/richard/Work/4th_Year_College/final_year_project/MLACDS/MLACDS.py:543: FutureWarning: The behavior of DataFrame concatenation with empty or all-NA entries is deprecated. In a future version, this will no longer exclude empty or all-NA columns when determining the result dtypes. To retain the old behavior, exclude the relevant entries before the concat operation.\n",
      "  df = pd.concat([df,df2],ignore_index=True)\n"
     ]
    },
    {
     "name": "stdout",
     "output_type": "stream",
     "text": [
      "         l0_inv    l1_inv    l2_inv    l3_inv    l4_inv    l5_inv    l6_inv  \\\n",
      "0      0.808400  0.774553  0.708071  0.640808  0.621396  0.580007  0.509452   \n",
      "1      0.837130  0.654626  0.612513  0.594445  0.579262  0.550062  0.533557   \n",
      "2      0.919762  0.910404  0.654626  0.554297  0.523910  0.512782  0.480448   \n",
      "3      0.910404  0.810641  0.751972  0.655009  0.554517  0.515427  0.514168   \n",
      "4      0.810641  0.671539  0.556669  0.505036  0.474437  0.448297  0.448175   \n",
      "...         ...       ...       ...       ...       ...       ...       ...   \n",
      "16195  0.857511  0.803709  0.743611  0.698650  0.676909  0.658428  0.621393   \n",
      "16196  0.864222  0.857511  0.821348  0.734750  0.705376  0.633573  0.611636   \n",
      "16197  0.852348  0.840062  0.794275  0.781626  0.767399  0.734750  0.670857   \n",
      "16198  0.796437  0.758259  0.729277  0.670857  0.608679  0.593595  0.591041   \n",
      "16199  0.815197  0.804425  0.692011  0.691546  0.658428  0.653597  0.602678   \n",
      "\n",
      "         l7_inv    l8_inv    l9_inv   l10_inv       vol  n_neighbours  \\\n",
      "0      0.506456  0.498234  0.463486  0.457623  0.139783          53.0   \n",
      "1      0.515427  0.506456  0.502861  0.484893  0.142876          53.0   \n",
      "2      0.471929  0.448175  0.436295  0.422622  0.106246          53.0   \n",
      "3      0.507962  0.447708  0.437793  0.425322  0.119037          53.0   \n",
      "4      0.415394  0.394150  0.393172  0.381960  0.075929          53.0   \n",
      "...         ...       ...       ...       ...       ...           ...   \n",
      "16195  0.614620  0.600692  0.578749  0.566328  0.215685          53.0   \n",
      "16196  0.544488  0.542580  0.522569  0.507504  0.198661          53.0   \n",
      "16197  0.614163  0.571852  0.524079  0.510459  0.201818          53.0   \n",
      "16198  0.587466  0.552172  0.550006  0.543178  0.238355          53.0   \n",
      "16199  0.591041  0.513711  0.492380  0.487766  0.185016          53.0   \n",
      "\n",
      "             Ds  drop1  \n",
      "0      0.521434    inf  \n",
      "1      0.532875    inf  \n",
      "2      0.485428    inf  \n",
      "3      0.492425    inf  \n",
      "4      0.562989    inf  \n",
      "...         ...    ...  \n",
      "16195  0.393998    inf  \n",
      "16196  0.386789    inf  \n",
      "16197  0.374940    inf  \n",
      "16198  0.415230    inf  \n",
      "16199  0.422381    inf  \n",
      "\n",
      "[16200 rows x 15 columns]\n",
      "df_n12 12\n",
      "['l0_inv', 'l1_inv', 'l2_inv', 'l3_inv', 'l4_inv', 'l5_inv', 'l6_inv', 'l7_inv', 'l8_inv', 'l9_inv', 'l10_inv', 'l11_inv']\n",
      "p0.1_N54/\n"
     ]
    },
    {
     "data": {
      "application/vnd.jupyter.widget-view+json": {
       "model_id": "e03369f8001547be95949eab37ac618e",
       "version_major": 2,
       "version_minor": 0
      },
      "text/plain": [
       "  0%|          | 0/200 [00:00<?, ?it/s]"
      ]
     },
     "metadata": {},
     "output_type": "display_data"
    },
    {
     "name": "stderr",
     "output_type": "stream",
     "text": [
      "/home/richard/Work/4th_Year_College/final_year_project/MLACDS/MLACDS.py:543: FutureWarning: The behavior of DataFrame concatenation with empty or all-NA entries is deprecated. In a future version, this will no longer exclude empty or all-NA columns when determining the result dtypes. To retain the old behavior, exclude the relevant entries before the concat operation.\n",
      "  df = pd.concat([df,df2],ignore_index=True)\n"
     ]
    },
    {
     "name": "stdout",
     "output_type": "stream",
     "text": [
      "['l0_inv', 'l1_inv', 'l2_inv', 'l3_inv', 'l4_inv', 'l5_inv', 'l6_inv', 'l7_inv', 'l8_inv', 'l9_inv', 'l10_inv', 'l11_inv']\n",
      "p0.2_N54/\n"
     ]
    },
    {
     "data": {
      "application/vnd.jupyter.widget-view+json": {
       "model_id": "d0ee908371d6451e817f2c3508919d0d",
       "version_major": 2,
       "version_minor": 0
      },
      "text/plain": [
       "  0%|          | 0/100 [00:00<?, ?it/s]"
      ]
     },
     "metadata": {},
     "output_type": "display_data"
    },
    {
     "name": "stderr",
     "output_type": "stream",
     "text": [
      "/home/richard/Work/4th_Year_College/final_year_project/MLACDS/MLACDS.py:543: FutureWarning: The behavior of DataFrame concatenation with empty or all-NA entries is deprecated. In a future version, this will no longer exclude empty or all-NA columns when determining the result dtypes. To retain the old behavior, exclude the relevant entries before the concat operation.\n",
      "  df = pd.concat([df,df2],ignore_index=True)\n"
     ]
    },
    {
     "name": "stdout",
     "output_type": "stream",
     "text": [
      "         l0_inv    l1_inv    l2_inv    l3_inv    l4_inv    l5_inv    l6_inv  \\\n",
      "0      0.808400  0.774553  0.708071  0.640808  0.621396  0.580007  0.509452   \n",
      "1      0.837130  0.654626  0.612513  0.594445  0.579262  0.550062  0.533557   \n",
      "2      0.919762  0.910404  0.654626  0.554297  0.523910  0.512782  0.480448   \n",
      "3      0.910404  0.810641  0.751972  0.655009  0.554517  0.515427  0.514168   \n",
      "4      0.810641  0.671539  0.556669  0.505036  0.474437  0.448297  0.448175   \n",
      "...         ...       ...       ...       ...       ...       ...       ...   \n",
      "16195  0.857511  0.803709  0.743611  0.698650  0.676909  0.658428  0.621393   \n",
      "16196  0.864222  0.857511  0.821348  0.734750  0.705376  0.633573  0.611636   \n",
      "16197  0.852348  0.840062  0.794275  0.781626  0.767399  0.734750  0.670857   \n",
      "16198  0.796437  0.758259  0.729277  0.670857  0.608679  0.593595  0.591041   \n",
      "16199  0.815197  0.804425  0.692011  0.691546  0.658428  0.653597  0.602678   \n",
      "\n",
      "         l7_inv    l8_inv    l9_inv   l10_inv   l11_inv       vol  \\\n",
      "0      0.506456  0.498234  0.463486  0.457623  0.447868  0.139783   \n",
      "1      0.515427  0.506456  0.502861  0.484893  0.439373  0.142876   \n",
      "2      0.471929  0.448175  0.436295  0.422622  0.418388  0.106246   \n",
      "3      0.507962  0.447708  0.437793  0.425322  0.403641  0.119037   \n",
      "4      0.415394  0.394150  0.393172  0.381960  0.376552  0.075929   \n",
      "...         ...       ...       ...       ...       ...       ...   \n",
      "16195  0.614620  0.600692  0.578749  0.566328  0.543178  0.215685   \n",
      "16196  0.544488  0.542580  0.522569  0.507504  0.504357  0.198661   \n",
      "16197  0.614163  0.571852  0.524079  0.510459  0.506095  0.201818   \n",
      "16198  0.587466  0.552172  0.550006  0.543178  0.536481  0.238355   \n",
      "16199  0.591041  0.513711  0.492380  0.487766  0.483720  0.185016   \n",
      "\n",
      "       n_neighbours        Ds  drop1  \n",
      "0              53.0  0.521434    inf  \n",
      "1              53.0  0.532875    inf  \n",
      "2              53.0  0.485428    inf  \n",
      "3              53.0  0.492425    inf  \n",
      "4              53.0  0.562989    inf  \n",
      "...             ...       ...    ...  \n",
      "16195          53.0  0.393998    inf  \n",
      "16196          53.0  0.386789    inf  \n",
      "16197          53.0  0.374940    inf  \n",
      "16198          53.0  0.415230    inf  \n",
      "16199          53.0  0.422381    inf  \n",
      "\n",
      "[16200 rows x 16 columns]\n",
      "df_n13 13\n",
      "['l0_inv', 'l1_inv', 'l2_inv', 'l3_inv', 'l4_inv', 'l5_inv', 'l6_inv', 'l7_inv', 'l8_inv', 'l9_inv', 'l10_inv', 'l11_inv', 'l12_inv']\n",
      "p0.1_N54/\n"
     ]
    },
    {
     "data": {
      "application/vnd.jupyter.widget-view+json": {
       "model_id": "9a3eb8ee46fd486e8b58b474ff88af61",
       "version_major": 2,
       "version_minor": 0
      },
      "text/plain": [
       "  0%|          | 0/200 [00:00<?, ?it/s]"
      ]
     },
     "metadata": {},
     "output_type": "display_data"
    },
    {
     "name": "stderr",
     "output_type": "stream",
     "text": [
      "/home/richard/Work/4th_Year_College/final_year_project/MLACDS/MLACDS.py:543: FutureWarning: The behavior of DataFrame concatenation with empty or all-NA entries is deprecated. In a future version, this will no longer exclude empty or all-NA columns when determining the result dtypes. To retain the old behavior, exclude the relevant entries before the concat operation.\n",
      "  df = pd.concat([df,df2],ignore_index=True)\n"
     ]
    },
    {
     "name": "stdout",
     "output_type": "stream",
     "text": [
      "['l0_inv', 'l1_inv', 'l2_inv', 'l3_inv', 'l4_inv', 'l5_inv', 'l6_inv', 'l7_inv', 'l8_inv', 'l9_inv', 'l10_inv', 'l11_inv', 'l12_inv']\n",
      "p0.2_N54/\n"
     ]
    },
    {
     "data": {
      "application/vnd.jupyter.widget-view+json": {
       "model_id": "b0bf907436324bd494fdd560a993ef41",
       "version_major": 2,
       "version_minor": 0
      },
      "text/plain": [
       "  0%|          | 0/100 [00:00<?, ?it/s]"
      ]
     },
     "metadata": {},
     "output_type": "display_data"
    },
    {
     "name": "stderr",
     "output_type": "stream",
     "text": [
      "/home/richard/Work/4th_Year_College/final_year_project/MLACDS/MLACDS.py:543: FutureWarning: The behavior of DataFrame concatenation with empty or all-NA entries is deprecated. In a future version, this will no longer exclude empty or all-NA columns when determining the result dtypes. To retain the old behavior, exclude the relevant entries before the concat operation.\n",
      "  df = pd.concat([df,df2],ignore_index=True)\n"
     ]
    },
    {
     "name": "stdout",
     "output_type": "stream",
     "text": [
      "         l0_inv    l1_inv    l2_inv    l3_inv    l4_inv    l5_inv    l6_inv  \\\n",
      "0      0.808400  0.774553  0.708071  0.640808  0.621396  0.580007  0.509452   \n",
      "1      0.837130  0.654626  0.612513  0.594445  0.579262  0.550062  0.533557   \n",
      "2      0.919762  0.910404  0.654626  0.554297  0.523910  0.512782  0.480448   \n",
      "3      0.910404  0.810641  0.751972  0.655009  0.554517  0.515427  0.514168   \n",
      "4      0.810641  0.671539  0.556669  0.505036  0.474437  0.448297  0.448175   \n",
      "...         ...       ...       ...       ...       ...       ...       ...   \n",
      "16195  0.857511  0.803709  0.743611  0.698650  0.676909  0.658428  0.621393   \n",
      "16196  0.864222  0.857511  0.821348  0.734750  0.705376  0.633573  0.611636   \n",
      "16197  0.852348  0.840062  0.794275  0.781626  0.767399  0.734750  0.670857   \n",
      "16198  0.796437  0.758259  0.729277  0.670857  0.608679  0.593595  0.591041   \n",
      "16199  0.815197  0.804425  0.692011  0.691546  0.658428  0.653597  0.602678   \n",
      "\n",
      "         l7_inv    l8_inv    l9_inv   l10_inv   l11_inv   l12_inv       vol  \\\n",
      "0      0.506456  0.498234  0.463486  0.457623  0.447868  0.437793  0.139783   \n",
      "1      0.515427  0.506456  0.502861  0.484893  0.439373  0.437826  0.142876   \n",
      "2      0.471929  0.448175  0.436295  0.422622  0.418388  0.409892  0.106246   \n",
      "3      0.507962  0.447708  0.437793  0.425322  0.403641  0.399289  0.119037   \n",
      "4      0.415394  0.394150  0.393172  0.381960  0.376552  0.369913  0.075929   \n",
      "...         ...       ...       ...       ...       ...       ...       ...   \n",
      "16195  0.614620  0.600692  0.578749  0.566328  0.543178  0.542791  0.215685   \n",
      "16196  0.544488  0.542580  0.522569  0.507504  0.504357  0.496467  0.198661   \n",
      "16197  0.614163  0.571852  0.524079  0.510459  0.506095  0.493950  0.201818   \n",
      "16198  0.587466  0.552172  0.550006  0.543178  0.536481  0.523066  0.238355   \n",
      "16199  0.591041  0.513711  0.492380  0.487766  0.483720  0.480705  0.185016   \n",
      "\n",
      "       n_neighbours        Ds  drop1  \n",
      "0              53.0  0.521434    inf  \n",
      "1              53.0  0.532875    inf  \n",
      "2              53.0  0.485428    inf  \n",
      "3              53.0  0.492425    inf  \n",
      "4              53.0  0.562989    inf  \n",
      "...             ...       ...    ...  \n",
      "16195          53.0  0.393998    inf  \n",
      "16196          53.0  0.386789    inf  \n",
      "16197          53.0  0.374940    inf  \n",
      "16198          53.0  0.415230    inf  \n",
      "16199          53.0  0.422381    inf  \n",
      "\n",
      "[16200 rows x 17 columns]\n",
      "df_n14 14\n",
      "['l0_inv', 'l1_inv', 'l2_inv', 'l3_inv', 'l4_inv', 'l5_inv', 'l6_inv', 'l7_inv', 'l8_inv', 'l9_inv', 'l10_inv', 'l11_inv', 'l12_inv', 'l13_inv']\n",
      "p0.1_N54/\n"
     ]
    },
    {
     "data": {
      "application/vnd.jupyter.widget-view+json": {
       "model_id": "dae20f9cdf7d43acacbfdc6dbeac5998",
       "version_major": 2,
       "version_minor": 0
      },
      "text/plain": [
       "  0%|          | 0/200 [00:00<?, ?it/s]"
      ]
     },
     "metadata": {},
     "output_type": "display_data"
    },
    {
     "name": "stderr",
     "output_type": "stream",
     "text": [
      "/home/richard/Work/4th_Year_College/final_year_project/MLACDS/MLACDS.py:543: FutureWarning: The behavior of DataFrame concatenation with empty or all-NA entries is deprecated. In a future version, this will no longer exclude empty or all-NA columns when determining the result dtypes. To retain the old behavior, exclude the relevant entries before the concat operation.\n",
      "  df = pd.concat([df,df2],ignore_index=True)\n"
     ]
    },
    {
     "name": "stdout",
     "output_type": "stream",
     "text": [
      "['l0_inv', 'l1_inv', 'l2_inv', 'l3_inv', 'l4_inv', 'l5_inv', 'l6_inv', 'l7_inv', 'l8_inv', 'l9_inv', 'l10_inv', 'l11_inv', 'l12_inv', 'l13_inv']\n",
      "p0.2_N54/\n"
     ]
    },
    {
     "data": {
      "application/vnd.jupyter.widget-view+json": {
       "model_id": "e26ae664613e4ecd92af437336983b71",
       "version_major": 2,
       "version_minor": 0
      },
      "text/plain": [
       "  0%|          | 0/100 [00:00<?, ?it/s]"
      ]
     },
     "metadata": {},
     "output_type": "display_data"
    },
    {
     "name": "stderr",
     "output_type": "stream",
     "text": [
      "/home/richard/Work/4th_Year_College/final_year_project/MLACDS/MLACDS.py:543: FutureWarning: The behavior of DataFrame concatenation with empty or all-NA entries is deprecated. In a future version, this will no longer exclude empty or all-NA columns when determining the result dtypes. To retain the old behavior, exclude the relevant entries before the concat operation.\n",
      "  df = pd.concat([df,df2],ignore_index=True)\n"
     ]
    },
    {
     "name": "stdout",
     "output_type": "stream",
     "text": [
      "         l0_inv    l1_inv    l2_inv    l3_inv    l4_inv    l5_inv    l6_inv  \\\n",
      "0      0.808400  0.774553  0.708071  0.640808  0.621396  0.580007  0.509452   \n",
      "1      0.837130  0.654626  0.612513  0.594445  0.579262  0.550062  0.533557   \n",
      "2      0.919762  0.910404  0.654626  0.554297  0.523910  0.512782  0.480448   \n",
      "3      0.910404  0.810641  0.751972  0.655009  0.554517  0.515427  0.514168   \n",
      "4      0.810641  0.671539  0.556669  0.505036  0.474437  0.448297  0.448175   \n",
      "...         ...       ...       ...       ...       ...       ...       ...   \n",
      "16195  0.857511  0.803709  0.743611  0.698650  0.676909  0.658428  0.621393   \n",
      "16196  0.864222  0.857511  0.821348  0.734750  0.705376  0.633573  0.611636   \n",
      "16197  0.852348  0.840062  0.794275  0.781626  0.767399  0.734750  0.670857   \n",
      "16198  0.796437  0.758259  0.729277  0.670857  0.608679  0.593595  0.591041   \n",
      "16199  0.815197  0.804425  0.692011  0.691546  0.658428  0.653597  0.602678   \n",
      "\n",
      "         l7_inv    l8_inv    l9_inv   l10_inv   l11_inv   l12_inv   l13_inv  \\\n",
      "0      0.506456  0.498234  0.463486  0.457623  0.447868  0.437793  0.415126   \n",
      "1      0.515427  0.506456  0.502861  0.484893  0.439373  0.437826  0.414073   \n",
      "2      0.471929  0.448175  0.436295  0.422622  0.418388  0.409892  0.399018   \n",
      "3      0.507962  0.447708  0.437793  0.425322  0.403641  0.399289  0.397212   \n",
      "4      0.415394  0.394150  0.393172  0.381960  0.376552  0.369913  0.357612   \n",
      "...         ...       ...       ...       ...       ...       ...       ...   \n",
      "16195  0.614620  0.600692  0.578749  0.566328  0.543178  0.542791  0.465641   \n",
      "16196  0.544488  0.542580  0.522569  0.507504  0.504357  0.496467  0.481365   \n",
      "16197  0.614163  0.571852  0.524079  0.510459  0.506095  0.493950  0.476549   \n",
      "16198  0.587466  0.552172  0.550006  0.543178  0.536481  0.523066  0.518987   \n",
      "16199  0.591041  0.513711  0.492380  0.487766  0.483720  0.480705  0.460570   \n",
      "\n",
      "            vol  n_neighbours        Ds  drop1  \n",
      "0      0.139783          53.0  0.521434    inf  \n",
      "1      0.142876          53.0  0.532875    inf  \n",
      "2      0.106246          53.0  0.485428    inf  \n",
      "3      0.119037          53.0  0.492425    inf  \n",
      "4      0.075929          53.0  0.562989    inf  \n",
      "...         ...           ...       ...    ...  \n",
      "16195  0.215685          53.0  0.393998    inf  \n",
      "16196  0.198661          53.0  0.386789    inf  \n",
      "16197  0.201818          53.0  0.374940    inf  \n",
      "16198  0.238355          53.0  0.415230    inf  \n",
      "16199  0.185016          53.0  0.422381    inf  \n",
      "\n",
      "[16200 rows x 18 columns]\n",
      "df_n15 15\n",
      "['l0_inv', 'l1_inv', 'l2_inv', 'l3_inv', 'l4_inv', 'l5_inv', 'l6_inv', 'l7_inv', 'l8_inv', 'l9_inv', 'l10_inv', 'l11_inv', 'l12_inv', 'l13_inv', 'l14_inv']\n",
      "p0.1_N54/\n"
     ]
    },
    {
     "data": {
      "application/vnd.jupyter.widget-view+json": {
       "model_id": "6f310fc0fa484fde9d1320fae1dfa982",
       "version_major": 2,
       "version_minor": 0
      },
      "text/plain": [
       "  0%|          | 0/200 [00:00<?, ?it/s]"
      ]
     },
     "metadata": {},
     "output_type": "display_data"
    },
    {
     "name": "stderr",
     "output_type": "stream",
     "text": [
      "/home/richard/Work/4th_Year_College/final_year_project/MLACDS/MLACDS.py:543: FutureWarning: The behavior of DataFrame concatenation with empty or all-NA entries is deprecated. In a future version, this will no longer exclude empty or all-NA columns when determining the result dtypes. To retain the old behavior, exclude the relevant entries before the concat operation.\n",
      "  df = pd.concat([df,df2],ignore_index=True)\n"
     ]
    },
    {
     "name": "stdout",
     "output_type": "stream",
     "text": [
      "['l0_inv', 'l1_inv', 'l2_inv', 'l3_inv', 'l4_inv', 'l5_inv', 'l6_inv', 'l7_inv', 'l8_inv', 'l9_inv', 'l10_inv', 'l11_inv', 'l12_inv', 'l13_inv', 'l14_inv']\n",
      "p0.2_N54/\n"
     ]
    },
    {
     "data": {
      "application/vnd.jupyter.widget-view+json": {
       "model_id": "b93eaeb82ef9486e8f13cdc246d83af5",
       "version_major": 2,
       "version_minor": 0
      },
      "text/plain": [
       "  0%|          | 0/100 [00:00<?, ?it/s]"
      ]
     },
     "metadata": {},
     "output_type": "display_data"
    },
    {
     "name": "stderr",
     "output_type": "stream",
     "text": [
      "/home/richard/Work/4th_Year_College/final_year_project/MLACDS/MLACDS.py:543: FutureWarning: The behavior of DataFrame concatenation with empty or all-NA entries is deprecated. In a future version, this will no longer exclude empty or all-NA columns when determining the result dtypes. To retain the old behavior, exclude the relevant entries before the concat operation.\n",
      "  df = pd.concat([df,df2],ignore_index=True)\n"
     ]
    },
    {
     "name": "stdout",
     "output_type": "stream",
     "text": [
      "         l0_inv    l1_inv    l2_inv    l3_inv    l4_inv    l5_inv    l6_inv  \\\n",
      "0      0.808400  0.774553  0.708071  0.640808  0.621396  0.580007  0.509452   \n",
      "1      0.837130  0.654626  0.612513  0.594445  0.579262  0.550062  0.533557   \n",
      "2      0.919762  0.910404  0.654626  0.554297  0.523910  0.512782  0.480448   \n",
      "3      0.910404  0.810641  0.751972  0.655009  0.554517  0.515427  0.514168   \n",
      "4      0.810641  0.671539  0.556669  0.505036  0.474437  0.448297  0.448175   \n",
      "...         ...       ...       ...       ...       ...       ...       ...   \n",
      "16195  0.857511  0.803709  0.743611  0.698650  0.676909  0.658428  0.621393   \n",
      "16196  0.864222  0.857511  0.821348  0.734750  0.705376  0.633573  0.611636   \n",
      "16197  0.852348  0.840062  0.794275  0.781626  0.767399  0.734750  0.670857   \n",
      "16198  0.796437  0.758259  0.729277  0.670857  0.608679  0.593595  0.591041   \n",
      "16199  0.815197  0.804425  0.692011  0.691546  0.658428  0.653597  0.602678   \n",
      "\n",
      "         l7_inv    l8_inv    l9_inv   l10_inv   l11_inv   l12_inv   l13_inv  \\\n",
      "0      0.506456  0.498234  0.463486  0.457623  0.447868  0.437793  0.415126   \n",
      "1      0.515427  0.506456  0.502861  0.484893  0.439373  0.437826  0.414073   \n",
      "2      0.471929  0.448175  0.436295  0.422622  0.418388  0.409892  0.399018   \n",
      "3      0.507962  0.447708  0.437793  0.425322  0.403641  0.399289  0.397212   \n",
      "4      0.415394  0.394150  0.393172  0.381960  0.376552  0.369913  0.357612   \n",
      "...         ...       ...       ...       ...       ...       ...       ...   \n",
      "16195  0.614620  0.600692  0.578749  0.566328  0.543178  0.542791  0.465641   \n",
      "16196  0.544488  0.542580  0.522569  0.507504  0.504357  0.496467  0.481365   \n",
      "16197  0.614163  0.571852  0.524079  0.510459  0.506095  0.493950  0.476549   \n",
      "16198  0.587466  0.552172  0.550006  0.543178  0.536481  0.523066  0.518987   \n",
      "16199  0.591041  0.513711  0.492380  0.487766  0.483720  0.480705  0.460570   \n",
      "\n",
      "        l14_inv       vol  n_neighbours        Ds  drop1  \n",
      "0      0.407443  0.139783          53.0  0.521434    inf  \n",
      "1      0.410523  0.142876          53.0  0.532875    inf  \n",
      "2      0.392845  0.106246          53.0  0.485428    inf  \n",
      "3      0.391972  0.119037          53.0  0.492425    inf  \n",
      "4      0.353776  0.075929          53.0  0.562989    inf  \n",
      "...         ...       ...           ...       ...    ...  \n",
      "16195  0.463680  0.215685          53.0  0.393998    inf  \n",
      "16196  0.461733  0.198661          53.0  0.386789    inf  \n",
      "16197  0.464418  0.201818          53.0  0.374940    inf  \n",
      "16198  0.507207  0.238355          53.0  0.415230    inf  \n",
      "16199  0.459397  0.185016          53.0  0.422381    inf  \n",
      "\n",
      "[16200 rows x 19 columns]\n",
      "df_n16 16\n",
      "['l0_inv', 'l1_inv', 'l2_inv', 'l3_inv', 'l4_inv', 'l5_inv', 'l6_inv', 'l7_inv', 'l8_inv', 'l9_inv', 'l10_inv', 'l11_inv', 'l12_inv', 'l13_inv', 'l14_inv', 'l15_inv']\n",
      "p0.1_N54/\n"
     ]
    },
    {
     "data": {
      "application/vnd.jupyter.widget-view+json": {
       "model_id": "68f7aa497d5b48aa901651d0b789b806",
       "version_major": 2,
       "version_minor": 0
      },
      "text/plain": [
       "  0%|          | 0/200 [00:00<?, ?it/s]"
      ]
     },
     "metadata": {},
     "output_type": "display_data"
    },
    {
     "name": "stderr",
     "output_type": "stream",
     "text": [
      "/home/richard/Work/4th_Year_College/final_year_project/MLACDS/MLACDS.py:543: FutureWarning: The behavior of DataFrame concatenation with empty or all-NA entries is deprecated. In a future version, this will no longer exclude empty or all-NA columns when determining the result dtypes. To retain the old behavior, exclude the relevant entries before the concat operation.\n",
      "  df = pd.concat([df,df2],ignore_index=True)\n"
     ]
    },
    {
     "name": "stdout",
     "output_type": "stream",
     "text": [
      "['l0_inv', 'l1_inv', 'l2_inv', 'l3_inv', 'l4_inv', 'l5_inv', 'l6_inv', 'l7_inv', 'l8_inv', 'l9_inv', 'l10_inv', 'l11_inv', 'l12_inv', 'l13_inv', 'l14_inv', 'l15_inv']\n",
      "p0.2_N54/\n"
     ]
    },
    {
     "data": {
      "application/vnd.jupyter.widget-view+json": {
       "model_id": "5aebfd206eb74b2fa9cd92a43fd64e74",
       "version_major": 2,
       "version_minor": 0
      },
      "text/plain": [
       "  0%|          | 0/100 [00:00<?, ?it/s]"
      ]
     },
     "metadata": {},
     "output_type": "display_data"
    },
    {
     "name": "stderr",
     "output_type": "stream",
     "text": [
      "/home/richard/Work/4th_Year_College/final_year_project/MLACDS/MLACDS.py:543: FutureWarning: The behavior of DataFrame concatenation with empty or all-NA entries is deprecated. In a future version, this will no longer exclude empty or all-NA columns when determining the result dtypes. To retain the old behavior, exclude the relevant entries before the concat operation.\n",
      "  df = pd.concat([df,df2],ignore_index=True)\n"
     ]
    },
    {
     "name": "stdout",
     "output_type": "stream",
     "text": [
      "         l0_inv    l1_inv    l2_inv    l3_inv    l4_inv    l5_inv    l6_inv  \\\n",
      "0      0.808400  0.774553  0.708071  0.640808  0.621396  0.580007  0.509452   \n",
      "1      0.837130  0.654626  0.612513  0.594445  0.579262  0.550062  0.533557   \n",
      "2      0.919762  0.910404  0.654626  0.554297  0.523910  0.512782  0.480448   \n",
      "3      0.910404  0.810641  0.751972  0.655009  0.554517  0.515427  0.514168   \n",
      "4      0.810641  0.671539  0.556669  0.505036  0.474437  0.448297  0.448175   \n",
      "...         ...       ...       ...       ...       ...       ...       ...   \n",
      "16195  0.857511  0.803709  0.743611  0.698650  0.676909  0.658428  0.621393   \n",
      "16196  0.864222  0.857511  0.821348  0.734750  0.705376  0.633573  0.611636   \n",
      "16197  0.852348  0.840062  0.794275  0.781626  0.767399  0.734750  0.670857   \n",
      "16198  0.796437  0.758259  0.729277  0.670857  0.608679  0.593595  0.591041   \n",
      "16199  0.815197  0.804425  0.692011  0.691546  0.658428  0.653597  0.602678   \n",
      "\n",
      "         l7_inv    l8_inv    l9_inv   l10_inv   l11_inv   l12_inv   l13_inv  \\\n",
      "0      0.506456  0.498234  0.463486  0.457623  0.447868  0.437793  0.415126   \n",
      "1      0.515427  0.506456  0.502861  0.484893  0.439373  0.437826  0.414073   \n",
      "2      0.471929  0.448175  0.436295  0.422622  0.418388  0.409892  0.399018   \n",
      "3      0.507962  0.447708  0.437793  0.425322  0.403641  0.399289  0.397212   \n",
      "4      0.415394  0.394150  0.393172  0.381960  0.376552  0.369913  0.357612   \n",
      "...         ...       ...       ...       ...       ...       ...       ...   \n",
      "16195  0.614620  0.600692  0.578749  0.566328  0.543178  0.542791  0.465641   \n",
      "16196  0.544488  0.542580  0.522569  0.507504  0.504357  0.496467  0.481365   \n",
      "16197  0.614163  0.571852  0.524079  0.510459  0.506095  0.493950  0.476549   \n",
      "16198  0.587466  0.552172  0.550006  0.543178  0.536481  0.523066  0.518987   \n",
      "16199  0.591041  0.513711  0.492380  0.487766  0.483720  0.480705  0.460570   \n",
      "\n",
      "        l14_inv   l15_inv       vol  n_neighbours        Ds  drop1  \n",
      "0      0.407443  0.371555  0.139783          53.0  0.521434    inf  \n",
      "1      0.410523  0.408974  0.142876          53.0  0.532875    inf  \n",
      "2      0.392845  0.366956  0.106246          53.0  0.485428    inf  \n",
      "3      0.391972  0.373878  0.119037          53.0  0.492425    inf  \n",
      "4      0.353776  0.351247  0.075929          53.0  0.562989    inf  \n",
      "...         ...       ...       ...           ...       ...    ...  \n",
      "16195  0.463680  0.458306  0.215685          53.0  0.393998    inf  \n",
      "16196  0.461733  0.460709  0.198661          53.0  0.386789    inf  \n",
      "16197  0.464418  0.458306  0.201818          53.0  0.374940    inf  \n",
      "16198  0.507207  0.504598  0.238355          53.0  0.415230    inf  \n",
      "16199  0.459397  0.457301  0.185016          53.0  0.422381    inf  \n",
      "\n",
      "[16200 rows x 20 columns]\n"
     ]
    }
   ],
   "source": [
    "dataset_dict = vary_n_neighbours(N_neighbours_list, df_list)"
   ]
  },
  {
   "cell_type": "code",
   "execution_count": 7,
   "id": "e8df0212-48e6-4055-a422-8f7c201fcfe1",
   "metadata": {},
   "outputs": [
    {
     "data": {
      "text/plain": [
       "dict_keys(['df_n1', 'df_n2', 'df_n3', 'df_n4', 'df_n5', 'df_n6', 'df_n7', 'df_n8', 'df_n9', 'df_n10', 'df_n11', 'df_n12', 'df_n13', 'df_n14', 'df_n15', 'df_n16'])"
      ]
     },
     "execution_count": 7,
     "metadata": {},
     "output_type": "execute_result"
    }
   ],
   "source": [
    "dataset_dict.keys()"
   ]
  },
  {
   "cell_type": "code",
   "execution_count": 8,
   "id": "c8c10424-9bd5-4650-b7bf-dd6c4682d0d2",
   "metadata": {},
   "outputs": [],
   "source": [
    "with open('data/n_neighbour_dataframes.pkl', 'wb') as f:\n",
    "    pickle.dump(dataset_dict, f)"
   ]
  },
  {
   "cell_type": "code",
   "execution_count": null,
   "id": "d1599e91-280e-43e5-836e-95e562514815",
   "metadata": {},
   "outputs": [],
   "source": []
  },
  {
   "cell_type": "code",
   "execution_count": 1,
   "id": "4a1ba825-bc0c-4c5a-a031-3130e5d0fc30",
   "metadata": {},
   "outputs": [
    {
     "ename": "NameError",
     "evalue": "name 'dataset_dict' is not defined",
     "output_type": "error",
     "traceback": [
      "\u001b[0;31m---------------------------------------------------------------------------\u001b[0m",
      "\u001b[0;31mNameError\u001b[0m                                 Traceback (most recent call last)",
      "Cell \u001b[0;32mIn[1], line 1\u001b[0m\n\u001b[0;32m----> 1\u001b[0m \u001b[43mdataset_dict\u001b[49m[\u001b[38;5;124m\"\u001b[39m\u001b[38;5;124mdf_n1\u001b[39m\u001b[38;5;124m\"\u001b[39m]\n",
      "\u001b[0;31mNameError\u001b[0m: name 'dataset_dict' is not defined"
     ]
    }
   ],
   "source": []
  },
  {
   "cell_type": "code",
   "execution_count": null,
   "id": "1f3ad916-b105-4cc3-8e25-ae96f816720f",
   "metadata": {},
   "outputs": [],
   "source": []
  }
 ],
 "metadata": {
  "kernelspec": {
   "display_name": "Python 3 (ipykernel)",
   "language": "python",
   "name": "python3"
  },
  "language_info": {
   "codemirror_mode": {
    "name": "ipython",
    "version": 3
   },
   "file_extension": ".py",
   "mimetype": "text/x-python",
   "name": "python",
   "nbconvert_exporter": "python",
   "pygments_lexer": "ipython3",
   "version": "3.11.5"
  }
 },
 "nbformat": 4,
 "nbformat_minor": 5
}
