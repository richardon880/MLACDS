{
 "cells": [
  {
   "cell_type": "code",
   "execution_count": 1,
   "id": "7d40d0d0-9ffb-49eb-be21-d0070eae8b80",
   "metadata": {},
   "outputs": [],
   "source": [
    "import MLACDS as dt #dif~fusion simulation tools\n",
    "import pandas as pd\n",
    "import numpy as np"
   ]
  },
  {
   "cell_type": "code",
   "execution_count": 2,
   "id": "0aff8fac-5e11-4d69-8552-65f53fe95605",
   "metadata": {},
   "outputs": [],
   "source": [
    "N_neighbours = 4 ### number of neighbours to be extracted\n",
    "\n",
    "dires = ['p0.1_N54/']#, 'p0.2_N54/', 'p0.3_N500/'] \n",
    "\n",
    "f_r_cut_vol = 4\n",
    "f_r_cut_sp = 30\n",
    "path=\"data/\"\n"
   ]
  },
  {
   "cell_type": "code",
   "execution_count": null,
   "id": "b429d76b-8963-472d-bb5a-d67491518422",
   "metadata": {},
   "outputs": [
    {
     "data": {
      "application/vnd.jupyter.widget-view+json": {
       "model_id": "28a7b14328f74a619dc5b1ef9996b5c6",
       "version_major": 2,
       "version_minor": 0
      },
      "text/plain": [
       "  0%|          | 0/200 [00:00<?, ?it/s]"
      ]
     },
     "metadata": {},
     "output_type": "display_data"
    },
    {
     "name": "stderr",
     "output_type": "stream",
     "text": [
      "/home/richard/Work/4th_Year_College/final_year_project/MLACDS/MLACDS.py:90: RuntimeWarning: invalid value encountered in double_scalars\n",
      "  angx = delta[0]/(R**2)\n",
      "/home/richard/Work/4th_Year_College/final_year_project/MLACDS/MLACDS.py:91: RuntimeWarning: invalid value encountered in double_scalars\n",
      "  angy = delta[1]/(R**2)\n",
      "/home/richard/Work/4th_Year_College/final_year_project/MLACDS/MLACDS.py:92: RuntimeWarning: invalid value encountered in double_scalars\n",
      "  angz = delta[2]/(R**2)\n"
     ]
    }
   ],
   "source": [
    "test_df = dt.get_data(path, dires, f_r_cut_vol, f_r_cut_sp,\n",
    "                      N_neighbours, dist=True, dist_inv=True, bond_order=True)"
   ]
  },
  {
   "cell_type": "code",
   "execution_count": null,
   "id": "e5bce522-5086-49f7-a27f-b1bb52397af0",
   "metadata": {},
   "outputs": [],
   "source": [
    "df = pd.DataFrame(test_df)"
   ]
  },
  {
   "cell_type": "code",
   "execution_count": null,
   "id": "ab0f3d2b-cf30-4d4c-b9c8-c5073dee7380",
   "metadata": {},
   "outputs": [],
   "source": []
  }
 ],
 "metadata": {
  "kernelspec": {
   "display_name": "Python 3 (ipykernel)",
   "language": "python",
   "name": "python3"
  },
  "language_info": {
   "codemirror_mode": {
    "name": "ipython",
    "version": 3
   },
   "file_extension": ".py",
   "mimetype": "text/x-python",
   "name": "python",
   "nbconvert_exporter": "python",
   "pygments_lexer": "ipython3",
   "version": "3.11.5"
  }
 },
 "nbformat": 4,
 "nbformat_minor": 5
}
