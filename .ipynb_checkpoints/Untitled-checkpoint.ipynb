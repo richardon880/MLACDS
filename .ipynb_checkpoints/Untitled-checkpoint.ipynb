{
 "cells": [
  {
   "cell_type": "code",
   "execution_count": 1,
   "id": "ff8b3976-1430-42fd-94cc-f1e04a15a5d5",
   "metadata": {},
   "outputs": [],
   "source": [
    "import numpy as np\n",
    "import pandas as pd\n",
    "import matplotlib.pyplot as plt\n",
    "import MLACDS as dt #diffusion simulation tools\n"
   ]
  },
  {
   "cell_type": "code",
   "execution_count": 3,
   "id": "74cab409-a2c7-4119-a25b-5f598a528746",
   "metadata": {},
   "outputs": [],
   "source": [
    "path=\"data/all_simulation_data/\"\n",
    "N_neighbours = 4 ### number of neighbours to be extracted\n",
    "f_r_cut_vol = 4\n",
    "f_r_cut_sp = 30\n",
    "\n",
    "N72dires = ['VC0.05_N72/', 'VC0.1_N72/',\n",
    "             'VC0.15_N72/', 'VC0.2_N72/',\n",
    "             'VC0.25_N72/', 'VC0.3_N72/',\n",
    "             'VC0.35_N72/', 'VC0.4_N72/']\n",
    "\n",
    "n_particles = 72\n",
    "nruns = 50"
   ]
  },
  {
   "cell_type": "code",
   "execution_count": 4,
   "id": "c4e523ac-ad12-439e-8831-427fb5117a1a",
   "metadata": {},
   "outputs": [],
   "source": [
    "def get_Dav(dires, nparticles, nruns):\n",
    "    Ds = []\n",
    "    stepsize = nparticles * nruns\n",
    "    df = dt.get_data(path, N72dires, f_r_cut_vol=4, f_r_cut_sp=30,\n",
    "                      N_neighbours=4, dist=False, dist_inv=False, bond_order=False, angular=False)\n",
    "    for i in range(0, len(df), stepsize):\n",
    "        mean_D = np.mean(df[i:i+stepsize].Ds)\n",
    "        Ds.append(mean_D)\n",
    "    return df"
   ]
  },
  {
   "cell_type": "code",
   "execution_count": null,
   "id": "6c989adb-ee14-418d-b6aa-52603bb75042",
   "metadata": {},
   "outputs": [],
   "source": [
    "Ds = get_Dav(N72, )"
   ]
  },
  {
   "cell_type": "code",
   "execution_count": 5,
   "id": "4fcb857f-0e68-4946-b018-b2d7b143025f",
   "metadata": {},
   "outputs": [
    {
     "data": {
      "application/vnd.jupyter.widget-view+json": {
       "model_id": "8d339231b54b4e788bd5e6068b38e886",
       "version_major": 2,
       "version_minor": 0
      },
      "text/plain": [
       "  0%|          | 0/50 [00:00<?, ?it/s]"
      ]
     },
     "metadata": {},
     "output_type": "display_data"
    },
    {
     "data": {
      "application/vnd.jupyter.widget-view+json": {
       "model_id": "1905a9debdab40baa24a34a414ab2322",
       "version_major": 2,
       "version_minor": 0
      },
      "text/plain": [
       "  0%|          | 0/50 [00:00<?, ?it/s]"
      ]
     },
     "metadata": {},
     "output_type": "display_data"
    },
    {
     "data": {
      "application/vnd.jupyter.widget-view+json": {
       "model_id": "4de4e84384c5410ab0554585a3966ecd",
       "version_major": 2,
       "version_minor": 0
      },
      "text/plain": [
       "  0%|          | 0/50 [00:00<?, ?it/s]"
      ]
     },
     "metadata": {},
     "output_type": "display_data"
    },
    {
     "data": {
      "application/vnd.jupyter.widget-view+json": {
       "model_id": "3cf99af3337d4ffd82e8dd3cde4b16f7",
       "version_major": 2,
       "version_minor": 0
      },
      "text/plain": [
       "  0%|          | 0/50 [00:00<?, ?it/s]"
      ]
     },
     "metadata": {},
     "output_type": "display_data"
    },
    {
     "data": {
      "application/vnd.jupyter.widget-view+json": {
       "model_id": "5e298474ea1e4169949b04e61097e7a0",
       "version_major": 2,
       "version_minor": 0
      },
      "text/plain": [
       "  0%|          | 0/50 [00:00<?, ?it/s]"
      ]
     },
     "metadata": {},
     "output_type": "display_data"
    },
    {
     "data": {
      "application/vnd.jupyter.widget-view+json": {
       "model_id": "8ffc70283c8c4c2fb893bbc93fa3554d",
       "version_major": 2,
       "version_minor": 0
      },
      "text/plain": [
       "  0%|          | 0/50 [00:00<?, ?it/s]"
      ]
     },
     "metadata": {},
     "output_type": "display_data"
    },
    {
     "data": {
      "application/vnd.jupyter.widget-view+json": {
       "model_id": "a4bb622699934a4e8d46b69a4cfb4216",
       "version_major": 2,
       "version_minor": 0
      },
      "text/plain": [
       "  0%|          | 0/50 [00:00<?, ?it/s]"
      ]
     },
     "metadata": {},
     "output_type": "display_data"
    },
    {
     "data": {
      "application/vnd.jupyter.widget-view+json": {
       "model_id": "0f239b7a9a7143d29ece0f8ac7ae1f0d",
       "version_major": 2,
       "version_minor": 0
      },
      "text/plain": [
       "  0%|          | 0/50 [00:00<?, ?it/s]"
      ]
     },
     "metadata": {},
     "output_type": "display_data"
    }
   ],
   "source": [
    "df =  dt.get_data(path, N72dires, f_r_cut_vol, f_r_cut_sp,\n",
    "                      N_neighbours, dist=False, dist_inv=False, bond_order=False, angular=False)"
   ]
  },
  {
   "cell_type": "code",
   "execution_count": 32,
   "id": "3e043029-057f-499c-a162-8fa176cca831",
   "metadata": {},
   "outputs": [
    {
     "data": {
      "text/html": [
       "<div>\n",
       "<style scoped>\n",
       "    .dataframe tbody tr th:only-of-type {\n",
       "        vertical-align: middle;\n",
       "    }\n",
       "\n",
       "    .dataframe tbody tr th {\n",
       "        vertical-align: top;\n",
       "    }\n",
       "\n",
       "    .dataframe thead th {\n",
       "        text-align: right;\n",
       "    }\n",
       "</style>\n",
       "<table border=\"1\" class=\"dataframe\">\n",
       "  <thead>\n",
       "    <tr style=\"text-align: right;\">\n",
       "      <th></th>\n",
       "      <th>vol</th>\n",
       "      <th>n_neighbours</th>\n",
       "      <th>n_particles</th>\n",
       "      <th>Ds</th>\n",
       "    </tr>\n",
       "  </thead>\n",
       "  <tbody>\n",
       "    <tr>\n",
       "      <th>0</th>\n",
       "      <td>0.072859</td>\n",
       "      <td>NaN</td>\n",
       "      <td>72.0</td>\n",
       "      <td>0.636705</td>\n",
       "    </tr>\n",
       "    <tr>\n",
       "      <th>1</th>\n",
       "      <td>0.082296</td>\n",
       "      <td>NaN</td>\n",
       "      <td>72.0</td>\n",
       "      <td>0.668279</td>\n",
       "    </tr>\n",
       "    <tr>\n",
       "      <th>2</th>\n",
       "      <td>0.089531</td>\n",
       "      <td>NaN</td>\n",
       "      <td>72.0</td>\n",
       "      <td>0.647797</td>\n",
       "    </tr>\n",
       "    <tr>\n",
       "      <th>3</th>\n",
       "      <td>0.045032</td>\n",
       "      <td>NaN</td>\n",
       "      <td>72.0</td>\n",
       "      <td>0.709580</td>\n",
       "    </tr>\n",
       "    <tr>\n",
       "      <th>4</th>\n",
       "      <td>0.053598</td>\n",
       "      <td>NaN</td>\n",
       "      <td>72.0</td>\n",
       "      <td>0.693821</td>\n",
       "    </tr>\n",
       "  </tbody>\n",
       "</table>\n",
       "</div>"
      ],
      "text/plain": [
       "        vol  n_neighbours  n_particles        Ds\n",
       "0  0.072859           NaN         72.0  0.636705\n",
       "1  0.082296           NaN         72.0  0.668279\n",
       "2  0.089531           NaN         72.0  0.647797\n",
       "3  0.045032           NaN         72.0  0.709580\n",
       "4  0.053598           NaN         72.0  0.693821"
      ]
     },
     "execution_count": 32,
     "metadata": {},
     "output_type": "execute_result"
    }
   ],
   "source": [
    "df.head()"
   ]
  },
  {
   "cell_type": "code",
   "execution_count": 17,
   "id": "9bd602c1-f79b-4afa-a82b-57ad92fc256d",
   "metadata": {},
   "outputs": [
    {
     "data": {
      "text/plain": [
       "0.6780237696154513"
      ]
     },
     "execution_count": 17,
     "metadata": {},
     "output_type": "execute_result"
    }
   ],
   "source": [
    "np.mean(df[0:3600].Ds)"
   ]
  },
  {
   "cell_type": "code",
   "execution_count": 14,
   "id": "c2e8f1ca-0b22-4134-bfbc-b4e83c5ad395",
   "metadata": {},
   "outputs": [
    {
     "data": {
      "text/html": [
       "<div>\n",
       "<style scoped>\n",
       "    .dataframe tbody tr th:only-of-type {\n",
       "        vertical-align: middle;\n",
       "    }\n",
       "\n",
       "    .dataframe tbody tr th {\n",
       "        vertical-align: top;\n",
       "    }\n",
       "\n",
       "    .dataframe thead th {\n",
       "        text-align: right;\n",
       "    }\n",
       "</style>\n",
       "<table border=\"1\" class=\"dataframe\">\n",
       "  <thead>\n",
       "    <tr style=\"text-align: right;\">\n",
       "      <th></th>\n",
       "      <th>vol</th>\n",
       "      <th>n_neighbours</th>\n",
       "      <th>n_particles</th>\n",
       "      <th>Ds</th>\n",
       "    </tr>\n",
       "  </thead>\n",
       "  <tbody>\n",
       "    <tr>\n",
       "      <th>3</th>\n",
       "      <td>0.045032</td>\n",
       "      <td>NaN</td>\n",
       "      <td>72.0</td>\n",
       "      <td>0.709580</td>\n",
       "    </tr>\n",
       "    <tr>\n",
       "      <th>4</th>\n",
       "      <td>0.053598</td>\n",
       "      <td>NaN</td>\n",
       "      <td>72.0</td>\n",
       "      <td>0.693821</td>\n",
       "    </tr>\n",
       "    <tr>\n",
       "      <th>5</th>\n",
       "      <td>0.072831</td>\n",
       "      <td>NaN</td>\n",
       "      <td>72.0</td>\n",
       "      <td>0.640865</td>\n",
       "    </tr>\n",
       "  </tbody>\n",
       "</table>\n",
       "</div>"
      ],
      "text/plain": [
       "        vol  n_neighbours  n_particles        Ds\n",
       "3  0.045032           NaN         72.0  0.709580\n",
       "4  0.053598           NaN         72.0  0.693821\n",
       "5  0.072831           NaN         72.0  0.640865"
      ]
     },
     "execution_count": 14,
     "metadata": {},
     "output_type": "execute_result"
    }
   ],
   "source": [
    "df[3600:]"
   ]
  },
  {
   "cell_type": "code",
   "execution_count": 26,
   "id": "0ec0a84b-8ed5-41ac-adc6-6d5a8fb06e3b",
   "metadata": {},
   "outputs": [],
   "source": []
  },
  {
   "cell_type": "code",
   "execution_count": 29,
   "id": "97d530ff-1bd7-41f0-8e3d-5288f08a7e86",
   "metadata": {},
   "outputs": [],
   "source": [
    "volfracs = [0.05, 0.1, 0.15, 0.2, 0.25, 0.3, 0.35, 0.4]\n"
   ]
  },
  {
   "cell_type": "code",
   "execution_count": 36,
   "id": "9b3c4559-bad2-4917-b5a1-f4615fde48c9",
   "metadata": {},
   "outputs": [
    {
     "data": {
      "image/png": "[encoded data removed]",
      "text/plain": [
       "<Figure size 640x480 with 1 Axes>"
      ]
     },
     "metadata": {},
     "output_type": "display_data"
    }
   ],
   "source": [
    "plt.scatter(volfracs, Ds)\n",
    "# plt.scatter(df.vol, df.Ds, alpha=0.005)\n",
    "plt.show()"
   ]
  },
  {
   "cell_type": "code",
   "execution_count": null,
   "id": "7121a8e3-b61d-4931-9aa6-5241fdd9ebd5",
   "metadata": {},
   "outputs": [],
   "source": []
  }
 ],
 "metadata": {
  "kernelspec": {
   "display_name": "Python 3 (ipykernel)",
   "language": "python",
   "name": "python3"
  },
  "language_info": {
   "codemirror_mode": {
    "name": "ipython",
    "version": 3
   },
   "file_extension": ".py",
   "mimetype": "text/x-python",
   "name": "python",
   "nbconvert_exporter": "python",
   "pygments_lexer": "ipython3",
   "version": "3.11.5"
  }
 },
 "nbformat": 4,
 "nbformat_minor": 5
}
