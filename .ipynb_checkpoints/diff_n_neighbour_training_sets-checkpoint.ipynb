{
 "cells": [
  {
   "cell_type": "code",
   "execution_count": 1,
   "id": "209507c5-f9d6-4a1e-bc94-4f4a18d3c572",
   "metadata": {},
   "outputs": [],
   "source": [
    "import numpy as np\n",
    "import pandas as pd\n",
    "import pickle \n",
    "import MLACDS as dt"
   ]
  },
  {
   "cell_type": "code",
   "execution_count": 2,
   "id": "f96bca8b-4814-48a1-b179-134e83282085",
   "metadata": {},
   "outputs": [],
   "source": [
    "def vary_n_neighbours(N_neighbours_list, df_list):\n",
    "    frames = {} #dict to save frames to\n",
    "    for df_ind, N_neighbours in enumerate(N_neighbours_list):\n",
    "        print(df_list[df_ind], N_neighbours)\n",
    "        #### list with names to be used in the final dataframe\n",
    "        l_s = list(range(N_neighbours))\n",
    "        l_s_names = []\n",
    "        \n",
    "        for i in l_s:\n",
    "            l_s_names.append('l'+str(i)+\"_inv\")\n",
    "        \n",
    "        bo = []\n",
    "        bo_names = []\n",
    "        \n",
    "        f_r_cut_vol = 4 # cutoff for local volume fraction calculation (too small underestimate local volume fraction, too large, too close to total volume fraction)\n",
    "        \n",
    "        f_r_cut_sp = 30 # cutoff for n_neighbours for distance calculation value times particle radius\n",
    "        \n",
    "        df = dt.load_data(dires, l_s, l_s_names, bo, bo_names, f_r_cut_vol, f_r_cut_sp, N_neighbours, use_bond_order=False)\n",
    "        frames[df_list[df_ind]] = df\n",
    "    return frames"
   ]
  },
  {
   "cell_type": "code",
   "execution_count": 3,
   "id": "89dde068-cdb6-4a63-b367-8deace217f3b",
   "metadata": {},
   "outputs": [],
   "source": [
    "dires = ['p0.1_N54/', 'p0.2_N54/'] "
   ]
  },
  {
   "cell_type": "code",
   "execution_count": 4,
   "id": "a5c1a142-ec7c-4d89-a462-9344e42b1b28",
   "metadata": {},
   "outputs": [],
   "source": [
    "N_neighbours_start = 1\n",
    "N_neighbours_end = 16"
   ]
  },
  {
   "cell_type": "code",
   "execution_count": 5,
   "id": "3dc18d5b-970e-4c96-9bea-dc302a37ac60",
   "metadata": {},
   "outputs": [],
   "source": [
    "N_neighbours_list = [i for i in range(N_neighbours_start, N_neighbours_end+1)]\n",
    "df_list = [f\"df_n{i}\" for i in range(N_neighbours_start, N_neighbours_end+1)]"
   ]
  },
  {
   "cell_type": "code",
   "execution_count": 6,
   "id": "fddd626d-9e05-42f7-bfdf-48b82ffd9526",
   "metadata": {},
   "outputs": [
    {
     "name": "stdout",
     "output_type": "stream",
     "text": [
      "df_n1 1\n",
      "['l0_inv']\n",
      "p0.1_N54/\n"
     ]
    },
    {
     "data": {
      "application/vnd.jupyter.widget-view+json": {
       "model_id": "2ae6af3a535046f99a3502ca61e81fca",
       "version_major": 2,
       "version_minor": 0
      },
      "text/plain": [
       "  0%|          | 0/200 [00:00<?, ?it/s]"
      ]
     },
     "metadata": {},
     "output_type": "display_data"
    },
    {
     "ename": "ValueError",
     "evalue": "Shape of passed values is (54, 4), indices imply (54, 3)",
     "output_type": "error",
     "traceback": [
      "\u001b[0;31m---------------------------------------------------------------------------\u001b[0m",
      "\u001b[0;31mValueError\u001b[0m                                Traceback (most recent call last)",
      "Cell \u001b[0;32mIn[6], line 1\u001b[0m\n\u001b[0;32m----> 1\u001b[0m dataset_dict \u001b[38;5;241m=\u001b[39m \u001b[43mvary_n_neighbours\u001b[49m\u001b[43m(\u001b[49m\u001b[43mN_neighbours_list\u001b[49m\u001b[43m,\u001b[49m\u001b[43m \u001b[49m\u001b[43mdf_list\u001b[49m\u001b[43m)\u001b[49m\n",
      "Cell \u001b[0;32mIn[2], line 19\u001b[0m, in \u001b[0;36mvary_n_neighbours\u001b[0;34m(N_neighbours_list, df_list)\u001b[0m\n\u001b[1;32m     15\u001b[0m     f_r_cut_vol \u001b[38;5;241m=\u001b[39m \u001b[38;5;241m4\u001b[39m \u001b[38;5;66;03m# cutoff for local volume fraction calculation (too small underestimate local volume fraction, too large, too close to total volume fraction)\u001b[39;00m\n\u001b[1;32m     17\u001b[0m     f_r_cut_sp \u001b[38;5;241m=\u001b[39m \u001b[38;5;241m30\u001b[39m \u001b[38;5;66;03m# cutoff for n_neighbours for distance calculation value times particle radius\u001b[39;00m\n\u001b[0;32m---> 19\u001b[0m     df \u001b[38;5;241m=\u001b[39m \u001b[43mdt\u001b[49m\u001b[38;5;241;43m.\u001b[39;49m\u001b[43mload_data\u001b[49m\u001b[43m(\u001b[49m\u001b[43mdires\u001b[49m\u001b[43m,\u001b[49m\u001b[43m \u001b[49m\u001b[43ml_s\u001b[49m\u001b[43m,\u001b[49m\u001b[43m \u001b[49m\u001b[43ml_s_names\u001b[49m\u001b[43m,\u001b[49m\u001b[43m \u001b[49m\u001b[43mbo\u001b[49m\u001b[43m,\u001b[49m\u001b[43m \u001b[49m\u001b[43mbo_names\u001b[49m\u001b[43m,\u001b[49m\u001b[43m \u001b[49m\u001b[43mf_r_cut_vol\u001b[49m\u001b[43m,\u001b[49m\u001b[43m \u001b[49m\u001b[43mf_r_cut_sp\u001b[49m\u001b[43m,\u001b[49m\u001b[43m \u001b[49m\u001b[43mN_neighbours\u001b[49m\u001b[43m)\u001b[49m\u001b[38;5;66;03m#, use_bond_order=False)\u001b[39;00m\n\u001b[1;32m     20\u001b[0m     frames[df_list[df_ind]] \u001b[38;5;241m=\u001b[39m df\n\u001b[1;32m     21\u001b[0m \u001b[38;5;28;01mreturn\u001b[39;00m frames\n",
      "File \u001b[0;32m~/Work/4th_Year_College/final_year_project/MLACDS/MLACDS.py:399\u001b[0m, in \u001b[0;36mload_data\u001b[0;34m(dires, l_s, l_s_names, bo, bo_names, f_r_cut_vol, f_r_cut_sp, N_neighbours, use_bond_order)\u001b[0m\n\u001b[1;32m    394\u001b[0m \u001b[38;5;66;03m# print(files)\u001b[39;00m\n\u001b[1;32m    395\u001b[0m \n\u001b[1;32m    396\u001b[0m \u001b[38;5;66;03m### creating the dataframe with all the data\u001b[39;00m\n\u001b[1;32m    397\u001b[0m \u001b[38;5;66;03m# print(bo)\u001b[39;00m\n\u001b[1;32m    398\u001b[0m \u001b[38;5;28;01mif\u001b[39;00m use_bond_order\u001b[38;5;241m==\u001b[39m\u001b[38;5;28;01mTrue\u001b[39;00m:\n\u001b[0;32m--> 399\u001b[0m     tmp_df \u001b[38;5;241m=\u001b[39m \u001b[43mget_data2\u001b[49m\u001b[43m(\u001b[49m\u001b[43mfiles\u001b[49m\u001b[43m,\u001b[49m\u001b[43mdire\u001b[49m\u001b[43m,\u001b[49m\u001b[43mf_r_cut_vol\u001b[49m\u001b[43m,\u001b[49m\u001b[43mf_r_cut_sp\u001b[49m\u001b[43m,\u001b[49m\u001b[43ml_s\u001b[49m\u001b[43m,\u001b[49m\u001b[43ml_s_names\u001b[49m\u001b[43m,\u001b[49m\u001b[43m \u001b[49m\u001b[43mbo\u001b[49m\u001b[43m,\u001b[49m\u001b[43m \u001b[49m\u001b[43mbo_names\u001b[49m\u001b[43m,\u001b[49m\u001b[43m \u001b[49m\u001b[43mN_neighbours\u001b[49m\u001b[43m)\u001b[49m\n\u001b[1;32m    400\u001b[0m \u001b[38;5;28;01melse\u001b[39;00m: \n\u001b[1;32m    401\u001b[0m     tmp_df \u001b[38;5;241m=\u001b[39m get_data2_no_bond_order_or_dist(files,dire,f_r_cut_vol,f_r_cut_sp,l_s,l_s_names, bo, bo_names, N_neighbours)\n",
      "File \u001b[0;32m~/Work/4th_Year_College/final_year_project/MLACDS/MLACDS.py:344\u001b[0m, in \u001b[0;36mget_data2\u001b[0;34m(files, dire, f_r_cut1, f_r_cut2, l_s, l_s_names, bo, bo_names, N_N)\u001b[0m\n\u001b[1;32m    341\u001b[0m D_av \u001b[38;5;241m=\u001b[39m D_av\u001b[38;5;241m/\u001b[39mcal_D0()\n\u001b[1;32m    343\u001b[0m \u001b[38;5;66;03m########\u001b[39;00m\n\u001b[0;32m--> 344\u001b[0m df2 \u001b[38;5;241m=\u001b[39m \u001b[43mpd\u001b[49m\u001b[38;5;241;43m.\u001b[39;49m\u001b[43mDataFrame\u001b[49m\u001b[43m(\u001b[49m\u001b[43mnp\u001b[49m\u001b[38;5;241;43m.\u001b[39;49m\u001b[43mconcatenate\u001b[49m\u001b[43m(\u001b[49m\u001b[43m(\u001b[49m\u001b[43mql\u001b[49m\u001b[43m,\u001b[49m\u001b[43m \u001b[49m\u001b[43mql_1\u001b[49m\u001b[43m,\u001b[49m\u001b[43m \u001b[49m\u001b[43mbond_order\u001b[49m\u001b[43m)\u001b[49m\u001b[43m,\u001b[49m\u001b[43m \u001b[49m\u001b[43maxis\u001b[49m\u001b[38;5;241;43m=\u001b[39;49m\u001b[38;5;241;43m1\u001b[39;49m\u001b[43m)\u001b[49m\u001b[43m,\u001b[49m\u001b[43m \u001b[49m\u001b[43mcolumns\u001b[49m\u001b[38;5;241;43m=\u001b[39;49m\u001b[43ml_s_names_copy\u001b[49m\u001b[38;5;241;43m+\u001b[39;49m\u001b[43mbo_names\u001b[49m\u001b[43m)\u001b[49m\n\u001b[1;32m    345\u001b[0m \u001b[38;5;66;03m# df2 = pd.DataFrame(ql, columns=l_s_names)\u001b[39;00m\n\u001b[1;32m    346\u001b[0m df2[\u001b[38;5;124m'\u001b[39m\u001b[38;5;124mvol\u001b[39m\u001b[38;5;124m'\u001b[39m] \u001b[38;5;241m=\u001b[39m v_local\n",
      "File \u001b[0;32m~/miniconda3/envs/tf/lib/python3.11/site-packages/pandas/core/frame.py:785\u001b[0m, in \u001b[0;36mDataFrame.__init__\u001b[0;34m(self, data, index, columns, dtype, copy)\u001b[0m\n\u001b[1;32m    774\u001b[0m         mgr \u001b[38;5;241m=\u001b[39m dict_to_mgr(\n\u001b[1;32m    775\u001b[0m             \u001b[38;5;66;03m# error: Item \"ndarray\" of \"Union[ndarray, Series, Index]\" has no\u001b[39;00m\n\u001b[1;32m    776\u001b[0m             \u001b[38;5;66;03m# attribute \"name\"\u001b[39;00m\n\u001b[0;32m   (...)\u001b[0m\n\u001b[1;32m    782\u001b[0m             copy\u001b[38;5;241m=\u001b[39m_copy,\n\u001b[1;32m    783\u001b[0m         )\n\u001b[1;32m    784\u001b[0m     \u001b[38;5;28;01melse\u001b[39;00m:\n\u001b[0;32m--> 785\u001b[0m         mgr \u001b[38;5;241m=\u001b[39m \u001b[43mndarray_to_mgr\u001b[49m\u001b[43m(\u001b[49m\n\u001b[1;32m    786\u001b[0m \u001b[43m            \u001b[49m\u001b[43mdata\u001b[49m\u001b[43m,\u001b[49m\n\u001b[1;32m    787\u001b[0m \u001b[43m            \u001b[49m\u001b[43mindex\u001b[49m\u001b[43m,\u001b[49m\n\u001b[1;32m    788\u001b[0m \u001b[43m            \u001b[49m\u001b[43mcolumns\u001b[49m\u001b[43m,\u001b[49m\n\u001b[1;32m    789\u001b[0m \u001b[43m            \u001b[49m\u001b[43mdtype\u001b[49m\u001b[38;5;241;43m=\u001b[39;49m\u001b[43mdtype\u001b[49m\u001b[43m,\u001b[49m\n\u001b[1;32m    790\u001b[0m \u001b[43m            \u001b[49m\u001b[43mcopy\u001b[49m\u001b[38;5;241;43m=\u001b[39;49m\u001b[43mcopy\u001b[49m\u001b[43m,\u001b[49m\n\u001b[1;32m    791\u001b[0m \u001b[43m            \u001b[49m\u001b[43mtyp\u001b[49m\u001b[38;5;241;43m=\u001b[39;49m\u001b[43mmanager\u001b[49m\u001b[43m,\u001b[49m\n\u001b[1;32m    792\u001b[0m \u001b[43m        \u001b[49m\u001b[43m)\u001b[49m\n\u001b[1;32m    794\u001b[0m \u001b[38;5;66;03m# For data is list-like, or Iterable (will consume into list)\u001b[39;00m\n\u001b[1;32m    795\u001b[0m \u001b[38;5;28;01melif\u001b[39;00m is_list_like(data):\n",
      "File \u001b[0;32m~/miniconda3/envs/tf/lib/python3.11/site-packages/pandas/core/internals/construction.py:336\u001b[0m, in \u001b[0;36mndarray_to_mgr\u001b[0;34m(values, index, columns, dtype, copy, typ)\u001b[0m\n\u001b[1;32m    331\u001b[0m \u001b[38;5;66;03m# _prep_ndarraylike ensures that values.ndim == 2 at this point\u001b[39;00m\n\u001b[1;32m    332\u001b[0m index, columns \u001b[38;5;241m=\u001b[39m _get_axes(\n\u001b[1;32m    333\u001b[0m     values\u001b[38;5;241m.\u001b[39mshape[\u001b[38;5;241m0\u001b[39m], values\u001b[38;5;241m.\u001b[39mshape[\u001b[38;5;241m1\u001b[39m], index\u001b[38;5;241m=\u001b[39mindex, columns\u001b[38;5;241m=\u001b[39mcolumns\n\u001b[1;32m    334\u001b[0m )\n\u001b[0;32m--> 336\u001b[0m \u001b[43m_check_values_indices_shape_match\u001b[49m\u001b[43m(\u001b[49m\u001b[43mvalues\u001b[49m\u001b[43m,\u001b[49m\u001b[43m \u001b[49m\u001b[43mindex\u001b[49m\u001b[43m,\u001b[49m\u001b[43m \u001b[49m\u001b[43mcolumns\u001b[49m\u001b[43m)\u001b[49m\n\u001b[1;32m    338\u001b[0m \u001b[38;5;28;01mif\u001b[39;00m typ \u001b[38;5;241m==\u001b[39m \u001b[38;5;124m\"\u001b[39m\u001b[38;5;124marray\u001b[39m\u001b[38;5;124m\"\u001b[39m:\n\u001b[1;32m    339\u001b[0m     \u001b[38;5;28;01mif\u001b[39;00m \u001b[38;5;28missubclass\u001b[39m(values\u001b[38;5;241m.\u001b[39mdtype\u001b[38;5;241m.\u001b[39mtype, \u001b[38;5;28mstr\u001b[39m):\n",
      "File \u001b[0;32m~/miniconda3/envs/tf/lib/python3.11/site-packages/pandas/core/internals/construction.py:420\u001b[0m, in \u001b[0;36m_check_values_indices_shape_match\u001b[0;34m(values, index, columns)\u001b[0m\n\u001b[1;32m    418\u001b[0m passed \u001b[38;5;241m=\u001b[39m values\u001b[38;5;241m.\u001b[39mshape\n\u001b[1;32m    419\u001b[0m implied \u001b[38;5;241m=\u001b[39m (\u001b[38;5;28mlen\u001b[39m(index), \u001b[38;5;28mlen\u001b[39m(columns))\n\u001b[0;32m--> 420\u001b[0m \u001b[38;5;28;01mraise\u001b[39;00m \u001b[38;5;167;01mValueError\u001b[39;00m(\u001b[38;5;124mf\u001b[39m\u001b[38;5;124m\"\u001b[39m\u001b[38;5;124mShape of passed values is \u001b[39m\u001b[38;5;132;01m{\u001b[39;00mpassed\u001b[38;5;132;01m}\u001b[39;00m\u001b[38;5;124m, indices imply \u001b[39m\u001b[38;5;132;01m{\u001b[39;00mimplied\u001b[38;5;132;01m}\u001b[39;00m\u001b[38;5;124m\"\u001b[39m)\n",
      "\u001b[0;31mValueError\u001b[0m: Shape of passed values is (54, 4), indices imply (54, 3)"
     ]
    }
   ],
   "source": [
    "dataset_dict = vary_n_neighbours(N_neighbours_list, df_list)"
   ]
  },
  {
   "cell_type": "code",
   "execution_count": null,
   "id": "e8df0212-48e6-4055-a422-8f7c201fcfe1",
   "metadata": {},
   "outputs": [],
   "source": [
    "dataset_dict.keys()"
   ]
  },
  {
   "cell_type": "code",
   "execution_count": null,
   "id": "c8c10424-9bd5-4650-b7bf-dd6c4682d0d2",
   "metadata": {},
   "outputs": [],
   "source": [
    "with open('data/n_neighbour_dataframes.pkl', 'wb') as f:\n",
    "    pickle.dump(dataset_dict, f)"
   ]
  },
  {
   "cell_type": "code",
   "execution_count": null,
   "id": "d1599e91-280e-43e5-836e-95e562514815",
   "metadata": {},
   "outputs": [],
   "source": []
  },
  {
   "cell_type": "code",
   "execution_count": null,
   "id": "4a1ba825-bc0c-4c5a-a031-3130e5d0fc30",
   "metadata": {},
   "outputs": [],
   "source": []
  }
 ],
 "metadata": {
  "kernelspec": {
   "display_name": "Python 3 (ipykernel)",
   "language": "python",
   "name": "python3"
  },
  "language_info": {
   "codemirror_mode": {
    "name": "ipython",
    "version": 3
   },
   "file_extension": ".py",
   "mimetype": "text/x-python",
   "name": "python",
   "nbconvert_exporter": "python",
   "pygments_lexer": "ipython3",
   "version": "3.11.5"
  }
 },
 "nbformat": 4,
 "nbformat_minor": 5
}
