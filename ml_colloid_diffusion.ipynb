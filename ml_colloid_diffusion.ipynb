{
 "cells": [
  {
   "cell_type": "code",
   "execution_count": 1,
   "id": "4d841472-2492-43da-b936-8a6e5da2d0c8",
   "metadata": {},
   "outputs": [
    {
     "name": "stderr",
     "output_type": "stream",
     "text": [
      "2024-01-25 10:50:44.406174: I tensorflow/core/platform/cpu_feature_guard.cc:182] This TensorFlow binary is optimized to use available CPU instructions in performance-critical operations.\n",
      "To enable the following instructions: SSE4.1 SSE4.2 AVX AVX2 FMA, in other operations, rebuild TensorFlow with the appropriate compiler flags.\n",
      "Using `tqdm.autonotebook.tqdm` in notebook mode. Use `tqdm.tqdm` instead to force console mode (e.g. in jupyter console)\n"
     ]
    }
   ],
   "source": [
    "import numpy as np\n",
    "import pandas as pd\n",
    "import matplotlib.pyplot as plt\n",
    "\n",
    "#for ML preprocessing\n",
    "from sklearn import preprocessing\n",
    "from sklearn.model_selection import train_test_split\n",
    "#neural network\n",
    "from tensorflow import keras\n",
    "from tensorflow.keras import layers\n",
    "from keras import optimizers\n",
    "#nerual net analysis\n",
    "import shap\n",
    "#random forest classifier\n",
    "from sklearn.ensemble import RandomForestRegressor\n",
    "from sklearn.model_selection import GridSearchCV #for gridsearch of rf\n",
    "#evaluation\n",
    "from sklearn.metrics import r2_score\n",
    "\n",
    "import MLACDS as dt\n",
    "\n",
    "pd.set_option('display.max_columns', None)"
   ]
  },
  {
   "cell_type": "markdown",
   "id": "8ef2d769-935d-403e-b63e-65a574f2d09a",
   "metadata": {},
   "source": [
    "Files with useable data:\n",
    "'p0.1_N54/'\n",
    "'p0.2_N54/'\n",
    "'p0.3_N54/'"
   ]
  },
  {
   "cell_type": "code",
   "execution_count": 2,
   "id": "e60f0327-e36d-4eed-866e-fdd8642ae04f",
   "metadata": {},
   "outputs": [],
   "source": [
    "N_neighbours = 8 ### number of neighbours to be extracted\n",
    "\n",
    "dires = ['p0.2_N54/'] #data we want to load for training"
   ]
  },
  {
   "cell_type": "code",
   "execution_count": 3,
   "id": "41c08248-999e-4c98-b941-12149f88084c",
   "metadata": {},
   "outputs": [],
   "source": [
    "#### list with names to be used in the final dataframe\n",
    "l_s = list(range(N_neighbours))\n",
    "l_s_names = []\n",
    "for i in l_s:\n",
    "    l_s_names.append('l'+str(i))"
   ]
  },
  {
   "cell_type": "code",
   "execution_count": 4,
   "id": "1302add6-4879-4026-9e4c-b0ed3e2dbccc",
   "metadata": {},
   "outputs": [],
   "source": [
    "### list of columns for bond order parameter\n",
    "bo = list(range(N_neighbours))\n",
    "bo_names = []\n",
    "for i in bo:\n",
    "    bo_names.append(\"bo\"+str(i))"
   ]
  },
  {
   "cell_type": "code",
   "execution_count": 5,
   "id": "050d5d82-ac6f-44ef-ad90-06ba380862a7",
   "metadata": {},
   "outputs": [],
   "source": [
    "f_r_cut_vol = 4### cut off used for the local volume calculation\n",
    "# radius of local volume spher \n",
    "#keep @ 4 too small too little neighbour\n",
    "\n",
    "f_r_cut_sp = 30###A big number here means look for the closest \n",
    "                #neighbours\n",
    "               ###For a small cut-off the number of neighbours\n",
    "                #might not be the same for all particles\n"
   ]
  },
  {
   "cell_type": "code",
   "execution_count": 6,
   "id": "c4d88a0c-dfa7-4b04-bb47-e6ba72b0fc6e",
   "metadata": {},
   "outputs": [
    {
     "data": {
      "application/vnd.jupyter.widget-view+json": {
       "model_id": "27db8bb0277041809a12789d805f1858",
       "version_major": 2,
       "version_minor": 0
      },
      "text/plain": [
       "  0%|          | 0/100 [00:00<?, ?it/s]"
      ]
     },
     "metadata": {},
     "output_type": "display_data"
    },
    {
     "name": "stderr",
     "output_type": "stream",
     "text": [
      "The behavior of DataFrame concatenation with empty or all-NA entries is deprecated. In a future version, this will no longer exclude empty or all-NA columns when determining the result dtypes. To retain the old behavior, exclude the relevant entries before the concat operation.\n"
     ]
    },
    {
     "name": "stdout",
     "output_type": "stream",
     "text": [
      "(54, 8)\n",
      "(54, 8)\n"
     ]
    }
   ],
   "source": [
    "df = dt.load_data(dires, l_s, l_s_names, bo, bo_names, f_r_cut_vol, f_r_cut_sp, N_neighbours)"
   ]
  },
  {
   "cell_type": "code",
   "execution_count": 7,
   "id": "17ab104a-44d4-4e98-9517-8ed91a0a870b",
   "metadata": {},
   "outputs": [
    {
     "data": {
      "text/html": [
       "<div>\n",
       "<style scoped>\n",
       "    .dataframe tbody tr th:only-of-type {\n",
       "        vertical-align: middle;\n",
       "    }\n",
       "\n",
       "    .dataframe tbody tr th {\n",
       "        vertical-align: top;\n",
       "    }\n",
       "\n",
       "    .dataframe thead th {\n",
       "        text-align: right;\n",
       "    }\n",
       "</style>\n",
       "<table border=\"1\" class=\"dataframe\">\n",
       "  <thead>\n",
       "    <tr style=\"text-align: right;\">\n",
       "      <th></th>\n",
       "      <th>l0</th>\n",
       "      <th>l1</th>\n",
       "      <th>l2</th>\n",
       "      <th>l3</th>\n",
       "      <th>l4</th>\n",
       "      <th>l5</th>\n",
       "      <th>l6</th>\n",
       "      <th>l7</th>\n",
       "      <th>bo0</th>\n",
       "      <th>bo1</th>\n",
       "      <th>bo2</th>\n",
       "      <th>bo3</th>\n",
       "      <th>bo4</th>\n",
       "      <th>bo5</th>\n",
       "      <th>bo6</th>\n",
       "      <th>bo7</th>\n",
       "      <th>vol</th>\n",
       "      <th>n_neighbours</th>\n",
       "      <th>Ds</th>\n",
       "    </tr>\n",
       "  </thead>\n",
       "  <tbody>\n",
       "    <tr>\n",
       "      <th>0</th>\n",
       "      <td>0.563190</td>\n",
       "      <td>0.565949</td>\n",
       "      <td>0.580143</td>\n",
       "      <td>0.707842</td>\n",
       "      <td>0.773975</td>\n",
       "      <td>0.834769</td>\n",
       "      <td>0.884115</td>\n",
       "      <td>0.888794</td>\n",
       "      <td>3.544908</td>\n",
       "      <td>1.009394e-17</td>\n",
       "      <td>0.035187</td>\n",
       "      <td>3.646431e-17</td>\n",
       "      <td>0.254532</td>\n",
       "      <td>6.767539e-17</td>\n",
       "      <td>0.083104</td>\n",
       "      <td>7.637651e-17</td>\n",
       "      <td>0.200455</td>\n",
       "      <td>53.0</td>\n",
       "      <td>0.367946</td>\n",
       "    </tr>\n",
       "    <tr>\n",
       "      <th>1</th>\n",
       "      <td>0.575812</td>\n",
       "      <td>0.590612</td>\n",
       "      <td>0.632228</td>\n",
       "      <td>0.649492</td>\n",
       "      <td>0.685031</td>\n",
       "      <td>0.731453</td>\n",
       "      <td>0.744061</td>\n",
       "      <td>0.888794</td>\n",
       "      <td>3.544908</td>\n",
       "      <td>7.252131e-18</td>\n",
       "      <td>0.035187</td>\n",
       "      <td>3.590567e-17</td>\n",
       "      <td>0.254532</td>\n",
       "      <td>6.602351e-17</td>\n",
       "      <td>0.083104</td>\n",
       "      <td>7.457234e-17</td>\n",
       "      <td>0.206035</td>\n",
       "      <td>53.0</td>\n",
       "      <td>0.405260</td>\n",
       "    </tr>\n",
       "    <tr>\n",
       "      <th>2</th>\n",
       "      <td>0.564883</td>\n",
       "      <td>0.575887</td>\n",
       "      <td>0.607135</td>\n",
       "      <td>0.613226</td>\n",
       "      <td>0.648257</td>\n",
       "      <td>0.651667</td>\n",
       "      <td>0.694666</td>\n",
       "      <td>0.906113</td>\n",
       "      <td>3.544908</td>\n",
       "      <td>1.063815e-17</td>\n",
       "      <td>0.035187</td>\n",
       "      <td>3.653650e-17</td>\n",
       "      <td>0.254532</td>\n",
       "      <td>6.499404e-17</td>\n",
       "      <td>0.083104</td>\n",
       "      <td>7.466443e-17</td>\n",
       "      <td>0.216181</td>\n",
       "      <td>53.0</td>\n",
       "      <td>0.411686</td>\n",
       "    </tr>\n",
       "    <tr>\n",
       "      <th>3</th>\n",
       "      <td>0.566483</td>\n",
       "      <td>0.583332</td>\n",
       "      <td>0.648028</td>\n",
       "      <td>0.700093</td>\n",
       "      <td>0.725940</td>\n",
       "      <td>0.791908</td>\n",
       "      <td>0.866125</td>\n",
       "      <td>0.869910</td>\n",
       "      <td>3.544908</td>\n",
       "      <td>7.595735e-18</td>\n",
       "      <td>0.035187</td>\n",
       "      <td>3.633844e-17</td>\n",
       "      <td>0.254532</td>\n",
       "      <td>6.607907e-17</td>\n",
       "      <td>0.083104</td>\n",
       "      <td>7.435893e-17</td>\n",
       "      <td>0.192773</td>\n",
       "      <td>53.0</td>\n",
       "      <td>0.387032</td>\n",
       "    </tr>\n",
       "    <tr>\n",
       "      <th>4</th>\n",
       "      <td>0.552615</td>\n",
       "      <td>0.566483</td>\n",
       "      <td>0.706214</td>\n",
       "      <td>0.773975</td>\n",
       "      <td>0.827710</td>\n",
       "      <td>0.847720</td>\n",
       "      <td>0.905372</td>\n",
       "      <td>0.916870</td>\n",
       "      <td>3.544908</td>\n",
       "      <td>4.767561e-18</td>\n",
       "      <td>0.035187</td>\n",
       "      <td>3.616554e-17</td>\n",
       "      <td>0.254532</td>\n",
       "      <td>6.605771e-17</td>\n",
       "      <td>0.083104</td>\n",
       "      <td>7.418424e-17</td>\n",
       "      <td>0.192975</td>\n",
       "      <td>53.0</td>\n",
       "      <td>0.346245</td>\n",
       "    </tr>\n",
       "    <tr>\n",
       "      <th>...</th>\n",
       "      <td>...</td>\n",
       "      <td>...</td>\n",
       "      <td>...</td>\n",
       "      <td>...</td>\n",
       "      <td>...</td>\n",
       "      <td>...</td>\n",
       "      <td>...</td>\n",
       "      <td>...</td>\n",
       "      <td>...</td>\n",
       "      <td>...</td>\n",
       "      <td>...</td>\n",
       "      <td>...</td>\n",
       "      <td>...</td>\n",
       "      <td>...</td>\n",
       "      <td>...</td>\n",
       "      <td>...</td>\n",
       "      <td>...</td>\n",
       "      <td>...</td>\n",
       "      <td>...</td>\n",
       "    </tr>\n",
       "    <tr>\n",
       "      <th>5395</th>\n",
       "      <td>0.614620</td>\n",
       "      <td>0.621393</td>\n",
       "      <td>0.658428</td>\n",
       "      <td>0.676909</td>\n",
       "      <td>0.698650</td>\n",
       "      <td>0.743611</td>\n",
       "      <td>0.803709</td>\n",
       "      <td>0.857511</td>\n",
       "      <td>3.544908</td>\n",
       "      <td>3.059538e-17</td>\n",
       "      <td>0.034166</td>\n",
       "      <td>3.328186e-17</td>\n",
       "      <td>0.253684</td>\n",
       "      <td>4.976994e-17</td>\n",
       "      <td>0.078902</td>\n",
       "      <td>7.386497e-17</td>\n",
       "      <td>0.215685</td>\n",
       "      <td>53.0</td>\n",
       "      <td>0.393998</td>\n",
       "    </tr>\n",
       "    <tr>\n",
       "      <th>5396</th>\n",
       "      <td>0.544488</td>\n",
       "      <td>0.611636</td>\n",
       "      <td>0.633573</td>\n",
       "      <td>0.705376</td>\n",
       "      <td>0.734750</td>\n",
       "      <td>0.821348</td>\n",
       "      <td>0.857511</td>\n",
       "      <td>0.864222</td>\n",
       "      <td>3.544908</td>\n",
       "      <td>3.030363e-17</td>\n",
       "      <td>0.034166</td>\n",
       "      <td>3.317297e-17</td>\n",
       "      <td>0.253684</td>\n",
       "      <td>4.979619e-17</td>\n",
       "      <td>0.078902</td>\n",
       "      <td>7.383386e-17</td>\n",
       "      <td>0.198661</td>\n",
       "      <td>53.0</td>\n",
       "      <td>0.386789</td>\n",
       "    </tr>\n",
       "    <tr>\n",
       "      <th>5397</th>\n",
       "      <td>0.614163</td>\n",
       "      <td>0.670857</td>\n",
       "      <td>0.734750</td>\n",
       "      <td>0.767399</td>\n",
       "      <td>0.781626</td>\n",
       "      <td>0.794275</td>\n",
       "      <td>0.840062</td>\n",
       "      <td>0.852348</td>\n",
       "      <td>3.544908</td>\n",
       "      <td>2.992687e-17</td>\n",
       "      <td>0.034166</td>\n",
       "      <td>3.313902e-17</td>\n",
       "      <td>0.253684</td>\n",
       "      <td>4.981818e-17</td>\n",
       "      <td>0.078902</td>\n",
       "      <td>7.372116e-17</td>\n",
       "      <td>0.201818</td>\n",
       "      <td>53.0</td>\n",
       "      <td>0.374940</td>\n",
       "    </tr>\n",
       "    <tr>\n",
       "      <th>5398</th>\n",
       "      <td>0.587466</td>\n",
       "      <td>0.591041</td>\n",
       "      <td>0.593595</td>\n",
       "      <td>0.608679</td>\n",
       "      <td>0.670857</td>\n",
       "      <td>0.729277</td>\n",
       "      <td>0.758259</td>\n",
       "      <td>0.796437</td>\n",
       "      <td>3.544908</td>\n",
       "      <td>3.025256e-17</td>\n",
       "      <td>0.034166</td>\n",
       "      <td>3.306143e-17</td>\n",
       "      <td>0.253684</td>\n",
       "      <td>4.980164e-17</td>\n",
       "      <td>0.078902</td>\n",
       "      <td>7.381448e-17</td>\n",
       "      <td>0.238355</td>\n",
       "      <td>53.0</td>\n",
       "      <td>0.415230</td>\n",
       "    </tr>\n",
       "    <tr>\n",
       "      <th>5399</th>\n",
       "      <td>0.591041</td>\n",
       "      <td>0.602678</td>\n",
       "      <td>0.653597</td>\n",
       "      <td>0.658428</td>\n",
       "      <td>0.691546</td>\n",
       "      <td>0.692011</td>\n",
       "      <td>0.804425</td>\n",
       "      <td>0.815197</td>\n",
       "      <td>3.544908</td>\n",
       "      <td>3.002128e-17</td>\n",
       "      <td>0.034166</td>\n",
       "      <td>3.311633e-17</td>\n",
       "      <td>0.253684</td>\n",
       "      <td>4.985364e-17</td>\n",
       "      <td>0.078902</td>\n",
       "      <td>7.380279e-17</td>\n",
       "      <td>0.185016</td>\n",
       "      <td>53.0</td>\n",
       "      <td>0.422381</td>\n",
       "    </tr>\n",
       "  </tbody>\n",
       "</table>\n",
       "<p>5400 rows × 19 columns</p>\n",
       "</div>"
      ],
      "text/plain": [
       "            l0        l1        l2        l3        l4        l5        l6  \\\n",
       "0     0.563190  0.565949  0.580143  0.707842  0.773975  0.834769  0.884115   \n",
       "1     0.575812  0.590612  0.632228  0.649492  0.685031  0.731453  0.744061   \n",
       "2     0.564883  0.575887  0.607135  0.613226  0.648257  0.651667  0.694666   \n",
       "3     0.566483  0.583332  0.648028  0.700093  0.725940  0.791908  0.866125   \n",
       "4     0.552615  0.566483  0.706214  0.773975  0.827710  0.847720  0.905372   \n",
       "...        ...       ...       ...       ...       ...       ...       ...   \n",
       "5395  0.614620  0.621393  0.658428  0.676909  0.698650  0.743611  0.803709   \n",
       "5396  0.544488  0.611636  0.633573  0.705376  0.734750  0.821348  0.857511   \n",
       "5397  0.614163  0.670857  0.734750  0.767399  0.781626  0.794275  0.840062   \n",
       "5398  0.587466  0.591041  0.593595  0.608679  0.670857  0.729277  0.758259   \n",
       "5399  0.591041  0.602678  0.653597  0.658428  0.691546  0.692011  0.804425   \n",
       "\n",
       "            l7       bo0           bo1       bo2           bo3       bo4  \\\n",
       "0     0.888794  3.544908  1.009394e-17  0.035187  3.646431e-17  0.254532   \n",
       "1     0.888794  3.544908  7.252131e-18  0.035187  3.590567e-17  0.254532   \n",
       "2     0.906113  3.544908  1.063815e-17  0.035187  3.653650e-17  0.254532   \n",
       "3     0.869910  3.544908  7.595735e-18  0.035187  3.633844e-17  0.254532   \n",
       "4     0.916870  3.544908  4.767561e-18  0.035187  3.616554e-17  0.254532   \n",
       "...        ...       ...           ...       ...           ...       ...   \n",
       "5395  0.857511  3.544908  3.059538e-17  0.034166  3.328186e-17  0.253684   \n",
       "5396  0.864222  3.544908  3.030363e-17  0.034166  3.317297e-17  0.253684   \n",
       "5397  0.852348  3.544908  2.992687e-17  0.034166  3.313902e-17  0.253684   \n",
       "5398  0.796437  3.544908  3.025256e-17  0.034166  3.306143e-17  0.253684   \n",
       "5399  0.815197  3.544908  3.002128e-17  0.034166  3.311633e-17  0.253684   \n",
       "\n",
       "               bo5       bo6           bo7       vol  n_neighbours        Ds  \n",
       "0     6.767539e-17  0.083104  7.637651e-17  0.200455          53.0  0.367946  \n",
       "1     6.602351e-17  0.083104  7.457234e-17  0.206035          53.0  0.405260  \n",
       "2     6.499404e-17  0.083104  7.466443e-17  0.216181          53.0  0.411686  \n",
       "3     6.607907e-17  0.083104  7.435893e-17  0.192773          53.0  0.387032  \n",
       "4     6.605771e-17  0.083104  7.418424e-17  0.192975          53.0  0.346245  \n",
       "...            ...       ...           ...       ...           ...       ...  \n",
       "5395  4.976994e-17  0.078902  7.386497e-17  0.215685          53.0  0.393998  \n",
       "5396  4.979619e-17  0.078902  7.383386e-17  0.198661          53.0  0.386789  \n",
       "5397  4.981818e-17  0.078902  7.372116e-17  0.201818          53.0  0.374940  \n",
       "5398  4.980164e-17  0.078902  7.381448e-17  0.238355          53.0  0.415230  \n",
       "5399  4.985364e-17  0.078902  7.380279e-17  0.185016          53.0  0.422381  \n",
       "\n",
       "[5400 rows x 19 columns]"
      ]
     },
     "execution_count": 7,
     "metadata": {},
     "output_type": "execute_result"
    }
   ],
   "source": [
    "df"
   ]
  },
  {
   "cell_type": "markdown",
   "id": "dbc28dd4-a562-4de0-b03a-950279e88132",
   "metadata": {},
   "source": [
    "## Data Preprocessing"
   ]
  },
  {
   "cell_type": "code",
   "execution_count": 8,
   "id": "2a467e6d-c8e4-4493-880a-f5f0d05c556d",
   "metadata": {},
   "outputs": [],
   "source": [
    "data = df.iloc[:,:-1]"
   ]
  },
  {
   "cell_type": "code",
   "execution_count": 9,
   "id": "479aa96e-3e0b-4bc2-909b-0b127ba34339",
   "metadata": {},
   "outputs": [],
   "source": [
    "target = df.Ds"
   ]
  },
  {
   "cell_type": "code",
   "execution_count": 10,
   "id": "28a22bf3-dfcf-4812-8649-efbdd910bccc",
   "metadata": {},
   "outputs": [],
   "source": [
    "#splitting the data to train and test\n",
    "X_train, X_test, y_train, y_test = train_test_split(data, target, random_state=13, test_size=0.4)"
   ]
  },
  {
   "cell_type": "code",
   "execution_count": 11,
   "id": "5aac9f5f-f177-4da4-bd37-5ff0cd5e9fd6",
   "metadata": {},
   "outputs": [],
   "source": [
    "#scaling data based on training set to prevent data leakage, the scaler computed from training set statistics will be applied to test data\n",
    "scaler = preprocessing.StandardScaler().fit(X_train)"
   ]
  },
  {
   "cell_type": "code",
   "execution_count": 12,
   "id": "c114037e-31c0-403e-9ee8-ec5becb2c232",
   "metadata": {},
   "outputs": [],
   "source": [
    "X_train_scaled = scaler.transform(X_train)\n",
    "X_test_scaled = scaler.transform(X_test)"
   ]
  },
  {
   "cell_type": "markdown",
   "id": "d5a4ad76-2310-47ea-8f53-ab41efb6a225",
   "metadata": {},
   "source": [
    "## NN Model"
   ]
  },
  {
   "cell_type": "code",
   "execution_count": 13,
   "id": "82a7b0ab-e118-48ef-9661-e95a8bab82b1",
   "metadata": {},
   "outputs": [
    {
     "name": "stderr",
     "output_type": "stream",
     "text": [
      "2024-01-25 10:51:18.344059: I tensorflow/core/common_runtime/process_util.cc:146] Creating new thread pool with default inter op setting: 2. Tune using inter_op_parallelism_threads for best performance.\n"
     ]
    }
   ],
   "source": [
    "#the first nn model. This contains:\n",
    "model = keras.Sequential([\n",
    "    layers.Dense(32, input_shape=(18,), activation=\"relu\"), #input layer\n",
    "    layers.Dense(16, activation=\"relu\"), #first hidden layer less nodes\n",
    "    layers.Dropout(0.5), #dropout layer with 50% dropout to prevent overfitting\n",
    "    layers.Dense(1) #output layer, no activation function as must be continuous\n",
    "])"
   ]
  },
  {
   "cell_type": "code",
   "execution_count": 14,
   "id": "c814ca7a-b3cb-45a8-a683-8e637b7df4df",
   "metadata": {},
   "outputs": [
    {
     "name": "stdout",
     "output_type": "stream",
     "text": [
      "Model: \"sequential\"\n",
      "_________________________________________________________________\n",
      " Layer (type)                Output Shape              Param #   \n",
      "=================================================================\n",
      " dense (Dense)               (None, 32)                608       \n",
      "                                                                 \n",
      " dense_1 (Dense)             (None, 16)                528       \n",
      "                                                                 \n",
      " dropout (Dropout)           (None, 16)                0         \n",
      "                                                                 \n",
      " dense_2 (Dense)             (None, 1)                 17        \n",
      "                                                                 \n",
      "=================================================================\n",
      "Total params: 1,153\n",
      "Trainable params: 1,153\n",
      "Non-trainable params: 0\n",
      "_________________________________________________________________\n"
     ]
    }
   ],
   "source": [
    "model.summary()"
   ]
  },
  {
   "cell_type": "code",
   "execution_count": 50,
   "id": "13ed94d5-e82b-479f-8a66-9bd547026bed",
   "metadata": {},
   "outputs": [],
   "source": [
    "# # Compile the model\n",
    "model.compile(optimizer=optimizers.RMSprop(),\n",
    "                loss='mse',\n",
    "                metrics=['mae'])"
   ]
  },
  {
   "cell_type": "code",
   "execution_count": 51,
   "id": "cc197ca3-4c1f-44d5-8d41-c856251ec505",
   "metadata": {},
   "outputs": [],
   "source": [
    "# # Compile the model\n",
    "# model.compile(optimizer=optimizers.SGD(),\n",
    "#                 loss='mse',\n",
    "#                 metrics=['mae'])"
   ]
  },
  {
   "cell_type": "code",
   "execution_count": 54,
   "id": "615b6f9b-f2a3-4a21-920b-bb6b0d35d00f",
   "metadata": {},
   "outputs": [
    {
     "name": "stdout",
     "output_type": "stream",
     "text": [
      "Epoch 1/100\n",
      "102/102 [==============================] - 1s 6ms/step - loss: 1.4814e-04 - mae: 0.0084 - val_loss: 3.8264e-05 - val_mae: 0.0049\n",
      "Epoch 2/100\n",
      "102/102 [==============================] - 0s 3ms/step - loss: 1.5278e-04 - mae: 0.0085 - val_loss: 2.6404e-05 - val_mae: 0.0040\n",
      "Epoch 3/100\n",
      "102/102 [==============================] - 0s 2ms/step - loss: 1.5922e-04 - mae: 0.0086 - val_loss: 5.5994e-05 - val_mae: 0.0059\n",
      "Epoch 4/100\n",
      "102/102 [==============================] - 0s 3ms/step - loss: 1.5841e-04 - mae: 0.0087 - val_loss: 4.7172e-05 - val_mae: 0.0054\n",
      "Epoch 5/100\n",
      "102/102 [==============================] - 0s 3ms/step - loss: 1.4792e-04 - mae: 0.0084 - val_loss: 3.4687e-05 - val_mae: 0.0046\n",
      "Epoch 6/100\n",
      "102/102 [==============================] - 0s 3ms/step - loss: 1.5251e-04 - mae: 0.0085 - val_loss: 4.5570e-05 - val_mae: 0.0050\n",
      "Epoch 7/100\n",
      "102/102 [==============================] - 0s 3ms/step - loss: 1.4726e-04 - mae: 0.0084 - val_loss: 4.6802e-05 - val_mae: 0.0054\n",
      "Epoch 8/100\n",
      "102/102 [==============================] - 0s 3ms/step - loss: 1.3895e-04 - mae: 0.0081 - val_loss: 1.2732e-05 - val_mae: 0.0028\n",
      "Epoch 9/100\n",
      "102/102 [==============================] - 0s 3ms/step - loss: 1.4555e-04 - mae: 0.0083 - val_loss: 4.1223e-05 - val_mae: 0.0051\n",
      "Epoch 10/100\n",
      "102/102 [==============================] - 0s 3ms/step - loss: 1.3731e-04 - mae: 0.0081 - val_loss: 3.3577e-05 - val_mae: 0.0046\n",
      "Epoch 11/100\n",
      "102/102 [==============================] - 0s 3ms/step - loss: 1.5456e-04 - mae: 0.0086 - val_loss: 4.7624e-05 - val_mae: 0.0054\n",
      "Epoch 12/100\n",
      "102/102 [==============================] - 0s 3ms/step - loss: 1.4687e-04 - mae: 0.0083 - val_loss: 3.8361e-05 - val_mae: 0.0049\n",
      "Epoch 13/100\n",
      "102/102 [==============================] - 0s 3ms/step - loss: 1.5188e-04 - mae: 0.0084 - val_loss: 5.2030e-05 - val_mae: 0.0058\n",
      "Epoch 14/100\n",
      "102/102 [==============================] - 0s 2ms/step - loss: 1.5956e-04 - mae: 0.0086 - val_loss: 3.2793e-05 - val_mae: 0.0045\n",
      "Epoch 15/100\n",
      "102/102 [==============================] - 0s 2ms/step - loss: 1.5099e-04 - mae: 0.0083 - val_loss: 2.5403e-05 - val_mae: 0.0040\n",
      "Epoch 16/100\n",
      "102/102 [==============================] - 0s 2ms/step - loss: 1.3960e-04 - mae: 0.0082 - val_loss: 1.1351e-04 - val_mae: 0.0081\n",
      "Epoch 17/100\n",
      "102/102 [==============================] - 0s 3ms/step - loss: 1.4707e-04 - mae: 0.0084 - val_loss: 2.1032e-05 - val_mae: 0.0035\n",
      "Epoch 18/100\n",
      "102/102 [==============================] - 0s 2ms/step - loss: 1.5023e-04 - mae: 0.0085 - val_loss: 6.0086e-05 - val_mae: 0.0060\n",
      "Epoch 19/100\n",
      "102/102 [==============================] - 0s 2ms/step - loss: 1.4364e-04 - mae: 0.0084 - val_loss: 2.8603e-05 - val_mae: 0.0042\n",
      "Epoch 20/100\n",
      "102/102 [==============================] - 0s 2ms/step - loss: 1.4788e-04 - mae: 0.0084 - val_loss: 2.6634e-05 - val_mae: 0.0041\n",
      "Epoch 21/100\n",
      "102/102 [==============================] - 1s 6ms/step - loss: 1.4926e-04 - mae: 0.0083 - val_loss: 4.3589e-05 - val_mae: 0.0053\n",
      "Epoch 22/100\n",
      "102/102 [==============================] - 0s 3ms/step - loss: 1.5659e-04 - mae: 0.0086 - val_loss: 3.7292e-05 - val_mae: 0.0046\n",
      "Epoch 23/100\n",
      "102/102 [==============================] - 0s 3ms/step - loss: 1.4977e-04 - mae: 0.0084 - val_loss: 2.4590e-05 - val_mae: 0.0040\n",
      "Epoch 24/100\n",
      "102/102 [==============================] - 0s 3ms/step - loss: 1.4583e-04 - mae: 0.0083 - val_loss: 4.8873e-05 - val_mae: 0.0051\n",
      "Epoch 25/100\n",
      "102/102 [==============================] - 0s 3ms/step - loss: 1.5880e-04 - mae: 0.0085 - val_loss: 3.2542e-05 - val_mae: 0.0046\n",
      "Epoch 26/100\n",
      "102/102 [==============================] - 0s 4ms/step - loss: 1.4855e-04 - mae: 0.0084 - val_loss: 4.6836e-05 - val_mae: 0.0055\n",
      "Epoch 27/100\n",
      "102/102 [==============================] - 0s 2ms/step - loss: 1.5799e-04 - mae: 0.0086 - val_loss: 3.5084e-05 - val_mae: 0.0046\n",
      "Epoch 28/100\n",
      "102/102 [==============================] - 0s 3ms/step - loss: 1.4904e-04 - mae: 0.0084 - val_loss: 7.2761e-05 - val_mae: 0.0068\n",
      "Epoch 29/100\n",
      "102/102 [==============================] - 0s 3ms/step - loss: 1.4986e-04 - mae: 0.0085 - val_loss: 4.7192e-05 - val_mae: 0.0055\n",
      "Epoch 30/100\n",
      "102/102 [==============================] - 0s 3ms/step - loss: 1.4952e-04 - mae: 0.0084 - val_loss: 4.2531e-05 - val_mae: 0.0053\n",
      "Epoch 31/100\n",
      "102/102 [==============================] - 0s 2ms/step - loss: 1.4028e-04 - mae: 0.0083 - val_loss: 2.6955e-05 - val_mae: 0.0041\n",
      "Epoch 32/100\n",
      "102/102 [==============================] - 0s 3ms/step - loss: 1.4264e-04 - mae: 0.0084 - val_loss: 7.4779e-05 - val_mae: 0.0069\n",
      "Epoch 33/100\n",
      "102/102 [==============================] - 0s 3ms/step - loss: 1.4745e-04 - mae: 0.0083 - val_loss: 5.0704e-05 - val_mae: 0.0057\n",
      "Epoch 34/100\n",
      "102/102 [==============================] - 0s 3ms/step - loss: 1.4753e-04 - mae: 0.0084 - val_loss: 2.0002e-05 - val_mae: 0.0034\n",
      "Epoch 35/100\n",
      "102/102 [==============================] - 0s 3ms/step - loss: 1.5102e-04 - mae: 0.0085 - val_loss: 5.3367e-05 - val_mae: 0.0057\n",
      "Epoch 36/100\n",
      "102/102 [==============================] - 0s 2ms/step - loss: 1.4901e-04 - mae: 0.0084 - val_loss: 3.8615e-05 - val_mae: 0.0049\n",
      "Epoch 37/100\n",
      "102/102 [==============================] - 0s 2ms/step - loss: 1.4558e-04 - mae: 0.0083 - val_loss: 3.0919e-05 - val_mae: 0.0045\n",
      "Epoch 38/100\n",
      "102/102 [==============================] - 0s 2ms/step - loss: 1.4778e-04 - mae: 0.0083 - val_loss: 4.3128e-05 - val_mae: 0.0053\n",
      "Epoch 39/100\n",
      "102/102 [==============================] - 0s 2ms/step - loss: 1.4490e-04 - mae: 0.0083 - val_loss: 4.4598e-05 - val_mae: 0.0053\n",
      "Epoch 40/100\n",
      "102/102 [==============================] - 0s 3ms/step - loss: 1.4226e-04 - mae: 0.0082 - val_loss: 4.5234e-05 - val_mae: 0.0054\n",
      "Epoch 41/100\n",
      "102/102 [==============================] - 0s 2ms/step - loss: 1.4927e-04 - mae: 0.0084 - val_loss: 2.2042e-05 - val_mae: 0.0036\n",
      "Epoch 42/100\n",
      "102/102 [==============================] - 0s 3ms/step - loss: 1.5343e-04 - mae: 0.0086 - val_loss: 3.8125e-05 - val_mae: 0.0050\n",
      "Epoch 43/100\n",
      "102/102 [==============================] - 0s 3ms/step - loss: 1.5390e-04 - mae: 0.0084 - val_loss: 4.6316e-05 - val_mae: 0.0051\n",
      "Epoch 44/100\n",
      "102/102 [==============================] - 0s 2ms/step - loss: 1.4739e-04 - mae: 0.0083 - val_loss: 3.9887e-05 - val_mae: 0.0051\n",
      "Epoch 45/100\n",
      "102/102 [==============================] - 0s 3ms/step - loss: 1.5529e-04 - mae: 0.0084 - val_loss: 4.2406e-05 - val_mae: 0.0052\n",
      "Epoch 46/100\n",
      "102/102 [==============================] - 0s 3ms/step - loss: 1.6337e-04 - mae: 0.0087 - val_loss: 5.8153e-05 - val_mae: 0.0058\n",
      "Epoch 47/100\n",
      "102/102 [==============================] - 0s 3ms/step - loss: 1.4069e-04 - mae: 0.0082 - val_loss: 5.2399e-05 - val_mae: 0.0057\n",
      "Epoch 48/100\n",
      "102/102 [==============================] - 0s 2ms/step - loss: 1.4762e-04 - mae: 0.0083 - val_loss: 7.6287e-05 - val_mae: 0.0070\n",
      "Epoch 49/100\n",
      "102/102 [==============================] - 0s 2ms/step - loss: 1.4767e-04 - mae: 0.0083 - val_loss: 3.3273e-05 - val_mae: 0.0046\n",
      "Epoch 50/100\n",
      "102/102 [==============================] - 0s 3ms/step - loss: 1.5103e-04 - mae: 0.0084 - val_loss: 6.1416e-05 - val_mae: 0.0061\n",
      "Epoch 51/100\n",
      "102/102 [==============================] - 0s 2ms/step - loss: 1.4183e-04 - mae: 0.0083 - val_loss: 2.9928e-05 - val_mae: 0.0043\n",
      "Epoch 52/100\n",
      "102/102 [==============================] - 0s 2ms/step - loss: 1.5103e-04 - mae: 0.0085 - val_loss: 5.0367e-05 - val_mae: 0.0056\n",
      "Epoch 53/100\n",
      "102/102 [==============================] - 0s 2ms/step - loss: 1.5174e-04 - mae: 0.0084 - val_loss: 6.0128e-05 - val_mae: 0.0059\n",
      "Epoch 54/100\n",
      "102/102 [==============================] - 0s 3ms/step - loss: 1.5047e-04 - mae: 0.0084 - val_loss: 3.8699e-05 - val_mae: 0.0049\n",
      "Epoch 55/100\n",
      "102/102 [==============================] - 0s 2ms/step - loss: 1.4808e-04 - mae: 0.0083 - val_loss: 3.6889e-05 - val_mae: 0.0048\n",
      "Epoch 56/100\n",
      "102/102 [==============================] - 0s 3ms/step - loss: 1.5092e-04 - mae: 0.0085 - val_loss: 6.7967e-05 - val_mae: 0.0064\n",
      "Epoch 57/100\n",
      "102/102 [==============================] - 0s 3ms/step - loss: 1.4583e-04 - mae: 0.0084 - val_loss: 6.8279e-05 - val_mae: 0.0064\n",
      "Epoch 58/100\n",
      "102/102 [==============================] - 0s 3ms/step - loss: 1.4953e-04 - mae: 0.0084 - val_loss: 8.4240e-05 - val_mae: 0.0071\n",
      "Epoch 59/100\n",
      "102/102 [==============================] - 0s 3ms/step - loss: 1.4829e-04 - mae: 0.0084 - val_loss: 5.3322e-05 - val_mae: 0.0058\n",
      "Epoch 60/100\n",
      "102/102 [==============================] - 0s 2ms/step - loss: 1.5158e-04 - mae: 0.0085 - val_loss: 3.6973e-05 - val_mae: 0.0049\n",
      "Epoch 61/100\n",
      "102/102 [==============================] - 0s 2ms/step - loss: 1.4655e-04 - mae: 0.0084 - val_loss: 5.0232e-05 - val_mae: 0.0056\n",
      "Epoch 62/100\n",
      "102/102 [==============================] - 0s 3ms/step - loss: 1.4914e-04 - mae: 0.0084 - val_loss: 2.7875e-05 - val_mae: 0.0042\n",
      "Epoch 63/100\n",
      "102/102 [==============================] - 0s 3ms/step - loss: 1.4845e-04 - mae: 0.0083 - val_loss: 4.3231e-05 - val_mae: 0.0052\n",
      "Epoch 64/100\n",
      "102/102 [==============================] - 0s 3ms/step - loss: 1.4018e-04 - mae: 0.0082 - val_loss: 4.8196e-05 - val_mae: 0.0056\n",
      "Epoch 65/100\n",
      "102/102 [==============================] - 0s 3ms/step - loss: 1.4234e-04 - mae: 0.0082 - val_loss: 2.5943e-05 - val_mae: 0.0040\n",
      "Epoch 66/100\n",
      "102/102 [==============================] - 0s 2ms/step - loss: 1.4982e-04 - mae: 0.0085 - val_loss: 4.2744e-05 - val_mae: 0.0050\n",
      "Epoch 67/100\n",
      "102/102 [==============================] - 0s 2ms/step - loss: 1.4646e-04 - mae: 0.0084 - val_loss: 7.0913e-05 - val_mae: 0.0064\n",
      "Epoch 68/100\n",
      "102/102 [==============================] - 0s 2ms/step - loss: 1.4708e-04 - mae: 0.0084 - val_loss: 3.3781e-05 - val_mae: 0.0045\n",
      "Epoch 69/100\n",
      "102/102 [==============================] - 0s 3ms/step - loss: 1.5271e-04 - mae: 0.0085 - val_loss: 3.6442e-05 - val_mae: 0.0048\n",
      "Epoch 70/100\n",
      "102/102 [==============================] - 0s 3ms/step - loss: 1.5490e-04 - mae: 0.0085 - val_loss: 3.7279e-05 - val_mae: 0.0047\n",
      "Epoch 71/100\n",
      "102/102 [==============================] - 0s 3ms/step - loss: 1.5082e-04 - mae: 0.0084 - val_loss: 3.1467e-05 - val_mae: 0.0045\n",
      "Epoch 72/100\n",
      "102/102 [==============================] - 0s 3ms/step - loss: 1.5037e-04 - mae: 0.0084 - val_loss: 4.5100e-05 - val_mae: 0.0053\n",
      "Epoch 73/100\n",
      "102/102 [==============================] - 0s 2ms/step - loss: 1.4759e-04 - mae: 0.0085 - val_loss: 4.2899e-05 - val_mae: 0.0053\n",
      "Epoch 74/100\n",
      "102/102 [==============================] - 0s 2ms/step - loss: 1.5294e-04 - mae: 0.0085 - val_loss: 3.8982e-05 - val_mae: 0.0046\n",
      "Epoch 75/100\n",
      "102/102 [==============================] - 0s 3ms/step - loss: 1.4814e-04 - mae: 0.0084 - val_loss: 2.3956e-05 - val_mae: 0.0038\n",
      "Epoch 76/100\n",
      "102/102 [==============================] - 0s 2ms/step - loss: 1.5213e-04 - mae: 0.0085 - val_loss: 4.7622e-05 - val_mae: 0.0052\n",
      "Epoch 77/100\n",
      "102/102 [==============================] - 0s 2ms/step - loss: 1.4661e-04 - mae: 0.0083 - val_loss: 3.7146e-05 - val_mae: 0.0046\n",
      "Epoch 78/100\n",
      "102/102 [==============================] - 0s 3ms/step - loss: 1.5640e-04 - mae: 0.0085 - val_loss: 5.0586e-05 - val_mae: 0.0056\n",
      "Epoch 79/100\n",
      "102/102 [==============================] - 0s 3ms/step - loss: 1.3937e-04 - mae: 0.0081 - val_loss: 6.3922e-05 - val_mae: 0.0063\n",
      "Epoch 80/100\n",
      "102/102 [==============================] - 0s 3ms/step - loss: 1.4645e-04 - mae: 0.0084 - val_loss: 3.8234e-05 - val_mae: 0.0049\n",
      "Epoch 81/100\n",
      "102/102 [==============================] - 0s 3ms/step - loss: 1.4588e-04 - mae: 0.0084 - val_loss: 2.6447e-05 - val_mae: 0.0040\n",
      "Epoch 82/100\n",
      "102/102 [==============================] - 0s 2ms/step - loss: 1.5361e-04 - mae: 0.0085 - val_loss: 4.2785e-05 - val_mae: 0.0053\n",
      "Epoch 83/100\n",
      "102/102 [==============================] - 0s 3ms/step - loss: 1.6182e-04 - mae: 0.0086 - val_loss: 9.8121e-05 - val_mae: 0.0076\n",
      "Epoch 84/100\n",
      "102/102 [==============================] - 0s 3ms/step - loss: 1.4763e-04 - mae: 0.0084 - val_loss: 2.7740e-05 - val_mae: 0.0043\n",
      "Epoch 85/100\n",
      "102/102 [==============================] - 0s 2ms/step - loss: 1.4596e-04 - mae: 0.0084 - val_loss: 4.1684e-05 - val_mae: 0.0050\n",
      "Epoch 86/100\n",
      "102/102 [==============================] - 0s 2ms/step - loss: 1.5414e-04 - mae: 0.0086 - val_loss: 5.9930e-05 - val_mae: 0.0062\n",
      "Epoch 87/100\n",
      "102/102 [==============================] - 0s 3ms/step - loss: 1.4698e-04 - mae: 0.0083 - val_loss: 4.1644e-05 - val_mae: 0.0051\n",
      "Epoch 88/100\n",
      "102/102 [==============================] - 0s 3ms/step - loss: 1.4520e-04 - mae: 0.0084 - val_loss: 3.3570e-05 - val_mae: 0.0046\n",
      "Epoch 89/100\n",
      "102/102 [==============================] - 0s 2ms/step - loss: 1.5340e-04 - mae: 0.0086 - val_loss: 2.2215e-05 - val_mae: 0.0038\n",
      "Epoch 90/100\n",
      "102/102 [==============================] - 0s 2ms/step - loss: 1.5230e-04 - mae: 0.0085 - val_loss: 4.1935e-05 - val_mae: 0.0052\n",
      "Epoch 91/100\n",
      "102/102 [==============================] - 0s 2ms/step - loss: 1.4570e-04 - mae: 0.0083 - val_loss: 3.6479e-05 - val_mae: 0.0048\n",
      "Epoch 92/100\n",
      "102/102 [==============================] - 0s 3ms/step - loss: 1.5052e-04 - mae: 0.0085 - val_loss: 5.8478e-05 - val_mae: 0.0058\n",
      "Epoch 93/100\n",
      "102/102 [==============================] - 0s 2ms/step - loss: 1.3523e-04 - mae: 0.0082 - val_loss: 7.9474e-05 - val_mae: 0.0071\n",
      "Epoch 94/100\n",
      "102/102 [==============================] - 0s 3ms/step - loss: 1.4986e-04 - mae: 0.0085 - val_loss: 4.6069e-05 - val_mae: 0.0054\n",
      "Epoch 95/100\n",
      "102/102 [==============================] - 0s 3ms/step - loss: 1.5565e-04 - mae: 0.0085 - val_loss: 5.9379e-05 - val_mae: 0.0062\n",
      "Epoch 96/100\n",
      "102/102 [==============================] - 0s 2ms/step - loss: 1.5695e-04 - mae: 0.0086 - val_loss: 6.1496e-05 - val_mae: 0.0063\n",
      "Epoch 97/100\n",
      "102/102 [==============================] - 0s 3ms/step - loss: 1.4963e-04 - mae: 0.0083 - val_loss: 6.7498e-05 - val_mae: 0.0066\n",
      "Epoch 98/100\n",
      "102/102 [==============================] - 0s 2ms/step - loss: 1.4649e-04 - mae: 0.0083 - val_loss: 5.2989e-05 - val_mae: 0.0055\n",
      "Epoch 99/100\n",
      "102/102 [==============================] - 0s 2ms/step - loss: 1.4598e-04 - mae: 0.0083 - val_loss: 4.1274e-05 - val_mae: 0.0051\n",
      "Epoch 100/100\n",
      "102/102 [==============================] - 0s 2ms/step - loss: 1.5401e-04 - mae: 0.0085 - val_loss: 5.3297e-05 - val_mae: 0.0059\n"
     ]
    }
   ],
   "source": [
    "#train the model (this takes a little while)\n",
    "history = model.fit(X_train_scaled, y_train,\n",
    "                    epochs=100, \n",
    "                    batch_size=32,\n",
    "                    validation_data=(X_test_scaled, y_test))"
   ]
  },
  {
   "cell_type": "code",
   "execution_count": 55,
   "id": "bf2a00a9-e0e0-4066-83af-8bb49a5e7e52",
   "metadata": {},
   "outputs": [
    {
     "data": {
      "image/png": "[encoded data removed]",
      "text/plain": [
       "<Figure size 1000x500 with 2 Axes>"
      ]
     },
     "metadata": {},
     "output_type": "display_data"
    }
   ],
   "source": [
    "fig, axs = plt.subplots(ncols=2, nrows=1, figsize=(10,5), layout=\"constrained\", sharex=True)\n",
    "\n",
    "axs[0].plot(history.history['mae'])\n",
    "axs[0].plot(history.history['val_mae'])\n",
    "axs[0].set_title('Model MAE')\n",
    "axs[0].set_ylabel('MAE')\n",
    "axs[0].set_xlabel('Epoch')\n",
    "# axs[0].set_ylim(0,0.01)\n",
    "axs[0].legend(['Train', 'Test'], loc='upper left')\n",
    "\n",
    "axs[1].plot(history.history['loss']) \n",
    "axs[1].plot(history.history['val_loss']) \n",
    "axs[1].set_title('Model loss') \n",
    "axs[1].set_ylabel('Loss') \n",
    "axs[1].set_xlabel('Epoch') \n",
    "axs[1].legend(['Train', 'Test'], loc='upper left') \n",
    "\n",
    "plt.show()"
   ]
  },
  {
   "cell_type": "code",
   "execution_count": 58,
   "id": "4c45c66c-86d6-4872-bab3-296a2e7fffb0",
   "metadata": {},
   "outputs": [
    {
     "name": "stdout",
     "output_type": "stream",
     "text": [
      "68/68 [==============================] - 0s 1ms/step\n"
     ]
    }
   ],
   "source": [
    "y_pred_nn = model.predict(X_test_scaled).ravel()"
   ]
  },
  {
   "cell_type": "code",
   "execution_count": 59,
   "id": "256acdcc-d84a-4bdd-9fd4-767e46004920",
   "metadata": {},
   "outputs": [
    {
     "name": "stdout",
     "output_type": "stream",
     "text": [
      "NN Model R2: 0.9227462310529698\n"
     ]
    }
   ],
   "source": [
    "nn_r2 = r2_score(y_test, y_pred_nn)\n",
    "print(\"NN Model R2:\", nn_r2)"
   ]
  },
  {
   "cell_type": "markdown",
   "id": "3f6d42b1-d97c-427a-ae27-7dce1caa28f7",
   "metadata": {},
   "source": [
    "## Random Forest"
   ]
  },
  {
   "cell_type": "code",
   "execution_count": 21,
   "id": "c668be50-0b02-4ca5-9f7e-21c99f9f2071",
   "metadata": {},
   "outputs": [],
   "source": [
    "# # gridsearch to give good challenge to neural net\n",
    "\n",
    "# params = {\n",
    "#     \"n_estimators\":[200,300,400,500],\n",
    "#     \"criterion\":(\"squared_error\", \"poisson\", \"absolute_error\"),\n",
    "#     \"max_depth\":[6,10,14,18]\n",
    "#          } \n",
    "\n",
    "# rf = RandomForestRegressor()\n",
    "\n",
    "# clf = GridSearchCV(rf, params, verbose=1)"
   ]
  },
  {
   "cell_type": "code",
   "execution_count": 22,
   "id": "a9892682-949c-46a0-b60c-ce5c6d837d8d",
   "metadata": {},
   "outputs": [],
   "source": [
    "# #fitting the model\n",
    "# clf.fit(X_train_scaled, y_train)"
   ]
  },
  {
   "cell_type": "code",
   "execution_count": 23,
   "id": "0d827d1d-07a8-45bf-b903-a452233865ab",
   "metadata": {},
   "outputs": [],
   "source": [
    "# clf.best_params_"
   ]
  },
  {
   "cell_type": "code",
   "execution_count": 60,
   "id": "eb029ad0-b05a-4deb-832b-2d75a0ffe12a",
   "metadata": {},
   "outputs": [
    {
     "data": {
      "text/html": [
       "<style>#sk-container-id-3 {color: black;}#sk-container-id-3 pre{padding: 0;}#sk-container-id-3 div.sk-toggleable {background-color: white;}#sk-container-id-3 label.sk-toggleable__label {cursor: pointer;display: block;width: 100%;margin-bottom: 0;padding: 0.3em;box-sizing: border-box;text-align: center;}#sk-container-id-3 label.sk-toggleable__label-arrow:before {content: \"▸\";float: left;margin-right: 0.25em;color: #696969;}#sk-container-id-3 label.sk-toggleable__label-arrow:hover:before {color: black;}#sk-container-id-3 div.sk-estimator:hover label.sk-toggleable__label-arrow:before {color: black;}#sk-container-id-3 div.sk-toggleable__content {max-height: 0;max-width: 0;overflow: hidden;text-align: left;background-color: #f0f8ff;}#sk-container-id-3 div.sk-toggleable__content pre {margin: 0.2em;color: black;border-radius: 0.25em;background-color: #f0f8ff;}#sk-container-id-3 input.sk-toggleable__control:checked~div.sk-toggleable__content {max-height: 200px;max-width: 100%;overflow: auto;}#sk-container-id-3 input.sk-toggleable__control:checked~label.sk-toggleable__label-arrow:before {content: \"▾\";}#sk-container-id-3 div.sk-estimator input.sk-toggleable__control:checked~label.sk-toggleable__label {background-color: #d4ebff;}#sk-container-id-3 div.sk-label input.sk-toggleable__control:checked~label.sk-toggleable__label {background-color: #d4ebff;}#sk-container-id-3 input.sk-hidden--visually {border: 0;clip: rect(1px 1px 1px 1px);clip: rect(1px, 1px, 1px, 1px);height: 1px;margin: -1px;overflow: hidden;padding: 0;position: absolute;width: 1px;}#sk-container-id-3 div.sk-estimator {font-family: monospace;background-color: #f0f8ff;border: 1px dotted black;border-radius: 0.25em;box-sizing: border-box;margin-bottom: 0.5em;}#sk-container-id-3 div.sk-estimator:hover {background-color: #d4ebff;}#sk-container-id-3 div.sk-parallel-item::after {content: \"\";width: 100%;border-bottom: 1px solid gray;flex-grow: 1;}#sk-container-id-3 div.sk-label:hover label.sk-toggleable__label {background-color: #d4ebff;}#sk-container-id-3 div.sk-serial::before {content: \"\";position: absolute;border-left: 1px solid gray;box-sizing: border-box;top: 0;bottom: 0;left: 50%;z-index: 0;}#sk-container-id-3 div.sk-serial {display: flex;flex-direction: column;align-items: center;background-color: white;padding-right: 0.2em;padding-left: 0.2em;position: relative;}#sk-container-id-3 div.sk-item {position: relative;z-index: 1;}#sk-container-id-3 div.sk-parallel {display: flex;align-items: stretch;justify-content: center;background-color: white;position: relative;}#sk-container-id-3 div.sk-item::before, #sk-container-id-3 div.sk-parallel-item::before {content: \"\";position: absolute;border-left: 1px solid gray;box-sizing: border-box;top: 0;bottom: 0;left: 50%;z-index: -1;}#sk-container-id-3 div.sk-parallel-item {display: flex;flex-direction: column;z-index: 1;position: relative;background-color: white;}#sk-container-id-3 div.sk-parallel-item:first-child::after {align-self: flex-end;width: 50%;}#sk-container-id-3 div.sk-parallel-item:last-child::after {align-self: flex-start;width: 50%;}#sk-container-id-3 div.sk-parallel-item:only-child::after {width: 0;}#sk-container-id-3 div.sk-dashed-wrapped {border: 1px dashed gray;margin: 0 0.4em 0.5em 0.4em;box-sizing: border-box;padding-bottom: 0.4em;background-color: white;}#sk-container-id-3 div.sk-label label {font-family: monospace;font-weight: bold;display: inline-block;line-height: 1.2em;}#sk-container-id-3 div.sk-label-container {text-align: center;}#sk-container-id-3 div.sk-container {/* jupyter's `normalize.less` sets `[hidden] { display: none; }` but bootstrap.min.css set `[hidden] { display: none !important; }` so we also need the `!important` here to be able to override the default hidden behavior on the sphinx rendered scikit-learn.org. See: https://github.com/scikit-learn/scikit-learn/issues/21755 */display: inline-block !important;position: relative;}#sk-container-id-3 div.sk-text-repr-fallback {display: none;}</style><div id=\"sk-container-id-3\" class=\"sk-top-container\"><div class=\"sk-text-repr-fallback\"><pre>RandomForestRegressor(max_depth=14, n_estimators=300)</pre><b>In a Jupyter environment, please rerun this cell to show the HTML representation or trust the notebook. <br />On GitHub, the HTML representation is unable to render, please try loading this page with nbviewer.org.</b></div><div class=\"sk-container\" hidden><div class=\"sk-item\"><div class=\"sk-estimator sk-toggleable\"><input class=\"sk-toggleable__control sk-hidden--visually\" id=\"sk-estimator-id-3\" type=\"checkbox\" checked><label for=\"sk-estimator-id-3\" class=\"sk-toggleable__label sk-toggleable__label-arrow\">RandomForestRegressor</label><div class=\"sk-toggleable__content\"><pre>RandomForestRegressor(max_depth=14, n_estimators=300)</pre></div></div></div></div></div>"
      ],
      "text/plain": [
       "RandomForestRegressor(max_depth=14, n_estimators=300)"
      ]
     },
     "execution_count": 60,
     "metadata": {},
     "output_type": "execute_result"
    }
   ],
   "source": [
    "#run this cell instead of the gridsearch to save alot of time.\n",
    "clf = RandomForestRegressor(criterion=\"squared_error\", max_depth=14, n_estimators=300)\n",
    "\n",
    "clf.fit(X_train_scaled, y_train)"
   ]
  },
  {
   "cell_type": "code",
   "execution_count": 61,
   "id": "b97e3ae1-6bd3-4990-86b1-95a4a0e3d090",
   "metadata": {},
   "outputs": [],
   "source": [
    "#predictions\n",
    "y_pred_rf = clf.predict(X_test_scaled)"
   ]
  },
  {
   "cell_type": "code",
   "execution_count": 62,
   "id": "1e3d545e-e316-4451-a4ea-f34a7cd6230d",
   "metadata": {},
   "outputs": [
    {
     "name": "stdout",
     "output_type": "stream",
     "text": [
      "RF Model R2: 0.9702627421864749\n"
     ]
    }
   ],
   "source": [
    "rf_r2 = r2_score(y_test, y_pred_rf)\n",
    "print(\"RF Model R2:\", rf_r2)"
   ]
  },
  {
   "cell_type": "code",
   "execution_count": null,
   "id": "cbe9b747-7ba0-47df-8a5a-3cada021dfb4",
   "metadata": {
    "editable": true,
    "slideshow": {
     "slide_type": ""
    },
    "tags": []
   },
   "outputs": [],
   "source": []
  },
  {
   "cell_type": "code",
   "execution_count": null,
   "id": "d9306577-43ae-4845-9d97-2dcdbe5a57de",
   "metadata": {},
   "outputs": [],
   "source": []
  }
 ],
 "metadata": {
  "kernelspec": {
   "display_name": "Python 3 (ipykernel)",
   "language": "python",
   "name": "python3"
  },
  "language_info": {
   "codemirror_mode": {
    "name": "ipython",
    "version": 3
   },
   "file_extension": ".py",
   "mimetype": "text/x-python",
   "name": "python",
   "nbconvert_exporter": "python",
   "pygments_lexer": "ipython3",
   "version": "3.11.5"
  }
 },
 "nbformat": 4,
 "nbformat_minor": 5
}
