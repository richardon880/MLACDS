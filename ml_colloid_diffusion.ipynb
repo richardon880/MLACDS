{
 "cells": [
  {
   "cell_type": "code",
   "execution_count": 1,
   "id": "4d841472-2492-43da-b936-8a6e5da2d0c8",
   "metadata": {},
   "outputs": [
    {
     "name": "stderr",
     "output_type": "stream",
     "text": [
      "2024-02-01 14:27:04.157662: I tensorflow/core/platform/cpu_feature_guard.cc:182] This TensorFlow binary is optimized to use available CPU instructions in performance-critical operations.\n",
      "To enable the following instructions: SSE4.1 SSE4.2 AVX AVX2 FMA, in other operations, rebuild TensorFlow with the appropriate compiler flags.\n",
      "Using `tqdm.autonotebook.tqdm` in notebook mode. Use `tqdm.tqdm` instead to force console mode (e.g. in jupyter console)\n"
     ]
    }
   ],
   "source": [
    "import numpy as np\n",
    "import pandas as pd\n",
    "import matplotlib.pyplot as plt\n",
    "\n",
    "#for ML preprocessing\n",
    "from sklearn import preprocessing\n",
    "from sklearn.model_selection import train_test_split\n",
    "#neural network\n",
    "from tensorflow import keras\n",
    "from tensorflow.keras import layers\n",
    "from keras import optimizers\n",
    "#nerual net analysis\n",
    "import shap\n",
    "#random forest classifier\n",
    "from sklearn.ensemble import RandomForestRegressor\n",
    "from sklearn.model_selection import GridSearchCV #for gridsearch of rf\n",
    "#evaluation\n",
    "from sklearn.metrics import r2_score\n",
    "from sklearn.metrics import mean_squared_error\n",
    "from sklearn.metrics import mean_absolute_error\n",
    "\n",
    "#Neural Net Analysis\n",
    "import shap\n",
    "\n",
    "import MLACDS as dt #diffusion simulation tools\n",
    "\n",
    "pd.set_option('display.max_columns', None)"
   ]
  },
  {
   "cell_type": "markdown",
   "id": "8ef2d769-935d-403e-b63e-65a574f2d09a",
   "metadata": {},
   "source": [
    "Files with useable data:\n",
    "'p0.1_N54/'\n",
    "'p0.2_N54/'\n",
    "'p0.3_N500/'"
   ]
  },
  {
   "cell_type": "code",
   "execution_count": 2,
   "id": "e60f0327-e36d-4eed-866e-fdd8642ae04f",
   "metadata": {},
   "outputs": [],
   "source": [
    "N_neighbours = 8 ### number of neighbours to be extracted\n",
    "\n",
    "# dires = [\"p0.1_N54/\",\"p0.2_N54/\"] #data we want to load for training\n",
    "# dires = [\"p0.3_N500/\"] #not compatible with above two due to different particles\n",
    "\n",
    "dires = ['p0.1_N54/', 'p0.2_N54/'] "
   ]
  },
  {
   "cell_type": "code",
   "execution_count": 3,
   "id": "41c08248-999e-4c98-b941-12149f88084c",
   "metadata": {},
   "outputs": [],
   "source": [
    "#### list with names to be used in the final dataframe\n",
    "l_s = list(range(N_neighbours))\n",
    "l_s_names = []\n",
    "\n",
    "\n",
    "for i in l_s:\n",
    "    l_s_names.append('l'+str(i)+\"_inv\")\n",
    "\n",
    "for i in l_s:\n",
    "    l_s_names.append('l'+str(i))\n"
   ]
  },
  {
   "cell_type": "code",
   "execution_count": 4,
   "id": "de6ce8db-8632-4b2c-92a3-79e6a5738af4",
   "metadata": {},
   "outputs": [
    {
     "data": {
      "text/plain": [
       "['l0_inv',\n",
       " 'l1_inv',\n",
       " 'l2_inv',\n",
       " 'l3_inv',\n",
       " 'l4_inv',\n",
       " 'l5_inv',\n",
       " 'l6_inv',\n",
       " 'l7_inv',\n",
       " 'l0',\n",
       " 'l1',\n",
       " 'l2',\n",
       " 'l3',\n",
       " 'l4',\n",
       " 'l5',\n",
       " 'l6',\n",
       " 'l7']"
      ]
     },
     "execution_count": 4,
     "metadata": {},
     "output_type": "execute_result"
    }
   ],
   "source": [
    "l_s_names"
   ]
  },
  {
   "cell_type": "code",
   "execution_count": 5,
   "id": "1302add6-4879-4026-9e4c-b0ed3e2dbccc",
   "metadata": {},
   "outputs": [],
   "source": [
    "### list of columns for bond order parameter\n",
    "bo = list(range(N_neighbours))\n",
    "bo_names = []\n",
    "for i in bo:\n",
    "    bo_names.append(\"bo\"+str(i))"
   ]
  },
  {
   "cell_type": "code",
   "execution_count": 6,
   "id": "050d5d82-ac6f-44ef-ad90-06ba380862a7",
   "metadata": {},
   "outputs": [],
   "source": [
    "f_r_cut_vol = 4### cut off used for the local volume calculation\n",
    "# radius of local volume spher \n",
    "#keep @ 4 too small too little neighbour\n",
    "\n",
    "f_r_cut_sp = 30###A big number here means look for the closest \n",
    "                #neighbours\n",
    "               ###For a small cut-off the number of neighbours\n",
    "                #might not be the same for all particles\n"
   ]
  },
  {
   "cell_type": "code",
   "execution_count": 7,
   "id": "c4d88a0c-dfa7-4b04-bb47-e6ba72b0fc6e",
   "metadata": {
    "scrolled": true
   },
   "outputs": [
    {
     "data": {
      "application/vnd.jupyter.widget-view+json": {
       "model_id": "5ec09fb8521f44eea41dbd5b0c835742",
       "version_major": 2,
       "version_minor": 0
      },
      "text/plain": [
       "  0%|          | 0/200 [00:00<?, ?it/s]"
      ]
     },
     "metadata": {},
     "output_type": "display_data"
    },
    {
     "name": "stderr",
     "output_type": "stream",
     "text": [
      "The behavior of DataFrame concatenation with empty or all-NA entries is deprecated. In a future version, this will no longer exclude empty or all-NA columns when determining the result dtypes. To retain the old behavior, exclude the relevant entries before the concat operation.\n"
     ]
    },
    {
     "name": "stdout",
     "output_type": "stream",
     "text": [
      "(54, 8)\n",
      "(54, 8)\n"
     ]
    },
    {
     "data": {
      "application/vnd.jupyter.widget-view+json": {
       "model_id": "4185e6e112f3429a97fc5417cf0c5327",
       "version_major": 2,
       "version_minor": 0
      },
      "text/plain": [
       "  0%|          | 0/100 [00:00<?, ?it/s]"
      ]
     },
     "metadata": {},
     "output_type": "display_data"
    },
    {
     "name": "stderr",
     "output_type": "stream",
     "text": [
      "The behavior of DataFrame concatenation with empty or all-NA entries is deprecated. In a future version, this will no longer exclude empty or all-NA columns when determining the result dtypes. To retain the old behavior, exclude the relevant entries before the concat operation.\n"
     ]
    },
    {
     "name": "stdout",
     "output_type": "stream",
     "text": [
      "(54, 8)\n",
      "(54, 8)\n"
     ]
    }
   ],
   "source": [
    "df = dt.load_data(dires, l_s, l_s_names, bo, bo_names, f_r_cut_vol, f_r_cut_sp, N_neighbours)\n",
    "# df = pd.read_csv(\"data/csv_files/diffusion_data.csv\")"
   ]
  },
  {
   "cell_type": "code",
   "execution_count": 23,
   "id": "b1227d8d-bc8b-4ade-8169-142ce10c3998",
   "metadata": {
    "scrolled": true
   },
   "outputs": [],
   "source": [
    "df.to_csv(\"data/csv_files/diffusion_data.csv\", index=False)"
   ]
  },
  {
   "cell_type": "code",
   "execution_count": 22,
   "id": "17ab104a-44d4-4e98-9517-8ed91a0a870b",
   "metadata": {},
   "outputs": [
    {
     "data": {
      "text/html": [
       "<div>\n",
       "<style scoped>\n",
       "    .dataframe tbody tr th:only-of-type {\n",
       "        vertical-align: middle;\n",
       "    }\n",
       "\n",
       "    .dataframe tbody tr th {\n",
       "        vertical-align: top;\n",
       "    }\n",
       "\n",
       "    .dataframe thead th {\n",
       "        text-align: right;\n",
       "    }\n",
       "</style>\n",
       "<table border=\"1\" class=\"dataframe\">\n",
       "  <thead>\n",
       "    <tr style=\"text-align: right;\">\n",
       "      <th></th>\n",
       "      <th>l0_inv</th>\n",
       "      <th>l1_inv</th>\n",
       "      <th>l2_inv</th>\n",
       "      <th>l3_inv</th>\n",
       "      <th>l4_inv</th>\n",
       "      <th>l5_inv</th>\n",
       "      <th>l6_inv</th>\n",
       "      <th>l7_inv</th>\n",
       "      <th>l0</th>\n",
       "      <th>l1</th>\n",
       "      <th>l2</th>\n",
       "      <th>l3</th>\n",
       "      <th>l4</th>\n",
       "      <th>l5</th>\n",
       "      <th>l6</th>\n",
       "      <th>l7</th>\n",
       "      <th>bo0</th>\n",
       "      <th>bo1</th>\n",
       "      <th>bo2</th>\n",
       "      <th>bo3</th>\n",
       "      <th>bo4</th>\n",
       "      <th>bo5</th>\n",
       "      <th>bo6</th>\n",
       "      <th>bo7</th>\n",
       "      <th>vol</th>\n",
       "      <th>n_neighbours</th>\n",
       "      <th>Ds</th>\n",
       "    </tr>\n",
       "  </thead>\n",
       "  <tbody>\n",
       "    <tr>\n",
       "      <th>0</th>\n",
       "      <td>0.506456</td>\n",
       "      <td>0.509452</td>\n",
       "      <td>0.580007</td>\n",
       "      <td>0.621396</td>\n",
       "      <td>0.640808</td>\n",
       "      <td>0.708071</td>\n",
       "      <td>0.774553</td>\n",
       "      <td>0.808400</td>\n",
       "      <td>4.323711</td>\n",
       "      <td>4.346685</td>\n",
       "      <td>4.354562</td>\n",
       "      <td>4.405185</td>\n",
       "      <td>4.406507</td>\n",
       "      <td>4.452742</td>\n",
       "      <td>4.834611</td>\n",
       "      <td>4.988064</td>\n",
       "      <td>3.544908</td>\n",
       "      <td>4.252185e-17</td>\n",
       "      <td>0.059941</td>\n",
       "      <td>4.306939e-17</td>\n",
       "      <td>0.275870</td>\n",
       "      <td>4.589469e-17</td>\n",
       "      <td>0.112218</td>\n",
       "      <td>6.919064e-17</td>\n",
       "      <td>0.139783</td>\n",
       "      <td>53.0</td>\n",
       "      <td>0.521434</td>\n",
       "    </tr>\n",
       "    <tr>\n",
       "      <th>1</th>\n",
       "      <td>0.515427</td>\n",
       "      <td>0.533557</td>\n",
       "      <td>0.550062</td>\n",
       "      <td>0.579262</td>\n",
       "      <td>0.594445</td>\n",
       "      <td>0.612513</td>\n",
       "      <td>0.654626</td>\n",
       "      <td>0.837130</td>\n",
       "      <td>3.961337</td>\n",
       "      <td>4.321118</td>\n",
       "      <td>4.366739</td>\n",
       "      <td>4.446013</td>\n",
       "      <td>4.475399</td>\n",
       "      <td>4.543110</td>\n",
       "      <td>4.618340</td>\n",
       "      <td>4.669307</td>\n",
       "      <td>3.544908</td>\n",
       "      <td>4.899669e-17</td>\n",
       "      <td>0.059941</td>\n",
       "      <td>4.131960e-17</td>\n",
       "      <td>0.275870</td>\n",
       "      <td>4.556318e-17</td>\n",
       "      <td>0.112218</td>\n",
       "      <td>6.990912e-17</td>\n",
       "      <td>0.142876</td>\n",
       "      <td>53.0</td>\n",
       "      <td>0.532875</td>\n",
       "    </tr>\n",
       "    <tr>\n",
       "      <th>2</th>\n",
       "      <td>0.471929</td>\n",
       "      <td>0.480448</td>\n",
       "      <td>0.512782</td>\n",
       "      <td>0.523910</td>\n",
       "      <td>0.554297</td>\n",
       "      <td>0.654626</td>\n",
       "      <td>0.910404</td>\n",
       "      <td>0.919762</td>\n",
       "      <td>4.191260</td>\n",
       "      <td>4.321971</td>\n",
       "      <td>4.349538</td>\n",
       "      <td>4.500502</td>\n",
       "      <td>4.530259</td>\n",
       "      <td>4.554309</td>\n",
       "      <td>4.557022</td>\n",
       "      <td>4.724020</td>\n",
       "      <td>3.544908</td>\n",
       "      <td>4.805159e-17</td>\n",
       "      <td>0.059941</td>\n",
       "      <td>3.859335e-17</td>\n",
       "      <td>0.275870</td>\n",
       "      <td>4.583321e-17</td>\n",
       "      <td>0.112218</td>\n",
       "      <td>7.051412e-17</td>\n",
       "      <td>0.106246</td>\n",
       "      <td>53.0</td>\n",
       "      <td>0.485428</td>\n",
       "    </tr>\n",
       "    <tr>\n",
       "      <th>3</th>\n",
       "      <td>0.507962</td>\n",
       "      <td>0.514168</td>\n",
       "      <td>0.515427</td>\n",
       "      <td>0.554517</td>\n",
       "      <td>0.655009</td>\n",
       "      <td>0.751972</td>\n",
       "      <td>0.810641</td>\n",
       "      <td>0.910404</td>\n",
       "      <td>4.189346</td>\n",
       "      <td>4.192980</td>\n",
       "      <td>4.236030</td>\n",
       "      <td>4.277729</td>\n",
       "      <td>4.361502</td>\n",
       "      <td>4.524403</td>\n",
       "      <td>4.572871</td>\n",
       "      <td>5.158310</td>\n",
       "      <td>3.544908</td>\n",
       "      <td>5.356737e-17</td>\n",
       "      <td>0.059941</td>\n",
       "      <td>4.203535e-17</td>\n",
       "      <td>0.275870</td>\n",
       "      <td>4.454313e-17</td>\n",
       "      <td>0.112218</td>\n",
       "      <td>6.885246e-17</td>\n",
       "      <td>0.119037</td>\n",
       "      <td>53.0</td>\n",
       "      <td>0.492425</td>\n",
       "    </tr>\n",
       "    <tr>\n",
       "      <th>4</th>\n",
       "      <td>0.415394</td>\n",
       "      <td>0.448175</td>\n",
       "      <td>0.448297</td>\n",
       "      <td>0.474437</td>\n",
       "      <td>0.505036</td>\n",
       "      <td>0.556669</td>\n",
       "      <td>0.671539</td>\n",
       "      <td>0.810641</td>\n",
       "      <td>4.056734</td>\n",
       "      <td>4.074428</td>\n",
       "      <td>4.298979</td>\n",
       "      <td>4.428562</td>\n",
       "      <td>4.437737</td>\n",
       "      <td>4.437862</td>\n",
       "      <td>4.557605</td>\n",
       "      <td>4.771136</td>\n",
       "      <td>3.544908</td>\n",
       "      <td>4.933025e-17</td>\n",
       "      <td>0.059941</td>\n",
       "      <td>3.891026e-17</td>\n",
       "      <td>0.275870</td>\n",
       "      <td>4.468783e-17</td>\n",
       "      <td>0.112218</td>\n",
       "      <td>6.982776e-17</td>\n",
       "      <td>0.075929</td>\n",
       "      <td>53.0</td>\n",
       "      <td>0.562989</td>\n",
       "    </tr>\n",
       "    <tr>\n",
       "      <th>...</th>\n",
       "      <td>...</td>\n",
       "      <td>...</td>\n",
       "      <td>...</td>\n",
       "      <td>...</td>\n",
       "      <td>...</td>\n",
       "      <td>...</td>\n",
       "      <td>...</td>\n",
       "      <td>...</td>\n",
       "      <td>...</td>\n",
       "      <td>...</td>\n",
       "      <td>...</td>\n",
       "      <td>...</td>\n",
       "      <td>...</td>\n",
       "      <td>...</td>\n",
       "      <td>...</td>\n",
       "      <td>...</td>\n",
       "      <td>...</td>\n",
       "      <td>...</td>\n",
       "      <td>...</td>\n",
       "      <td>...</td>\n",
       "      <td>...</td>\n",
       "      <td>...</td>\n",
       "      <td>...</td>\n",
       "      <td>...</td>\n",
       "      <td>...</td>\n",
       "      <td>...</td>\n",
       "      <td>...</td>\n",
       "    </tr>\n",
       "    <tr>\n",
       "      <th>16195</th>\n",
       "      <td>0.614620</td>\n",
       "      <td>0.621393</td>\n",
       "      <td>0.658428</td>\n",
       "      <td>0.676909</td>\n",
       "      <td>0.698650</td>\n",
       "      <td>0.743611</td>\n",
       "      <td>0.803709</td>\n",
       "      <td>0.857511</td>\n",
       "      <td>3.296563</td>\n",
       "      <td>3.440673</td>\n",
       "      <td>3.538916</td>\n",
       "      <td>3.693100</td>\n",
       "      <td>3.724791</td>\n",
       "      <td>3.726209</td>\n",
       "      <td>3.762928</td>\n",
       "      <td>3.797280</td>\n",
       "      <td>3.544908</td>\n",
       "      <td>3.059538e-17</td>\n",
       "      <td>0.034166</td>\n",
       "      <td>3.328186e-17</td>\n",
       "      <td>0.253684</td>\n",
       "      <td>4.976994e-17</td>\n",
       "      <td>0.078902</td>\n",
       "      <td>7.386497e-17</td>\n",
       "      <td>0.215685</td>\n",
       "      <td>53.0</td>\n",
       "      <td>0.393998</td>\n",
       "    </tr>\n",
       "    <tr>\n",
       "      <th>16196</th>\n",
       "      <td>0.544488</td>\n",
       "      <td>0.611636</td>\n",
       "      <td>0.633573</td>\n",
       "      <td>0.705376</td>\n",
       "      <td>0.734750</td>\n",
       "      <td>0.821348</td>\n",
       "      <td>0.857511</td>\n",
       "      <td>0.864222</td>\n",
       "      <td>3.336692</td>\n",
       "      <td>3.354459</td>\n",
       "      <td>3.393449</td>\n",
       "      <td>3.495776</td>\n",
       "      <td>3.515479</td>\n",
       "      <td>3.538961</td>\n",
       "      <td>3.741113</td>\n",
       "      <td>3.783643</td>\n",
       "      <td>3.544908</td>\n",
       "      <td>3.030363e-17</td>\n",
       "      <td>0.034166</td>\n",
       "      <td>3.317297e-17</td>\n",
       "      <td>0.253684</td>\n",
       "      <td>4.979619e-17</td>\n",
       "      <td>0.078902</td>\n",
       "      <td>7.383386e-17</td>\n",
       "      <td>0.198661</td>\n",
       "      <td>53.0</td>\n",
       "      <td>0.386789</td>\n",
       "    </tr>\n",
       "    <tr>\n",
       "      <th>16197</th>\n",
       "      <td>0.614163</td>\n",
       "      <td>0.670857</td>\n",
       "      <td>0.734750</td>\n",
       "      <td>0.767399</td>\n",
       "      <td>0.781626</td>\n",
       "      <td>0.794275</td>\n",
       "      <td>0.840062</td>\n",
       "      <td>0.852348</td>\n",
       "      <td>3.219074</td>\n",
       "      <td>3.237361</td>\n",
       "      <td>3.249263</td>\n",
       "      <td>3.304907</td>\n",
       "      <td>3.396367</td>\n",
       "      <td>3.483600</td>\n",
       "      <td>3.690005</td>\n",
       "      <td>3.949923</td>\n",
       "      <td>3.544908</td>\n",
       "      <td>2.992687e-17</td>\n",
       "      <td>0.034166</td>\n",
       "      <td>3.313902e-17</td>\n",
       "      <td>0.253684</td>\n",
       "      <td>4.981818e-17</td>\n",
       "      <td>0.078902</td>\n",
       "      <td>7.372116e-17</td>\n",
       "      <td>0.201818</td>\n",
       "      <td>53.0</td>\n",
       "      <td>0.374940</td>\n",
       "    </tr>\n",
       "    <tr>\n",
       "      <th>16198</th>\n",
       "      <td>0.587466</td>\n",
       "      <td>0.591041</td>\n",
       "      <td>0.593595</td>\n",
       "      <td>0.608679</td>\n",
       "      <td>0.670857</td>\n",
       "      <td>0.729277</td>\n",
       "      <td>0.758259</td>\n",
       "      <td>0.796437</td>\n",
       "      <td>3.358284</td>\n",
       "      <td>3.359473</td>\n",
       "      <td>3.398156</td>\n",
       "      <td>3.624292</td>\n",
       "      <td>3.647157</td>\n",
       "      <td>3.704437</td>\n",
       "      <td>3.777765</td>\n",
       "      <td>3.882116</td>\n",
       "      <td>3.544908</td>\n",
       "      <td>3.025256e-17</td>\n",
       "      <td>0.034166</td>\n",
       "      <td>3.306143e-17</td>\n",
       "      <td>0.253684</td>\n",
       "      <td>4.980164e-17</td>\n",
       "      <td>0.078902</td>\n",
       "      <td>7.381448e-17</td>\n",
       "      <td>0.238355</td>\n",
       "      <td>53.0</td>\n",
       "      <td>0.415230</td>\n",
       "    </tr>\n",
       "    <tr>\n",
       "      <th>16199</th>\n",
       "      <td>0.591041</td>\n",
       "      <td>0.602678</td>\n",
       "      <td>0.653597</td>\n",
       "      <td>0.658428</td>\n",
       "      <td>0.691546</td>\n",
       "      <td>0.692011</td>\n",
       "      <td>0.804425</td>\n",
       "      <td>0.815197</td>\n",
       "      <td>3.394475</td>\n",
       "      <td>3.440153</td>\n",
       "      <td>3.440410</td>\n",
       "      <td>3.440450</td>\n",
       "      <td>3.542767</td>\n",
       "      <td>3.578071</td>\n",
       "      <td>3.635760</td>\n",
       "      <td>3.800456</td>\n",
       "      <td>3.544908</td>\n",
       "      <td>3.002128e-17</td>\n",
       "      <td>0.034166</td>\n",
       "      <td>3.311633e-17</td>\n",
       "      <td>0.253684</td>\n",
       "      <td>4.985364e-17</td>\n",
       "      <td>0.078902</td>\n",
       "      <td>7.380279e-17</td>\n",
       "      <td>0.185016</td>\n",
       "      <td>53.0</td>\n",
       "      <td>0.422381</td>\n",
       "    </tr>\n",
       "  </tbody>\n",
       "</table>\n",
       "<p>16200 rows × 27 columns</p>\n",
       "</div>"
      ],
      "text/plain": [
       "         l0_inv    l1_inv    l2_inv    l3_inv    l4_inv    l5_inv    l6_inv  \\\n",
       "0      0.506456  0.509452  0.580007  0.621396  0.640808  0.708071  0.774553   \n",
       "1      0.515427  0.533557  0.550062  0.579262  0.594445  0.612513  0.654626   \n",
       "2      0.471929  0.480448  0.512782  0.523910  0.554297  0.654626  0.910404   \n",
       "3      0.507962  0.514168  0.515427  0.554517  0.655009  0.751972  0.810641   \n",
       "4      0.415394  0.448175  0.448297  0.474437  0.505036  0.556669  0.671539   \n",
       "...         ...       ...       ...       ...       ...       ...       ...   \n",
       "16195  0.614620  0.621393  0.658428  0.676909  0.698650  0.743611  0.803709   \n",
       "16196  0.544488  0.611636  0.633573  0.705376  0.734750  0.821348  0.857511   \n",
       "16197  0.614163  0.670857  0.734750  0.767399  0.781626  0.794275  0.840062   \n",
       "16198  0.587466  0.591041  0.593595  0.608679  0.670857  0.729277  0.758259   \n",
       "16199  0.591041  0.602678  0.653597  0.658428  0.691546  0.692011  0.804425   \n",
       "\n",
       "         l7_inv        l0        l1        l2        l3        l4        l5  \\\n",
       "0      0.808400  4.323711  4.346685  4.354562  4.405185  4.406507  4.452742   \n",
       "1      0.837130  3.961337  4.321118  4.366739  4.446013  4.475399  4.543110   \n",
       "2      0.919762  4.191260  4.321971  4.349538  4.500502  4.530259  4.554309   \n",
       "3      0.910404  4.189346  4.192980  4.236030  4.277729  4.361502  4.524403   \n",
       "4      0.810641  4.056734  4.074428  4.298979  4.428562  4.437737  4.437862   \n",
       "...         ...       ...       ...       ...       ...       ...       ...   \n",
       "16195  0.857511  3.296563  3.440673  3.538916  3.693100  3.724791  3.726209   \n",
       "16196  0.864222  3.336692  3.354459  3.393449  3.495776  3.515479  3.538961   \n",
       "16197  0.852348  3.219074  3.237361  3.249263  3.304907  3.396367  3.483600   \n",
       "16198  0.796437  3.358284  3.359473  3.398156  3.624292  3.647157  3.704437   \n",
       "16199  0.815197  3.394475  3.440153  3.440410  3.440450  3.542767  3.578071   \n",
       "\n",
       "             l6        l7       bo0           bo1       bo2           bo3  \\\n",
       "0      4.834611  4.988064  3.544908  4.252185e-17  0.059941  4.306939e-17   \n",
       "1      4.618340  4.669307  3.544908  4.899669e-17  0.059941  4.131960e-17   \n",
       "2      4.557022  4.724020  3.544908  4.805159e-17  0.059941  3.859335e-17   \n",
       "3      4.572871  5.158310  3.544908  5.356737e-17  0.059941  4.203535e-17   \n",
       "4      4.557605  4.771136  3.544908  4.933025e-17  0.059941  3.891026e-17   \n",
       "...         ...       ...       ...           ...       ...           ...   \n",
       "16195  3.762928  3.797280  3.544908  3.059538e-17  0.034166  3.328186e-17   \n",
       "16196  3.741113  3.783643  3.544908  3.030363e-17  0.034166  3.317297e-17   \n",
       "16197  3.690005  3.949923  3.544908  2.992687e-17  0.034166  3.313902e-17   \n",
       "16198  3.777765  3.882116  3.544908  3.025256e-17  0.034166  3.306143e-17   \n",
       "16199  3.635760  3.800456  3.544908  3.002128e-17  0.034166  3.311633e-17   \n",
       "\n",
       "            bo4           bo5       bo6           bo7       vol  n_neighbours  \\\n",
       "0      0.275870  4.589469e-17  0.112218  6.919064e-17  0.139783          53.0   \n",
       "1      0.275870  4.556318e-17  0.112218  6.990912e-17  0.142876          53.0   \n",
       "2      0.275870  4.583321e-17  0.112218  7.051412e-17  0.106246          53.0   \n",
       "3      0.275870  4.454313e-17  0.112218  6.885246e-17  0.119037          53.0   \n",
       "4      0.275870  4.468783e-17  0.112218  6.982776e-17  0.075929          53.0   \n",
       "...         ...           ...       ...           ...       ...           ...   \n",
       "16195  0.253684  4.976994e-17  0.078902  7.386497e-17  0.215685          53.0   \n",
       "16196  0.253684  4.979619e-17  0.078902  7.383386e-17  0.198661          53.0   \n",
       "16197  0.253684  4.981818e-17  0.078902  7.372116e-17  0.201818          53.0   \n",
       "16198  0.253684  4.980164e-17  0.078902  7.381448e-17  0.238355          53.0   \n",
       "16199  0.253684  4.985364e-17  0.078902  7.380279e-17  0.185016          53.0   \n",
       "\n",
       "             Ds  \n",
       "0      0.521434  \n",
       "1      0.532875  \n",
       "2      0.485428  \n",
       "3      0.492425  \n",
       "4      0.562989  \n",
       "...         ...  \n",
       "16195  0.393998  \n",
       "16196  0.386789  \n",
       "16197  0.374940  \n",
       "16198  0.415230  \n",
       "16199  0.422381  \n",
       "\n",
       "[16200 rows x 27 columns]"
      ]
     },
     "execution_count": 22,
     "metadata": {},
     "output_type": "execute_result"
    }
   ],
   "source": [
    "df"
   ]
  },
  {
   "cell_type": "markdown",
   "id": "dbc28dd4-a562-4de0-b03a-950279e88132",
   "metadata": {},
   "source": [
    "## Data Preprocessing"
   ]
  },
  {
   "cell_type": "code",
   "execution_count": 11,
   "id": "2a467e6d-c8e4-4493-880a-f5f0d05c556d",
   "metadata": {},
   "outputs": [],
   "source": [
    "data = df.iloc[:,:-1]"
   ]
  },
  {
   "cell_type": "code",
   "execution_count": 12,
   "id": "479aa96e-3e0b-4bc2-909b-0b127ba34339",
   "metadata": {},
   "outputs": [],
   "source": [
    "target = df.Ds"
   ]
  },
  {
   "cell_type": "code",
   "execution_count": 13,
   "id": "28a22bf3-dfcf-4812-8649-efbdd910bccc",
   "metadata": {},
   "outputs": [],
   "source": [
    "#splitting the data to train and test\n",
    "X_train, X_test, y_train, y_test = train_test_split(data, target, random_state=13, test_size=0.4)"
   ]
  },
  {
   "cell_type": "code",
   "execution_count": 14,
   "id": "5aac9f5f-f177-4da4-bd37-5ff0cd5e9fd6",
   "metadata": {},
   "outputs": [],
   "source": [
    "#scaling data based on training set to prevent data leakage, the scaler computed from training set statistics will be applied to test data\n",
    "scaler = preprocessing.StandardScaler().fit(X_train)"
   ]
  },
  {
   "cell_type": "code",
   "execution_count": 15,
   "id": "c114037e-31c0-403e-9ee8-ec5becb2c232",
   "metadata": {},
   "outputs": [],
   "source": [
    "X_train_scaled = scaler.transform(X_train)\n",
    "X_test_scaled = scaler.transform(X_test)"
   ]
  },
  {
   "cell_type": "markdown",
   "id": "d5a4ad76-2310-47ea-8f53-ab41efb6a225",
   "metadata": {},
   "source": [
    "## NN Model"
   ]
  },
  {
   "cell_type": "code",
   "execution_count": 16,
   "id": "82a7b0ab-e118-48ef-9661-e95a8bab82b1",
   "metadata": {},
   "outputs": [
    {
     "name": "stderr",
     "output_type": "stream",
     "text": [
      "2024-02-01 14:28:42.434186: I tensorflow/core/common_runtime/process_util.cc:146] Creating new thread pool with default inter op setting: 2. Tune using inter_op_parallelism_threads for best performance.\n"
     ]
    }
   ],
   "source": [
    "#the first nn model. This contains:\n",
    "model = keras.Sequential([\n",
    "    layers.Dense(32, input_shape=(18,), activation=\"relu\"), #input layer\n",
    "    layers.Dense(16, activation=\"relu\"), #first hidden layer less nodes\n",
    "    layers.Dropout(0.5), #dropout layer with 50% dropout to prevent overfitting\n",
    "    layers.Dense(1) #output layer, no activation function as must be continuous\n",
    "])"
   ]
  },
  {
   "cell_type": "code",
   "execution_count": 17,
   "id": "c814ca7a-b3cb-45a8-a683-8e637b7df4df",
   "metadata": {},
   "outputs": [
    {
     "name": "stdout",
     "output_type": "stream",
     "text": [
      "Model: \"sequential\"\n",
      "_________________________________________________________________\n",
      " Layer (type)                Output Shape              Param #   \n",
      "=================================================================\n",
      " dense (Dense)               (None, 32)                608       \n",
      "                                                                 \n",
      " dense_1 (Dense)             (None, 16)                528       \n",
      "                                                                 \n",
      " dropout (Dropout)           (None, 16)                0         \n",
      "                                                                 \n",
      " dense_2 (Dense)             (None, 1)                 17        \n",
      "                                                                 \n",
      "=================================================================\n",
      "Total params: 1,153\n",
      "Trainable params: 1,153\n",
      "Non-trainable params: 0\n",
      "_________________________________________________________________\n"
     ]
    }
   ],
   "source": [
    "model.summary()"
   ]
  },
  {
   "cell_type": "code",
   "execution_count": 18,
   "id": "13ed94d5-e82b-479f-8a66-9bd547026bed",
   "metadata": {},
   "outputs": [],
   "source": [
    "# # Compile the model\n",
    "model.compile(optimizer=optimizers.RMSprop(),\n",
    "                loss='mse',\n",
    "                metrics=['mae'])"
   ]
  },
  {
   "cell_type": "code",
   "execution_count": 19,
   "id": "cc197ca3-4c1f-44d5-8d41-c856251ec505",
   "metadata": {},
   "outputs": [],
   "source": [
    "# # Compile the model\n",
    "# model.compile(optimizer=optimizers.SGD(),\n",
    "#                 loss='mse',\n",
    "#                 metrics=['mae'])"
   ]
  },
  {
   "cell_type": "code",
   "execution_count": 20,
   "id": "615b6f9b-f2a3-4a21-920b-bb6b0d35d00f",
   "metadata": {
    "scrolled": true
   },
   "outputs": [
    {
     "name": "stdout",
     "output_type": "stream",
     "text": [
      "Epoch 1/100\n"
     ]
    },
    {
     "ename": "ValueError",
     "evalue": "in user code:\n\n    File \"/home/richard/miniconda3/envs/tf/lib/python3.11/site-packages/keras/engine/training.py\", line 1284, in train_function  *\n        return step_function(self, iterator)\n    File \"/home/richard/miniconda3/envs/tf/lib/python3.11/site-packages/keras/engine/training.py\", line 1268, in step_function  **\n        outputs = model.distribute_strategy.run(run_step, args=(data,))\n    File \"/home/richard/miniconda3/envs/tf/lib/python3.11/site-packages/keras/engine/training.py\", line 1249, in run_step  **\n        outputs = model.train_step(data)\n    File \"/home/richard/miniconda3/envs/tf/lib/python3.11/site-packages/keras/engine/training.py\", line 1050, in train_step\n        y_pred = self(x, training=True)\n    File \"/home/richard/miniconda3/envs/tf/lib/python3.11/site-packages/keras/utils/traceback_utils.py\", line 70, in error_handler\n        raise e.with_traceback(filtered_tb) from None\n    File \"/home/richard/miniconda3/envs/tf/lib/python3.11/site-packages/keras/engine/input_spec.py\", line 298, in assert_input_compatibility\n        raise ValueError(\n\n    ValueError: Input 0 of layer \"sequential\" is incompatible with the layer: expected shape=(None, 18), found shape=(None, 26)\n",
     "output_type": "error",
     "traceback": [
      "\u001b[0;31m---------------------------------------------------------------------------\u001b[0m",
      "\u001b[0;31mValueError\u001b[0m                                Traceback (most recent call last)",
      "Cell \u001b[0;32mIn[20], line 2\u001b[0m\n\u001b[1;32m      1\u001b[0m \u001b[38;5;66;03m#train the model (this takes a little while)\u001b[39;00m\n\u001b[0;32m----> 2\u001b[0m history \u001b[38;5;241m=\u001b[39m \u001b[43mmodel\u001b[49m\u001b[38;5;241;43m.\u001b[39;49m\u001b[43mfit\u001b[49m\u001b[43m(\u001b[49m\u001b[43mX_train_scaled\u001b[49m\u001b[43m,\u001b[49m\u001b[43m \u001b[49m\u001b[43my_train\u001b[49m\u001b[43m,\u001b[49m\n\u001b[1;32m      3\u001b[0m \u001b[43m                    \u001b[49m\u001b[43mepochs\u001b[49m\u001b[38;5;241;43m=\u001b[39;49m\u001b[38;5;241;43m100\u001b[39;49m\u001b[43m,\u001b[49m\u001b[43m \u001b[49m\n\u001b[1;32m      4\u001b[0m \u001b[43m                    \u001b[49m\u001b[43mbatch_size\u001b[49m\u001b[38;5;241;43m=\u001b[39;49m\u001b[38;5;241;43m32\u001b[39;49m\u001b[43m,\u001b[49m\n\u001b[1;32m      5\u001b[0m \u001b[43m                    \u001b[49m\u001b[43mvalidation_data\u001b[49m\u001b[38;5;241;43m=\u001b[39;49m\u001b[43m(\u001b[49m\u001b[43mX_test_scaled\u001b[49m\u001b[43m,\u001b[49m\u001b[43m \u001b[49m\u001b[43my_test\u001b[49m\u001b[43m)\u001b[49m\u001b[43m)\u001b[49m\n",
      "File \u001b[0;32m~/miniconda3/envs/tf/lib/python3.11/site-packages/keras/utils/traceback_utils.py:70\u001b[0m, in \u001b[0;36mfilter_traceback.<locals>.error_handler\u001b[0;34m(*args, **kwargs)\u001b[0m\n\u001b[1;32m     67\u001b[0m     filtered_tb \u001b[38;5;241m=\u001b[39m _process_traceback_frames(e\u001b[38;5;241m.\u001b[39m__traceback__)\n\u001b[1;32m     68\u001b[0m     \u001b[38;5;66;03m# To get the full stack trace, call:\u001b[39;00m\n\u001b[1;32m     69\u001b[0m     \u001b[38;5;66;03m# `tf.debugging.disable_traceback_filtering()`\u001b[39;00m\n\u001b[0;32m---> 70\u001b[0m     \u001b[38;5;28;01mraise\u001b[39;00m e\u001b[38;5;241m.\u001b[39mwith_traceback(filtered_tb) \u001b[38;5;28;01mfrom\u001b[39;00m \u001b[38;5;28;01mNone\u001b[39;00m\n\u001b[1;32m     71\u001b[0m \u001b[38;5;28;01mfinally\u001b[39;00m:\n\u001b[1;32m     72\u001b[0m     \u001b[38;5;28;01mdel\u001b[39;00m filtered_tb\n",
      "File \u001b[0;32m/tmp/__autograph_generated_file5tmsa05v.py:15\u001b[0m, in \u001b[0;36mouter_factory.<locals>.inner_factory.<locals>.tf__train_function\u001b[0;34m(iterator)\u001b[0m\n\u001b[1;32m     13\u001b[0m \u001b[38;5;28;01mtry\u001b[39;00m:\n\u001b[1;32m     14\u001b[0m     do_return \u001b[38;5;241m=\u001b[39m \u001b[38;5;28;01mTrue\u001b[39;00m\n\u001b[0;32m---> 15\u001b[0m     retval_ \u001b[38;5;241m=\u001b[39m ag__\u001b[38;5;241m.\u001b[39mconverted_call(ag__\u001b[38;5;241m.\u001b[39mld(step_function), (ag__\u001b[38;5;241m.\u001b[39mld(\u001b[38;5;28mself\u001b[39m), ag__\u001b[38;5;241m.\u001b[39mld(iterator)), \u001b[38;5;28;01mNone\u001b[39;00m, fscope)\n\u001b[1;32m     16\u001b[0m \u001b[38;5;28;01mexcept\u001b[39;00m:\n\u001b[1;32m     17\u001b[0m     do_return \u001b[38;5;241m=\u001b[39m \u001b[38;5;28;01mFalse\u001b[39;00m\n",
      "\u001b[0;31mValueError\u001b[0m: in user code:\n\n    File \"/home/richard/miniconda3/envs/tf/lib/python3.11/site-packages/keras/engine/training.py\", line 1284, in train_function  *\n        return step_function(self, iterator)\n    File \"/home/richard/miniconda3/envs/tf/lib/python3.11/site-packages/keras/engine/training.py\", line 1268, in step_function  **\n        outputs = model.distribute_strategy.run(run_step, args=(data,))\n    File \"/home/richard/miniconda3/envs/tf/lib/python3.11/site-packages/keras/engine/training.py\", line 1249, in run_step  **\n        outputs = model.train_step(data)\n    File \"/home/richard/miniconda3/envs/tf/lib/python3.11/site-packages/keras/engine/training.py\", line 1050, in train_step\n        y_pred = self(x, training=True)\n    File \"/home/richard/miniconda3/envs/tf/lib/python3.11/site-packages/keras/utils/traceback_utils.py\", line 70, in error_handler\n        raise e.with_traceback(filtered_tb) from None\n    File \"/home/richard/miniconda3/envs/tf/lib/python3.11/site-packages/keras/engine/input_spec.py\", line 298, in assert_input_compatibility\n        raise ValueError(\n\n    ValueError: Input 0 of layer \"sequential\" is incompatible with the layer: expected shape=(None, 18), found shape=(None, 26)\n"
     ]
    }
   ],
   "source": [
    "#train the model (this takes a little while)\n",
    "history = model.fit(X_train_scaled, y_train,\n",
    "                    epochs=100, \n",
    "                    batch_size=32,\n",
    "                    validation_data=(X_test_scaled, y_test))"
   ]
  },
  {
   "cell_type": "code",
   "execution_count": null,
   "id": "bf2a00a9-e0e0-4066-83af-8bb49a5e7e52",
   "metadata": {},
   "outputs": [],
   "source": [
    "fig, axs = plt.subplots(ncols=2, nrows=1, figsize=(10,5), layout=\"constrained\", sharex=True)\n",
    "\n",
    "axs[0].plot(history.history['mae'])\n",
    "axs[0].plot(history.history['val_mae'])\n",
    "axs[0].set_title('Model MAE')\n",
    "axs[0].set_ylabel('MAE')\n",
    "axs[0].set_xlabel('Epoch')\n",
    "# axs[0].set_ylim(0,0.01)\n",
    "axs[0].legend(['Train', 'Test'], loc='upper left')\n",
    "\n",
    "axs[1].plot(history.history['loss']) \n",
    "axs[1].plot(history.history['val_loss']) \n",
    "axs[1].set_title('Model loss') \n",
    "axs[1].set_ylabel('Loss') \n",
    "axs[1].set_xlabel('Epoch') \n",
    "axs[1].legend(['Train', 'Test'], loc='upper left') \n",
    "\n",
    "plt.show()"
   ]
  },
  {
   "cell_type": "code",
   "execution_count": null,
   "id": "df01af6b-dbef-4a78-b690-7b675f7d0e66",
   "metadata": {},
   "outputs": [],
   "source": [
    "# load JS visualization for notebook vis\n",
    "shap.initjs()"
   ]
  },
  {
   "cell_type": "code",
   "execution_count": null,
   "id": "dabe6ea9-3ae2-44cf-9a2d-b4f88da74447",
   "metadata": {},
   "outputs": [],
   "source": [
    "background = shap.sample(X_train_scaled, 100)"
   ]
  },
  {
   "cell_type": "code",
   "execution_count": null,
   "id": "6e272fb6-7cde-4a18-ac12-b64766df19b9",
   "metadata": {},
   "outputs": [],
   "source": [
    "explainer = shap.KernelExplainer(model.predict, background)"
   ]
  },
  {
   "cell_type": "code",
   "execution_count": null,
   "id": "90441853-b5b2-4d27-81b1-fa5ea02d2379",
   "metadata": {
    "scrolled": true
   },
   "outputs": [],
   "source": [
    "shap_values = explainer.shap_values(X_test_scaled[:50], nsamples=50)"
   ]
  },
  {
   "cell_type": "code",
   "execution_count": null,
   "id": "5d09eb7c-fb4e-41b5-b68e-ad8783c8be0a",
   "metadata": {},
   "outputs": [],
   "source": [
    "shap.summary_plot(shap_values, X_test_scaled, feature_names=data.columns)"
   ]
  },
  {
   "cell_type": "code",
   "execution_count": null,
   "id": "f490fd4d-6b22-4fa2-9f91-cb601d1669aa",
   "metadata": {},
   "outputs": [],
   "source": [
    "shap.force_plot(explainer.expected_value, shap_values[0], X_test_scaled[:100], feature_names=data.columns)"
   ]
  },
  {
   "cell_type": "code",
   "execution_count": null,
   "id": "4c45c66c-86d6-4872-bab3-296a2e7fffb0",
   "metadata": {},
   "outputs": [],
   "source": [
    "y_pred_nn = model.predict(X_test_scaled).ravel()"
   ]
  },
  {
   "cell_type": "code",
   "execution_count": null,
   "id": "256acdcc-d84a-4bdd-9fd4-767e46004920",
   "metadata": {},
   "outputs": [],
   "source": [
    "nn_r2 = r2_score(y_test, y_pred_nn)\n",
    "\n",
    "nn_mae = mean_absolute_error(y_test, y_pred_nn)\n",
    "nn_mse = mean_squared_error(y_test, y_pred_nn)\n",
    "nn_rmse = np.sqrt(nn_mse)\n"
   ]
  },
  {
   "cell_type": "code",
   "execution_count": null,
   "id": "624d95c5-9b67-4d16-8113-bf9b4d6a1167",
   "metadata": {},
   "outputs": [],
   "source": [
    "print(\"NN Model R2:\", nn_r2)\n",
    "print(\"NN Model MAE:\", nn_mae)\n",
    "print(\"NN Model MSE:\", nn_mse)\n",
    "print(\"NN Model RMSE:\", nn_rmse)"
   ]
  },
  {
   "cell_type": "markdown",
   "id": "3f6d42b1-d97c-427a-ae27-7dce1caa28f7",
   "metadata": {},
   "source": [
    "## Random Forest"
   ]
  },
  {
   "cell_type": "code",
   "execution_count": null,
   "id": "c668be50-0b02-4ca5-9f7e-21c99f9f2071",
   "metadata": {},
   "outputs": [],
   "source": [
    "# # gridsearch to give good challenge to neural net\n",
    "\n",
    "# params = {\n",
    "#     \"n_estimators\":[200,300,400,500],\n",
    "#     \"criterion\":(\"squared_error\", \"absolute_error\"),\n",
    "#     \"max_depth\":[10,14,18]\n",
    "#          } \n",
    "\n",
    "# rf = RandomForestRegressor()\n",
    "\n",
    "# clf = GridSearchCV(rf, params, verbose=1)"
   ]
  },
  {
   "cell_type": "code",
   "execution_count": null,
   "id": "a9892682-949c-46a0-b60c-ce5c6d837d8d",
   "metadata": {},
   "outputs": [],
   "source": [
    "# #fitting the model\n",
    "# clf.fit(X_train_scaled, y_train)"
   ]
  },
  {
   "cell_type": "code",
   "execution_count": null,
   "id": "0d827d1d-07a8-45bf-b903-a452233865ab",
   "metadata": {},
   "outputs": [],
   "source": [
    "# clf.best_params_"
   ]
  },
  {
   "cell_type": "code",
   "execution_count": null,
   "id": "eb029ad0-b05a-4deb-832b-2d75a0ffe12a",
   "metadata": {},
   "outputs": [],
   "source": [
    "#run this cell instead of the gridsearch to save alot of time.\n",
    "clf = RandomForestRegressor(criterion=\"squared_error\", max_depth=14, n_estimators=300)\n",
    "\n",
    "clf.fit(X_train_scaled, y_train)"
   ]
  },
  {
   "cell_type": "code",
   "execution_count": null,
   "id": "a00f3c49-5e25-43de-839c-b1c70d55d2cf",
   "metadata": {},
   "outputs": [],
   "source": [
    "# #this was from diff gridsearch\n",
    "# clf = RandomForestRegressor(criterion=\"squared_error\", max_depth=18, n_estimators=500)\n",
    "\n",
    "# clf.fit(X_train_scaled, y_train)"
   ]
  },
  {
   "cell_type": "code",
   "execution_count": null,
   "id": "a8414791-2097-41e9-b54d-41294753decb",
   "metadata": {},
   "outputs": [],
   "source": [
    "def sort_list(list1, list2): #function from geeksforgeeks.org\n",
    "    zipped_pairs = zip(list2, list1)\n",
    "    z = [x for _, x in sorted(zipped_pairs, reverse=True)]\n",
    "    return z"
   ]
  },
  {
   "cell_type": "code",
   "execution_count": null,
   "id": "169993c9-7f6e-4eba-a46e-740e4a1d8c64",
   "metadata": {},
   "outputs": [],
   "source": [
    "rf_feat_imp = clf.feature_importances_\n",
    "feat_names = data.columns\n",
    "\n",
    "ranked_feat_names = sort_list(feat_names, rf_feat_imp)\n",
    "\n",
    "ranked_rf_feature_imp = sorted(rf_feat_imp, reverse=True)\n",
    "\n",
    "fig, ax = plt.subplots(figsize=(18,4))\n",
    "ax.bar(ranked_feat_names, ranked_rf_feature_imp)\n",
    "plt.title(\"Feature Importance for Random Forest Regressor\")\n",
    "plt.show()"
   ]
  },
  {
   "cell_type": "code",
   "execution_count": null,
   "id": "b97e3ae1-6bd3-4990-86b1-95a4a0e3d090",
   "metadata": {},
   "outputs": [],
   "source": [
    "#predictions\n",
    "y_pred_rf = clf.predict(X_test_scaled)"
   ]
  },
  {
   "cell_type": "code",
   "execution_count": null,
   "id": "1e3d545e-e316-4451-a4ea-f34a7cd6230d",
   "metadata": {},
   "outputs": [],
   "source": [
    "rf_r2 = r2_score(y_test, y_pred_rf)\n",
    "\n",
    "rf_mae = mean_absolute_error(y_test, y_pred_rf)\n",
    "rf_mse = mean_squared_error(y_test, y_pred_rf)\n",
    "rf_rmse = np.sqrt(rf_mse)\n"
   ]
  },
  {
   "cell_type": "code",
   "execution_count": null,
   "id": "d2c0cde4-434b-432d-93ff-50f993d4267d",
   "metadata": {},
   "outputs": [],
   "source": [
    "print(\"RF Model R2:\", rf_r2)\n",
    "print(\"RF Model MAE:\", rf_mae)\n",
    "print(\"RF Model MSE:\", rf_mse)\n",
    "print(\"RF Model RMSE:\", rf_rmse)"
   ]
  },
  {
   "cell_type": "markdown",
   "id": "fa1e39fe-efa3-4716-bc29-708bf80e635d",
   "metadata": {
    "editable": true,
    "slideshow": {
     "slide_type": ""
    },
    "tags": []
   },
   "source": [
    "## Volume Correction"
   ]
  },
  {
   "cell_type": "code",
   "execution_count": null,
   "id": "d9306577-43ae-4845-9d97-2dcdbe5a57de",
   "metadata": {},
   "outputs": [],
   "source": [
    "VC_pred = dt.VolumeCorrection(X_test.vol)"
   ]
  },
  {
   "cell_type": "code",
   "execution_count": null,
   "id": "f6df3ddd-e346-4c1e-8531-3545801b3f41",
   "metadata": {},
   "outputs": [],
   "source": [
    "VC_r2 = r2_score(y_test, VC_pred)\n",
    "\n",
    "VC_mae = mean_absolute_error(y_test, VC_pred)\n",
    "VC_mse = mean_squared_error(y_test, VC_pred)\n",
    "VC_rmse = np.sqrt(VC_mse)"
   ]
  },
  {
   "cell_type": "code",
   "execution_count": null,
   "id": "9ec8e657-534f-4249-b196-5795e80ba830",
   "metadata": {},
   "outputs": [],
   "source": [
    "print(\"VC Model R2:\", VC_r2)\n",
    "print(\"VC Model MAE:\", VC_mae)\n",
    "print(\"VC Model MSE:\", VC_mse)\n",
    "print(\"VC Model RMSE:\", VC_rmse)"
   ]
  },
  {
   "cell_type": "markdown",
   "id": "05324151-8140-4fe9-86ac-9d3a911fce8e",
   "metadata": {},
   "source": [
    "## Looking at Metrics and Predictions"
   ]
  },
  {
   "cell_type": "code",
   "execution_count": null,
   "id": "857c6bfc-b3fd-4040-ba3c-c2318a54cdda",
   "metadata": {},
   "outputs": [],
   "source": [
    "fig, axs = plt.subplots(nrows=2, ncols=2, figsize=(8,8), layout=\"constrained\")\n",
    "models = [\"Vol. Correction\", \"Rand. Forest\", \"Neural Net.\"]\n",
    "r2_metric = [VC_r2, rf_r2, nn_r2]\n",
    "mae_metric = [VC_mae, rf_mae, nn_mae]\n",
    "mse_metric = [VC_mse, rf_mse, nn_mse]\n",
    "rmse_metric = [VC_rmse, rf_rmse, nn_rmse]\n",
    "\n",
    "axs[0][0].bar(models, r2_metric)\n",
    "axs[0][1].bar(models, mae_metric)\n",
    "axs[1][0].bar(models, mse_metric)\n",
    "axs[1][1].bar(models, rmse_metric)\n",
    "\n",
    "axs[0][0].set_title(\"R2 Score (Higher is Better)\")\n",
    "axs[0][1].set_title(\"MAE (Lower is Better)\")\n",
    "axs[1][0].set_title(\"MSE (Lower is Better)\")\n",
    "axs[1][1].set_title(\"RMSE (Lower is Better)\")\n",
    "\n",
    "plt.show()"
   ]
  },
  {
   "cell_type": "code",
   "execution_count": null,
   "id": "a90ac387-82d7-4d0f-8112-0746cc5a303c",
   "metadata": {},
   "outputs": [],
   "source": [
    "fig, axs = plt.subplots(nrows=1, ncols=3, figsize=(12,4), layout=\"constrained\")#, sharex=True, sharey=True)\n",
    "\n",
    "im0 = axs[0].hist2d(y_test, VC_pred, bins=50, cmap=\"magma\")\n",
    "im1 = axs[1].hist2d(y_test, y_pred_rf, bins=50, cmap=\"cividis\")\n",
    "im2 = axs[2].hist2d(y_test, y_pred_nn, bins=50)\n",
    "\n",
    "axs[0].plot([0,1],[0,1], \"w--\")\n",
    "axs[1].plot([0,1],[0,1], \"w--\")\n",
    "axs[2].plot([0,1],[0,1], \"w--\")\n",
    "\n",
    "fig.colorbar(im0[3], ax=axs[0])\n",
    "fig.colorbar(im1[3], ax=axs[1])\n",
    "fig.colorbar(im2[3], ax=axs[2])\n",
    "\n",
    "axs[0].set_xlabel(\"True Value\")\n",
    "axs[0].set_ylabel(\"Volume Correction Prediction\")\n",
    "\n",
    "axs[1].set_xlabel(\"True Value\")\n",
    "axs[1].set_ylabel(\"Random Forest Prediction\")\n",
    "\n",
    "axs[2].set_xlabel(\"True Value\")\n",
    "axs[2].set_ylabel(\"Neural Network Prediction\")\n",
    "\n",
    "plt.show()"
   ]
  },
  {
   "cell_type": "code",
   "execution_count": null,
   "id": "ad5a6edf-b089-41fe-b89c-0e71f2812d08",
   "metadata": {},
   "outputs": [],
   "source": [
    "plt.plot(y_test, y_test, \".\", label=\"Target\")\n",
    "plt.plot(y_test, VC_pred, \".\", label=\"Volume Correction\")\n",
    "plt.plot(y_test, y_pred_rf, \".\", label=\"Random Forest\")\n",
    "plt.plot(y_test, y_pred_nn, \".\", label=\"Neural Network\")\n",
    "plt.xlabel(\"True Value\")\n",
    "plt.ylabel(\"Model Prediction\")\n",
    "plt.legend()\n",
    "plt.show()"
   ]
  },
  {
   "cell_type": "code",
   "execution_count": null,
   "id": "790f2473-4c4d-4cb2-9e41-012312af1b68",
   "metadata": {},
   "outputs": [],
   "source": [
    "#this plot is a bit of a mess\n",
    "plt.plot(X_test.vol, y_test, \".\", label=\"Target\")\n",
    "plt.plot(X_test.vol, VC_pred, \".\", label=\"Volume Correction\", alpha=0.5)\n",
    "plt.plot(X_test.vol, y_pred_rf, \".\", label=\"Random Forest\", alpha=0.5)\n",
    "plt.plot(X_test.vol, y_pred_nn, \".\", label=\"Neural Network\", alpha=0.5)\n",
    "plt.xlabel(\"Local Volume\")\n",
    "plt.ylabel(\"Diffusion Parameter\")\n",
    "plt.legend()\n",
    "plt.show()"
   ]
  },
  {
   "cell_type": "code",
   "execution_count": null,
   "id": "8544fec4-d23f-4d19-877c-a01661da8edd",
   "metadata": {},
   "outputs": [],
   "source": [
    "ind = 20\n",
    "num = 1\n",
    "\n",
    "plt.plot(X_test.vol[ind:ind+num], VC_pred[ind:ind+num], \".\", label=\"Volume Correction\")\n",
    "plt.plot(X_test.vol[ind:ind+num], y_pred_rf[ind:ind+num], \".\", label=\"Random Forest\")\n",
    "plt.plot(X_test.vol[ind:ind+num], y_pred_nn[ind:ind+num], \".\", label=\"Neural Network\")\n",
    "plt.plot(X_test.vol[ind:ind+num], y_test[ind:ind+num], \".\", label=\"Target\")\n",
    "# plt.xlim(0.12, 0.26)\n",
    "# plt.ylim(0.3, 0.475)\n",
    "plt.legend()\n",
    "plt.show()"
   ]
  },
  {
   "cell_type": "code",
   "execution_count": null,
   "id": "282489ba-7a72-42c6-9534-c9bdf0bff356",
   "metadata": {},
   "outputs": [],
   "source": []
  }
 ],
 "metadata": {
  "kernelspec": {
   "display_name": "Python 3 (ipykernel)",
   "language": "python",
   "name": "python3"
  },
  "language_info": {
   "codemirror_mode": {
    "name": "ipython",
    "version": 3
   },
   "file_extension": ".py",
   "mimetype": "text/x-python",
   "name": "python",
   "nbconvert_exporter": "python",
   "pygments_lexer": "ipython3",
   "version": "3.11.5"
  }
 },
 "nbformat": 4,
 "nbformat_minor": 5
}
