{
 "cells": [
  {
   "cell_type": "markdown",
   "id": "ae213841-6d28-4759-9dbf-a1844353135e",
   "metadata": {},
   "source": [
    "After altering code to return inverted and non-inverted distances it was seen that machine learning models performed worse on data generated from simulations with the new code for distance calculations.\n",
    "\n",
    "Closer inspection between the original code and the new code data revealed the distance values are different. Which is shown below."
   ]
  },
  {
   "cell_type": "code",
   "execution_count": 7,
   "id": "76c58a90-1319-4635-ad93-641c89deb84d",
   "metadata": {},
   "outputs": [],
   "source": [
    "import pandas as pd\n",
    "import numpy as np\n",
    "import matplotlib.pyplot as plt"
   ]
  },
  {
   "cell_type": "code",
   "execution_count": 8,
   "id": "f3e72cd0-7eb4-4fa6-8f27-1f64f809f899",
   "metadata": {},
   "outputs": [],
   "source": [
    "df1 = pd.read_csv(\"data/comparison/diffusion_data_old.csv\")\n",
    "df2 = pd.read_csv(\"data/comparison/diffusion_data_old_comparison.csv\")"
   ]
  },
  {
   "cell_type": "code",
   "execution_count": 9,
   "id": "cd106190-6dd9-433c-9b2a-313bca79c94a",
   "metadata": {},
   "outputs": [],
   "source": [
    "df2 = df2.drop(['l0', 'l1', 'l2', 'l3', 'l4', 'l5', 'l6', 'l7', 'bo0', 'bo1',\n",
    "       'bo2', 'bo3', 'bo4', 'bo5', 'bo6', 'bo7'], axis=1)"
   ]
  },
  {
   "cell_type": "code",
   "execution_count": 10,
   "id": "720fd9c8-16ef-42d0-98b3-78c91f7cd7fc",
   "metadata": {},
   "outputs": [
    {
     "data": {
      "text/html": [
       "<div>\n",
       "<style scoped>\n",
       "    .dataframe tbody tr th:only-of-type {\n",
       "        vertical-align: middle;\n",
       "    }\n",
       "\n",
       "    .dataframe tbody tr th {\n",
       "        vertical-align: top;\n",
       "    }\n",
       "\n",
       "    .dataframe thead th {\n",
       "        text-align: right;\n",
       "    }\n",
       "</style>\n",
       "<table border=\"1\" class=\"dataframe\">\n",
       "  <thead>\n",
       "    <tr style=\"text-align: right;\">\n",
       "      <th></th>\n",
       "      <th>l0</th>\n",
       "      <th>l1</th>\n",
       "      <th>l2</th>\n",
       "      <th>l3</th>\n",
       "      <th>l4</th>\n",
       "      <th>l5</th>\n",
       "      <th>l6</th>\n",
       "      <th>l7</th>\n",
       "      <th>vol</th>\n",
       "      <th>n_neighbours</th>\n",
       "      <th>Ds</th>\n",
       "    </tr>\n",
       "  </thead>\n",
       "  <tbody>\n",
       "    <tr>\n",
       "      <th>count</th>\n",
       "      <td>5400.000000</td>\n",
       "      <td>5400.000000</td>\n",
       "      <td>5400.000000</td>\n",
       "      <td>5400.000000</td>\n",
       "      <td>5400.000000</td>\n",
       "      <td>5400.000000</td>\n",
       "      <td>5400.000000</td>\n",
       "      <td>5400.000000</td>\n",
       "      <td>5400.000000</td>\n",
       "      <td>5400.0</td>\n",
       "      <td>5400.000000</td>\n",
       "    </tr>\n",
       "    <tr>\n",
       "      <th>mean</th>\n",
       "      <td>0.586997</td>\n",
       "      <td>0.615485</td>\n",
       "      <td>0.647142</td>\n",
       "      <td>0.682559</td>\n",
       "      <td>0.722782</td>\n",
       "      <td>0.768064</td>\n",
       "      <td>0.814929</td>\n",
       "      <td>0.867676</td>\n",
       "      <td>0.202119</td>\n",
       "      <td>53.0</td>\n",
       "      <td>0.388897</td>\n",
       "    </tr>\n",
       "    <tr>\n",
       "      <th>std</th>\n",
       "      <td>0.038325</td>\n",
       "      <td>0.043146</td>\n",
       "      <td>0.047747</td>\n",
       "      <td>0.051800</td>\n",
       "      <td>0.055658</td>\n",
       "      <td>0.057432</td>\n",
       "      <td>0.054830</td>\n",
       "      <td>0.046864</td>\n",
       "      <td>0.017690</td>\n",
       "      <td>0.0</td>\n",
       "      <td>0.026151</td>\n",
       "    </tr>\n",
       "    <tr>\n",
       "      <th>min</th>\n",
       "      <td>0.477690</td>\n",
       "      <td>0.480583</td>\n",
       "      <td>0.500006</td>\n",
       "      <td>0.515954</td>\n",
       "      <td>0.532420</td>\n",
       "      <td>0.564331</td>\n",
       "      <td>0.608762</td>\n",
       "      <td>0.654258</td>\n",
       "      <td>0.125780</td>\n",
       "      <td>53.0</td>\n",
       "      <td>0.303290</td>\n",
       "    </tr>\n",
       "    <tr>\n",
       "      <th>25%</th>\n",
       "      <td>0.559704</td>\n",
       "      <td>0.584476</td>\n",
       "      <td>0.613492</td>\n",
       "      <td>0.646172</td>\n",
       "      <td>0.683860</td>\n",
       "      <td>0.728480</td>\n",
       "      <td>0.777972</td>\n",
       "      <td>0.841611</td>\n",
       "      <td>0.190213</td>\n",
       "      <td>53.0</td>\n",
       "      <td>0.371233</td>\n",
       "    </tr>\n",
       "    <tr>\n",
       "      <th>50%</th>\n",
       "      <td>0.583645</td>\n",
       "      <td>0.612503</td>\n",
       "      <td>0.644045</td>\n",
       "      <td>0.680084</td>\n",
       "      <td>0.721079</td>\n",
       "      <td>0.769957</td>\n",
       "      <td>0.820456</td>\n",
       "      <td>0.876930</td>\n",
       "      <td>0.201926</td>\n",
       "      <td>53.0</td>\n",
       "      <td>0.388729</td>\n",
       "    </tr>\n",
       "    <tr>\n",
       "      <th>75%</th>\n",
       "      <td>0.611562</td>\n",
       "      <td>0.643451</td>\n",
       "      <td>0.677990</td>\n",
       "      <td>0.716322</td>\n",
       "      <td>0.762788</td>\n",
       "      <td>0.809833</td>\n",
       "      <td>0.857114</td>\n",
       "      <td>0.900595</td>\n",
       "      <td>0.214180</td>\n",
       "      <td>53.0</td>\n",
       "      <td>0.406847</td>\n",
       "    </tr>\n",
       "    <tr>\n",
       "      <th>max</th>\n",
       "      <td>0.748136</td>\n",
       "      <td>0.778980</td>\n",
       "      <td>0.833226</td>\n",
       "      <td>0.881693</td>\n",
       "      <td>0.900790</td>\n",
       "      <td>0.920324</td>\n",
       "      <td>0.933467</td>\n",
       "      <td>0.974033</td>\n",
       "      <td>0.260716</td>\n",
       "      <td>53.0</td>\n",
       "      <td>0.473188</td>\n",
       "    </tr>\n",
       "  </tbody>\n",
       "</table>\n",
       "</div>"
      ],
      "text/plain": [
       "                l0           l1           l2           l3           l4  \\\n",
       "count  5400.000000  5400.000000  5400.000000  5400.000000  5400.000000   \n",
       "mean      0.586997     0.615485     0.647142     0.682559     0.722782   \n",
       "std       0.038325     0.043146     0.047747     0.051800     0.055658   \n",
       "min       0.477690     0.480583     0.500006     0.515954     0.532420   \n",
       "25%       0.559704     0.584476     0.613492     0.646172     0.683860   \n",
       "50%       0.583645     0.612503     0.644045     0.680084     0.721079   \n",
       "75%       0.611562     0.643451     0.677990     0.716322     0.762788   \n",
       "max       0.748136     0.778980     0.833226     0.881693     0.900790   \n",
       "\n",
       "                l5           l6           l7          vol  n_neighbours  \\\n",
       "count  5400.000000  5400.000000  5400.000000  5400.000000        5400.0   \n",
       "mean      0.768064     0.814929     0.867676     0.202119          53.0   \n",
       "std       0.057432     0.054830     0.046864     0.017690           0.0   \n",
       "min       0.564331     0.608762     0.654258     0.125780          53.0   \n",
       "25%       0.728480     0.777972     0.841611     0.190213          53.0   \n",
       "50%       0.769957     0.820456     0.876930     0.201926          53.0   \n",
       "75%       0.809833     0.857114     0.900595     0.214180          53.0   \n",
       "max       0.920324     0.933467     0.974033     0.260716          53.0   \n",
       "\n",
       "                Ds  \n",
       "count  5400.000000  \n",
       "mean      0.388897  \n",
       "std       0.026151  \n",
       "min       0.303290  \n",
       "25%       0.371233  \n",
       "50%       0.388729  \n",
       "75%       0.406847  \n",
       "max       0.473188  "
      ]
     },
     "execution_count": 10,
     "metadata": {},
     "output_type": "execute_result"
    }
   ],
   "source": [
    "df1.describe() ##original inverse distance calculation method"
   ]
  },
  {
   "cell_type": "code",
   "execution_count": 11,
   "id": "81a5b1f3-79c0-4ee9-9e22-01c850572328",
   "metadata": {},
   "outputs": [
    {
     "data": {
      "text/html": [
       "<div>\n",
       "<style scoped>\n",
       "    .dataframe tbody tr th:only-of-type {\n",
       "        vertical-align: middle;\n",
       "    }\n",
       "\n",
       "    .dataframe tbody tr th {\n",
       "        vertical-align: top;\n",
       "    }\n",
       "\n",
       "    .dataframe thead th {\n",
       "        text-align: right;\n",
       "    }\n",
       "</style>\n",
       "<table border=\"1\" class=\"dataframe\">\n",
       "  <thead>\n",
       "    <tr style=\"text-align: right;\">\n",
       "      <th></th>\n",
       "      <th>l0_inv</th>\n",
       "      <th>l1_inv</th>\n",
       "      <th>l2_inv</th>\n",
       "      <th>l3_inv</th>\n",
       "      <th>l4_inv</th>\n",
       "      <th>l5_inv</th>\n",
       "      <th>l6_inv</th>\n",
       "      <th>l7_inv</th>\n",
       "      <th>vol</th>\n",
       "      <th>n_neighbours</th>\n",
       "      <th>Ds</th>\n",
       "    </tr>\n",
       "  </thead>\n",
       "  <tbody>\n",
       "    <tr>\n",
       "      <th>count</th>\n",
       "      <td>5400.000000</td>\n",
       "      <td>5400.000000</td>\n",
       "      <td>5400.000000</td>\n",
       "      <td>5400.000000</td>\n",
       "      <td>5400.000000</td>\n",
       "      <td>5400.000000</td>\n",
       "      <td>5400.000000</td>\n",
       "      <td>5400.000000</td>\n",
       "      <td>5400.000000</td>\n",
       "      <td>5400.0</td>\n",
       "      <td>5400.000000</td>\n",
       "    </tr>\n",
       "    <tr>\n",
       "      <th>mean</th>\n",
       "      <td>0.304822</td>\n",
       "      <td>0.300134</td>\n",
       "      <td>0.294986</td>\n",
       "      <td>0.289643</td>\n",
       "      <td>0.283756</td>\n",
       "      <td>0.277136</td>\n",
       "      <td>0.268607</td>\n",
       "      <td>0.253139</td>\n",
       "      <td>0.202119</td>\n",
       "      <td>53.0</td>\n",
       "      <td>0.388897</td>\n",
       "    </tr>\n",
       "    <tr>\n",
       "      <th>std</th>\n",
       "      <td>0.007565</td>\n",
       "      <td>0.007536</td>\n",
       "      <td>0.007398</td>\n",
       "      <td>0.007378</td>\n",
       "      <td>0.007365</td>\n",
       "      <td>0.007692</td>\n",
       "      <td>0.008568</td>\n",
       "      <td>0.011126</td>\n",
       "      <td>0.017690</td>\n",
       "      <td>0.0</td>\n",
       "      <td>0.026151</td>\n",
       "    </tr>\n",
       "    <tr>\n",
       "      <th>min</th>\n",
       "      <td>0.278714</td>\n",
       "      <td>0.275043</td>\n",
       "      <td>0.270550</td>\n",
       "      <td>0.266092</td>\n",
       "      <td>0.259257</td>\n",
       "      <td>0.252464</td>\n",
       "      <td>0.244788</td>\n",
       "      <td>0.222960</td>\n",
       "      <td>0.125780</td>\n",
       "      <td>53.0</td>\n",
       "      <td>0.303290</td>\n",
       "    </tr>\n",
       "    <tr>\n",
       "      <th>25%</th>\n",
       "      <td>0.299560</td>\n",
       "      <td>0.294902</td>\n",
       "      <td>0.289809</td>\n",
       "      <td>0.284563</td>\n",
       "      <td>0.278681</td>\n",
       "      <td>0.271828</td>\n",
       "      <td>0.262514</td>\n",
       "      <td>0.245152</td>\n",
       "      <td>0.190213</td>\n",
       "      <td>53.0</td>\n",
       "      <td>0.371233</td>\n",
       "    </tr>\n",
       "    <tr>\n",
       "      <th>50%</th>\n",
       "      <td>0.304795</td>\n",
       "      <td>0.299968</td>\n",
       "      <td>0.294793</td>\n",
       "      <td>0.289302</td>\n",
       "      <td>0.283549</td>\n",
       "      <td>0.277037</td>\n",
       "      <td>0.268636</td>\n",
       "      <td>0.253215</td>\n",
       "      <td>0.201926</td>\n",
       "      <td>53.0</td>\n",
       "      <td>0.388729</td>\n",
       "    </tr>\n",
       "    <tr>\n",
       "      <th>75%</th>\n",
       "      <td>0.309821</td>\n",
       "      <td>0.305201</td>\n",
       "      <td>0.299841</td>\n",
       "      <td>0.294441</td>\n",
       "      <td>0.288622</td>\n",
       "      <td>0.282232</td>\n",
       "      <td>0.274468</td>\n",
       "      <td>0.260900</td>\n",
       "      <td>0.214180</td>\n",
       "      <td>53.0</td>\n",
       "      <td>0.406847</td>\n",
       "    </tr>\n",
       "    <tr>\n",
       "      <th>max</th>\n",
       "      <td>0.337646</td>\n",
       "      <td>0.331201</td>\n",
       "      <td>0.326978</td>\n",
       "      <td>0.324968</td>\n",
       "      <td>0.309208</td>\n",
       "      <td>0.307038</td>\n",
       "      <td>0.305929</td>\n",
       "      <td>0.288665</td>\n",
       "      <td>0.260716</td>\n",
       "      <td>53.0</td>\n",
       "      <td>0.473188</td>\n",
       "    </tr>\n",
       "  </tbody>\n",
       "</table>\n",
       "</div>"
      ],
      "text/plain": [
       "            l0_inv       l1_inv       l2_inv       l3_inv       l4_inv  \\\n",
       "count  5400.000000  5400.000000  5400.000000  5400.000000  5400.000000   \n",
       "mean      0.304822     0.300134     0.294986     0.289643     0.283756   \n",
       "std       0.007565     0.007536     0.007398     0.007378     0.007365   \n",
       "min       0.278714     0.275043     0.270550     0.266092     0.259257   \n",
       "25%       0.299560     0.294902     0.289809     0.284563     0.278681   \n",
       "50%       0.304795     0.299968     0.294793     0.289302     0.283549   \n",
       "75%       0.309821     0.305201     0.299841     0.294441     0.288622   \n",
       "max       0.337646     0.331201     0.326978     0.324968     0.309208   \n",
       "\n",
       "            l5_inv       l6_inv       l7_inv          vol  n_neighbours  \\\n",
       "count  5400.000000  5400.000000  5400.000000  5400.000000        5400.0   \n",
       "mean      0.277136     0.268607     0.253139     0.202119          53.0   \n",
       "std       0.007692     0.008568     0.011126     0.017690           0.0   \n",
       "min       0.252464     0.244788     0.222960     0.125780          53.0   \n",
       "25%       0.271828     0.262514     0.245152     0.190213          53.0   \n",
       "50%       0.277037     0.268636     0.253215     0.201926          53.0   \n",
       "75%       0.282232     0.274468     0.260900     0.214180          53.0   \n",
       "max       0.307038     0.305929     0.288665     0.260716          53.0   \n",
       "\n",
       "                Ds  \n",
       "count  5400.000000  \n",
       "mean      0.388897  \n",
       "std       0.026151  \n",
       "min       0.303290  \n",
       "25%       0.371233  \n",
       "50%       0.388729  \n",
       "75%       0.406847  \n",
       "max       0.473188  "
      ]
     },
     "execution_count": 11,
     "metadata": {},
     "output_type": "execute_result"
    }
   ],
   "source": [
    "df2.describe() #new distance calculation method"
   ]
  },
  {
   "cell_type": "code",
   "execution_count": 12,
   "id": "a5b50610-7b60-435d-87da-eac0ef68424d",
   "metadata": {},
   "outputs": [
    {
     "data": {
      "text/html": [
       "<div>\n",
       "<style scoped>\n",
       "    .dataframe tbody tr th:only-of-type {\n",
       "        vertical-align: middle;\n",
       "    }\n",
       "\n",
       "    .dataframe tbody tr th {\n",
       "        vertical-align: top;\n",
       "    }\n",
       "\n",
       "    .dataframe thead th {\n",
       "        text-align: right;\n",
       "    }\n",
       "</style>\n",
       "<table border=\"1\" class=\"dataframe\">\n",
       "  <thead>\n",
       "    <tr style=\"text-align: right;\">\n",
       "      <th></th>\n",
       "      <th>l0</th>\n",
       "      <th>l1</th>\n",
       "      <th>l2</th>\n",
       "      <th>l3</th>\n",
       "      <th>l4</th>\n",
       "      <th>l5</th>\n",
       "      <th>l6</th>\n",
       "      <th>l7</th>\n",
       "      <th>vol</th>\n",
       "      <th>n_neighbours</th>\n",
       "      <th>Ds</th>\n",
       "    </tr>\n",
       "  </thead>\n",
       "  <tbody>\n",
       "    <tr>\n",
       "      <th>0</th>\n",
       "      <td>0.563190</td>\n",
       "      <td>0.565949</td>\n",
       "      <td>0.580143</td>\n",
       "      <td>0.707842</td>\n",
       "      <td>0.773975</td>\n",
       "      <td>0.834769</td>\n",
       "      <td>0.884115</td>\n",
       "      <td>0.888794</td>\n",
       "      <td>0.200455</td>\n",
       "      <td>53.0</td>\n",
       "      <td>0.367946</td>\n",
       "    </tr>\n",
       "    <tr>\n",
       "      <th>1</th>\n",
       "      <td>0.575812</td>\n",
       "      <td>0.590612</td>\n",
       "      <td>0.632228</td>\n",
       "      <td>0.649492</td>\n",
       "      <td>0.685031</td>\n",
       "      <td>0.731453</td>\n",
       "      <td>0.744061</td>\n",
       "      <td>0.888794</td>\n",
       "      <td>0.206035</td>\n",
       "      <td>53.0</td>\n",
       "      <td>0.405260</td>\n",
       "    </tr>\n",
       "    <tr>\n",
       "      <th>2</th>\n",
       "      <td>0.564883</td>\n",
       "      <td>0.575887</td>\n",
       "      <td>0.607135</td>\n",
       "      <td>0.613226</td>\n",
       "      <td>0.648257</td>\n",
       "      <td>0.651667</td>\n",
       "      <td>0.694666</td>\n",
       "      <td>0.906113</td>\n",
       "      <td>0.216181</td>\n",
       "      <td>53.0</td>\n",
       "      <td>0.411686</td>\n",
       "    </tr>\n",
       "    <tr>\n",
       "      <th>3</th>\n",
       "      <td>0.566483</td>\n",
       "      <td>0.583332</td>\n",
       "      <td>0.648028</td>\n",
       "      <td>0.700093</td>\n",
       "      <td>0.725940</td>\n",
       "      <td>0.791908</td>\n",
       "      <td>0.866125</td>\n",
       "      <td>0.869910</td>\n",
       "      <td>0.192773</td>\n",
       "      <td>53.0</td>\n",
       "      <td>0.387032</td>\n",
       "    </tr>\n",
       "    <tr>\n",
       "      <th>4</th>\n",
       "      <td>0.552615</td>\n",
       "      <td>0.566483</td>\n",
       "      <td>0.706214</td>\n",
       "      <td>0.773975</td>\n",
       "      <td>0.827710</td>\n",
       "      <td>0.847720</td>\n",
       "      <td>0.905372</td>\n",
       "      <td>0.916870</td>\n",
       "      <td>0.192975</td>\n",
       "      <td>53.0</td>\n",
       "      <td>0.346245</td>\n",
       "    </tr>\n",
       "  </tbody>\n",
       "</table>\n",
       "</div>"
      ],
      "text/plain": [
       "         l0        l1        l2        l3        l4        l5        l6  \\\n",
       "0  0.563190  0.565949  0.580143  0.707842  0.773975  0.834769  0.884115   \n",
       "1  0.575812  0.590612  0.632228  0.649492  0.685031  0.731453  0.744061   \n",
       "2  0.564883  0.575887  0.607135  0.613226  0.648257  0.651667  0.694666   \n",
       "3  0.566483  0.583332  0.648028  0.700093  0.725940  0.791908  0.866125   \n",
       "4  0.552615  0.566483  0.706214  0.773975  0.827710  0.847720  0.905372   \n",
       "\n",
       "         l7       vol  n_neighbours        Ds  \n",
       "0  0.888794  0.200455          53.0  0.367946  \n",
       "1  0.888794  0.206035          53.0  0.405260  \n",
       "2  0.906113  0.216181          53.0  0.411686  \n",
       "3  0.869910  0.192773          53.0  0.387032  \n",
       "4  0.916870  0.192975          53.0  0.346245  "
      ]
     },
     "execution_count": 12,
     "metadata": {},
     "output_type": "execute_result"
    }
   ],
   "source": [
    "df1.head() #distance increase from l0-l1-l2"
   ]
  },
  {
   "cell_type": "code",
   "execution_count": 13,
   "id": "9ce5af8e-ad04-40e5-8905-fc09178fdd1c",
   "metadata": {},
   "outputs": [
    {
     "data": {
      "text/html": [
       "<div>\n",
       "<style scoped>\n",
       "    .dataframe tbody tr th:only-of-type {\n",
       "        vertical-align: middle;\n",
       "    }\n",
       "\n",
       "    .dataframe tbody tr th {\n",
       "        vertical-align: top;\n",
       "    }\n",
       "\n",
       "    .dataframe thead th {\n",
       "        text-align: right;\n",
       "    }\n",
       "</style>\n",
       "<table border=\"1\" class=\"dataframe\">\n",
       "  <thead>\n",
       "    <tr style=\"text-align: right;\">\n",
       "      <th></th>\n",
       "      <th>l0_inv</th>\n",
       "      <th>l1_inv</th>\n",
       "      <th>l2_inv</th>\n",
       "      <th>l3_inv</th>\n",
       "      <th>l4_inv</th>\n",
       "      <th>l5_inv</th>\n",
       "      <th>l6_inv</th>\n",
       "      <th>l7_inv</th>\n",
       "      <th>vol</th>\n",
       "      <th>n_neighbours</th>\n",
       "      <th>Ds</th>\n",
       "    </tr>\n",
       "  </thead>\n",
       "  <tbody>\n",
       "    <tr>\n",
       "      <th>0</th>\n",
       "      <td>0.327585</td>\n",
       "      <td>0.306842</td>\n",
       "      <td>0.296504</td>\n",
       "      <td>0.273028</td>\n",
       "      <td>0.272212</td>\n",
       "      <td>0.272194</td>\n",
       "      <td>0.271903</td>\n",
       "      <td>0.239305</td>\n",
       "      <td>0.200455</td>\n",
       "      <td>53.0</td>\n",
       "      <td>0.367946</td>\n",
       "    </tr>\n",
       "    <tr>\n",
       "      <th>1</th>\n",
       "      <td>0.307693</td>\n",
       "      <td>0.296377</td>\n",
       "      <td>0.290680</td>\n",
       "      <td>0.283923</td>\n",
       "      <td>0.283177</td>\n",
       "      <td>0.278030</td>\n",
       "      <td>0.259357</td>\n",
       "      <td>0.249806</td>\n",
       "      <td>0.206035</td>\n",
       "      <td>53.0</td>\n",
       "      <td>0.405260</td>\n",
       "    </tr>\n",
       "    <tr>\n",
       "      <th>2</th>\n",
       "      <td>0.295189</td>\n",
       "      <td>0.291421</td>\n",
       "      <td>0.290889</td>\n",
       "      <td>0.286601</td>\n",
       "      <td>0.270011</td>\n",
       "      <td>0.268861</td>\n",
       "      <td>0.265629</td>\n",
       "      <td>0.251295</td>\n",
       "      <td>0.216181</td>\n",
       "      <td>53.0</td>\n",
       "      <td>0.411686</td>\n",
       "    </tr>\n",
       "    <tr>\n",
       "      <th>3</th>\n",
       "      <td>0.297522</td>\n",
       "      <td>0.294896</td>\n",
       "      <td>0.291925</td>\n",
       "      <td>0.290213</td>\n",
       "      <td>0.288542</td>\n",
       "      <td>0.286441</td>\n",
       "      <td>0.278636</td>\n",
       "      <td>0.266408</td>\n",
       "      <td>0.192773</td>\n",
       "      <td>53.0</td>\n",
       "      <td>0.387032</td>\n",
       "    </tr>\n",
       "    <tr>\n",
       "      <th>4</th>\n",
       "      <td>0.292926</td>\n",
       "      <td>0.291168</td>\n",
       "      <td>0.287640</td>\n",
       "      <td>0.278957</td>\n",
       "      <td>0.278711</td>\n",
       "      <td>0.269904</td>\n",
       "      <td>0.267637</td>\n",
       "      <td>0.266100</td>\n",
       "      <td>0.192975</td>\n",
       "      <td>53.0</td>\n",
       "      <td>0.346245</td>\n",
       "    </tr>\n",
       "  </tbody>\n",
       "</table>\n",
       "</div>"
      ],
      "text/plain": [
       "     l0_inv    l1_inv    l2_inv    l3_inv    l4_inv    l5_inv    l6_inv  \\\n",
       "0  0.327585  0.306842  0.296504  0.273028  0.272212  0.272194  0.271903   \n",
       "1  0.307693  0.296377  0.290680  0.283923  0.283177  0.278030  0.259357   \n",
       "2  0.295189  0.291421  0.290889  0.286601  0.270011  0.268861  0.265629   \n",
       "3  0.297522  0.294896  0.291925  0.290213  0.288542  0.286441  0.278636   \n",
       "4  0.292926  0.291168  0.287640  0.278957  0.278711  0.269904  0.267637   \n",
       "\n",
       "     l7_inv       vol  n_neighbours        Ds  \n",
       "0  0.239305  0.200455          53.0  0.367946  \n",
       "1  0.249806  0.206035          53.0  0.405260  \n",
       "2  0.251295  0.216181          53.0  0.411686  \n",
       "3  0.266408  0.192773          53.0  0.387032  \n",
       "4  0.266100  0.192975          53.0  0.346245  "
      ]
     },
     "execution_count": 13,
     "metadata": {},
     "output_type": "execute_result"
    }
   ],
   "source": [
    "df2.head() #distance decrease from l0-l1-l2"
   ]
  },
  {
   "cell_type": "markdown",
   "id": "37d1c49b-14fd-40ba-aefc-ee88ff184f12",
   "metadata": {},
   "source": [
    "The method of calculating inverse distances differs between df1 and df2.\n",
    "\n",
    "For df1 calculation:\n",
    "1) Distance values are inverted\n",
    "2) Inverse distance sorted in ascending order\n",
    "3) Last n values taken\n",
    "\n",
    "For df2 calculation:\n",
    "1) Distance values are sorted\n",
    "2) Distance values are inverted\n",
    "3) Last n values taken"
   ]
  },
  {
   "cell_type": "code",
   "execution_count": 14,
   "id": "0590b241-6f8b-47a8-99ea-63be19071115",
   "metadata": {},
   "outputs": [],
   "source": [
    "test = np.asarray([[4,5,3,1,2],\n",
    "                   [0.3, 0.6, 0.2,0.4, 0.1]])"
   ]
  },
  {
   "cell_type": "code",
   "execution_count": 15,
   "id": "5acea5a5-ee2b-4ee5-93be-cf6ddded52a8",
   "metadata": {},
   "outputs": [],
   "source": [
    "goal = np.sort(1/test)"
   ]
  },
  {
   "cell_type": "code",
   "execution_count": 16,
   "id": "a5d61212-13eb-4525-bfce-d8da5b196009",
   "metadata": {},
   "outputs": [
    {
     "data": {
      "text/plain": [
       "array([[4. , 5. , 3. , 1. , 2. ],\n",
       "       [0.3, 0.6, 0.2, 0.4, 0.1]])"
      ]
     },
     "execution_count": 16,
     "metadata": {},
     "output_type": "execute_result"
    }
   ],
   "source": [
    "test"
   ]
  },
  {
   "cell_type": "code",
   "execution_count": 17,
   "id": "454a7aee-d52a-4771-9150-ac066968d3f7",
   "metadata": {},
   "outputs": [
    {
     "data": {
      "text/plain": [
       "array([[ 0.25      ,  0.2       ,  0.33333333,  1.        ,  0.5       ],\n",
       "       [ 3.33333333,  1.66666667,  5.        ,  2.5       , 10.        ]])"
      ]
     },
     "execution_count": 17,
     "metadata": {},
     "output_type": "execute_result"
    }
   ],
   "source": [
    "1/test"
   ]
  },
  {
   "cell_type": "markdown",
   "id": "9c8dd075-35e2-4e87-953f-6f752478e4b2",
   "metadata": {},
   "source": [
    "Applying original method to test sample."
   ]
  },
  {
   "cell_type": "code",
   "execution_count": 18,
   "id": "7a7857ae-932b-44f3-8b02-0485c01a4991",
   "metadata": {},
   "outputs": [
    {
     "data": {
      "text/plain": [
       "array([[ 0.2       ,  0.25      ,  0.33333333,  0.5       ,  1.        ],\n",
       "       [ 1.66666667,  2.5       ,  3.33333333,  5.        , 10.        ]])"
      ]
     },
     "execution_count": 18,
     "metadata": {},
     "output_type": "execute_result"
    }
   ],
   "source": [
    "np.sort(1/test)[:,:] #invert numbers, sort ascending #ORIGINAL METHOD DF1\n",
    "#this has the effect of putting non inverted values in descending order\n",
    "#i.e. distances sorted from largest to smallest\n",
    "#this means inverted values are in ascending order\n",
    "#taking last n points then returns the distances to closest n points \n",
    "#small values which become large when inverted"
   ]
  },
  {
   "cell_type": "markdown",
   "id": "89af72b9-7636-4b65-89eb-ba34b88f7302",
   "metadata": {},
   "source": [
    "Applying altered method to test sample."
   ]
  },
  {
   "cell_type": "code",
   "execution_count": 19,
   "id": "e3856968-7625-45b4-8960-091c288019d8",
   "metadata": {},
   "outputs": [
    {
     "data": {
      "text/plain": [
       "array([[ 1.        ,  0.5       ,  0.33333333,  0.25      ,  0.2       ],\n",
       "       [10.        ,  5.        ,  3.33333333,  2.5       ,  1.66666667]])"
      ]
     },
     "execution_count": 19,
     "metadata": {},
     "output_type": "execute_result"
    }
   ],
   "source": [
    "1/np.sort(test)[:,:] #sort ascending, invert numbers #NEW METHOD DF2\n",
    "# has the effect of putting non inverted values in ascending order\n",
    "#i.e. distances sorted from smallest to largest\n",
    "#this means inverted values are in descending order\n",
    "#taking last n points returns the distance to furthest n points\n",
    "#large values (which are small when inverted)"
   ]
  },
  {
   "cell_type": "markdown",
   "id": "775f41d8-75bf-4655-9278-38b002ef4328",
   "metadata": {},
   "source": [
    "DF1 Data"
   ]
  },
  {
   "cell_type": "code",
   "execution_count": 20,
   "id": "d70f497c-aae8-4e80-9f8b-458f8d632480",
   "metadata": {},
   "outputs": [
    {
     "data": {
      "text/plain": [
       "array([0.56319023, 0.56594864, 0.58014344, 0.70784193, 0.77397472,\n",
       "       0.83476917, 0.88411503, 0.88879414])"
      ]
     },
     "execution_count": 20,
     "metadata": {},
     "output_type": "execute_result"
    }
   ],
   "source": [
    "df1.iloc[0].values[:-3] #inverted distances"
   ]
  },
  {
   "cell_type": "code",
   "execution_count": 21,
   "id": "ea0315e7-0999-4a6f-9b45-7c9ff43da23c",
   "metadata": {},
   "outputs": [
    {
     "data": {
      "text/plain": [
       "array([1.77559898, 1.76694477, 1.72371164, 1.41274479, 1.29203187,\n",
       "       1.19793595, 1.13107454, 1.12511993])"
      ]
     },
     "execution_count": 21,
     "metadata": {},
     "output_type": "execute_result"
    }
   ],
   "source": [
    "1/df1.iloc[0].values[:-3] #normal distances"
   ]
  },
  {
   "cell_type": "markdown",
   "id": "75ef4c2a-e92f-44b1-88b5-7a55be0dc7dc",
   "metadata": {},
   "source": [
    "Above we see the inverted values are larger than df2, but the normal distances are smaller."
   ]
  },
  {
   "cell_type": "markdown",
   "id": "674dc6ec-ccfe-4a2d-9fb3-ba40e445ab44",
   "metadata": {},
   "source": [
    "DF2 Data"
   ]
  },
  {
   "cell_type": "code",
   "execution_count": 22,
   "id": "5b4eb23e-ff76-43bb-b526-b6ee4af9a2bb",
   "metadata": {},
   "outputs": [
    {
     "data": {
      "text/plain": [
       "array([0.32758493, 0.30684164, 0.29650353, 0.27302801, 0.2722123 ,\n",
       "       0.27219435, 0.2719027 , 0.2393047 ])"
      ]
     },
     "execution_count": 22,
     "metadata": {},
     "output_type": "execute_result"
    }
   ],
   "source": [
    "df2.iloc[0].values[:-3] #inverted distances"
   ]
  },
  {
   "cell_type": "code",
   "execution_count": 23,
   "id": "6ec8265e-1d7d-4513-94c8-6c441853369b",
   "metadata": {},
   "outputs": [
    {
     "data": {
      "text/plain": [
       "array([3.05264348, 3.25901004, 3.37264117, 3.66262791, 3.67360334,\n",
       "       3.67384549, 3.67778623, 4.17877287])"
      ]
     },
     "execution_count": 23,
     "metadata": {},
     "output_type": "execute_result"
    }
   ],
   "source": [
    "1/df2.iloc[0].values[:-3] #normal distances"
   ]
  },
  {
   "cell_type": "markdown",
   "id": "b6f29436-9f12-423a-a5b5-98f2872f1fb8",
   "metadata": {},
   "source": [
    "Above we see the inverted values are smaller than DF1 but the normal distances are larger.\n",
    "\n",
    "\n",
    "Using data by the new calculation method introduces an error which returns the distances to the furthest points which are treated as the n closest neighbours. The original method is correct as it returns the distnces to the n closest neighbours. It makes sense then that machine learning models perform worse when trained on DF2 as there is less relevant info in the included distance information.\n",
    "\n",
    "To fix this:"
   ]
  },
  {
   "cell_type": "code",
   "execution_count": 24,
   "id": "c3291d69-4ed2-440f-ae96-fb58a7600d4d",
   "metadata": {},
   "outputs": [
    {
     "data": {
      "text/plain": [
       "array([[ 0.5,  1. ],\n",
       "       [ 5. , 10. ]])"
      ]
     },
     "execution_count": 24,
     "metadata": {},
     "output_type": "execute_result"
    }
   ],
   "source": [
    "#inverted distances should return\n",
    "goal[:,-2:]"
   ]
  },
  {
   "cell_type": "code",
   "execution_count": 25,
   "id": "be0f7b2c-7968-4cf7-a3a3-f53737e4bcc1",
   "metadata": {},
   "outputs": [
    {
     "data": {
      "text/plain": [
       "array([[2. , 1. ],\n",
       "       [0.2, 0.1]])"
      ]
     },
     "execution_count": 25,
     "metadata": {},
     "output_type": "execute_result"
    }
   ],
   "source": [
    "#non-inverted distances should return:\n",
    "1/goal[:,-2:]"
   ]
  },
  {
   "cell_type": "code",
   "execution_count": 26,
   "id": "8266911a-6924-4a9f-a402-f8966a8370de",
   "metadata": {},
   "outputs": [
    {
     "data": {
      "text/plain": [
       "array([[4. , 5. , 3. , 1. , 2. ],\n",
       "       [0.3, 0.6, 0.2, 0.4, 0.1]])"
      ]
     },
     "execution_count": 26,
     "metadata": {},
     "output_type": "execute_result"
    }
   ],
   "source": [
    "test"
   ]
  },
  {
   "cell_type": "code",
   "execution_count": 29,
   "id": "273c9141-8c2a-4905-94e6-648ab11cb1b3",
   "metadata": {},
   "outputs": [
    {
     "data": {
      "text/plain": [
       "array([[ 0.5,  1. ],\n",
       "       [ 5. , 10. ]])"
      ]
     },
     "execution_count": 29,
     "metadata": {},
     "output_type": "execute_result"
    }
   ],
   "source": [
    "#getting inverted distances\n",
    "np.sort(1/test)[:,-2:]"
   ]
  },
  {
   "cell_type": "code",
   "execution_count": 30,
   "id": "217789f3-2572-493a-9049-6531b919f4a7",
   "metadata": {},
   "outputs": [
    {
     "data": {
      "text/plain": [
       "array([[2. , 1. ],\n",
       "       [0.2, 0.1]])"
      ]
     },
     "execution_count": 30,
     "metadata": {},
     "output_type": "execute_result"
    }
   ],
   "source": [
    "#getting normal distances\n",
    "-np.sort(-test)[:,-2:]"
   ]
  },
  {
   "cell_type": "code",
   "execution_count": 48,
   "id": "7f39e10f-cff1-4a67-a4a7-3613faefa0fa",
   "metadata": {},
   "outputs": [
    {
     "data": {
      "text/plain": [
       "array([[1. , 2. ],\n",
       "       [0.1, 0.2]])"
      ]
     },
     "execution_count": 48,
     "metadata": {},
     "output_type": "execute_result"
    }
   ],
   "source": [
    "np.sort(test)[:,:2]"
   ]
  },
  {
   "cell_type": "code",
   "execution_count": 57,
   "id": "42a91237-d37e-49c5-8749-26cc6a9b9af8",
   "metadata": {},
   "outputs": [
    {
     "data": {
      "text/plain": [
       "array([[ 1. ,  0.5],\n",
       "       [10. ,  5. ]])"
      ]
     },
     "execution_count": 57,
     "metadata": {},
     "output_type": "execute_result"
    }
   ],
   "source": [
    "-np.sort(-1/test)[:,:2]"
   ]
  },
  {
   "cell_type": "code",
   "execution_count": null,
   "id": "f6698b1e-c046-4a54-8b3b-92efbe5a6c1a",
   "metadata": {},
   "outputs": [],
   "source": []
  },
  {
   "cell_type": "code",
   "execution_count": null,
   "id": "b72e1a00-7b9f-400d-b54c-14bc6cf3fe8d",
   "metadata": {},
   "outputs": [],
   "source": []
  }
 ],
 "metadata": {
  "kernelspec": {
   "display_name": "Python 3 (ipykernel)",
   "language": "python",
   "name": "python3"
  },
  "language_info": {
   "codemirror_mode": {
    "name": "ipython",
    "version": 3
   },
   "file_extension": ".py",
   "mimetype": "text/x-python",
   "name": "python",
   "nbconvert_exporter": "python",
   "pygments_lexer": "ipython3",
   "version": "3.11.5"
  }
 },
 "nbformat": 4,
 "nbformat_minor": 5
}
